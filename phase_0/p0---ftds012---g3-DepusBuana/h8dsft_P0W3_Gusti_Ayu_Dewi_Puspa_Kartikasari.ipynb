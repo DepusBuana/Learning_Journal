{
 "cells": [
  {
   "cell_type": "markdown",
   "metadata": {},
   "source": [
    "**Using this template**\n",
    "\n",
    "1. Change notebook title to assignment title you working on, eg. `Graded Challenge 1 or Milestone 1`\n",
    "2. Put your identity such as name and batch number below notebook title.\n",
    "3. Write your description before do any work. State your purpose of this assignment and what you are trying to achieve. \n",
    "4. Look at the rubric of this assignment and make sure you understand the criteria.\n",
    "5. Code your solution in the cell provided below the working area section.\n",
    "6. State your conlusions, findings, and any other relevant information in the cell provided below the conclusions sections.\n",
    "7. Save this notebook and rename it to assignment title you working on  eg. `Graded Challenge 1 or Milestone 1`\n",
    "8. Push your assignment before deadline.\n",
    "9. Good Luck!"
   ]
  },
  {
   "cell_type": "markdown",
   "metadata": {},
   "source": [
    "# Notebook Title\n",
    "\n",
    "Graded Challenge 3\n",
    "\n",
    "Nama: Gusti Ayu Dewi Puspa Kartikasari\n",
    "\n",
    "Batch: 012"
   ]
  },
  {
   "cell_type": "markdown",
   "metadata": {},
   "source": [
    "## Description\n",
    "\n",
    "### Objective\n",
    "Do the steps stated in the GC problem and answer the questions\n",
    "\n",
    "\n",
    "### Problem Statement\n"
   ]
  },
  {
   "cell_type": "markdown",
   "metadata": {},
   "source": [
    "## Working Area\n",
    "\n",
    "```txt\n",
    "Put your code, analysis, everything below this line\n",
    "\n",
    "Make sure to check everything the rubric requires before you submit\n",
    "```"
   ]
  },
  {
   "cell_type": "markdown",
   "metadata": {},
   "source": [
    "### Salin query yang telah dibuat di Google Cloud Platform, tulislah pada bagian atas notebook\n",
    "\n",
    "select load_time, load_type,load_weight, dropoff_site\n",
    "\n",
    "from `bigquery-public-data.austin_waste.waste_and_diversion` as waste\n",
    "\n",
    "LIMIT 150000;"
   ]
  },
  {
   "cell_type": "markdown",
   "metadata": {},
   "source": [
    "### Import Library"
   ]
  },
  {
   "cell_type": "code",
   "execution_count": 1,
   "metadata": {},
   "outputs": [],
   "source": [
    "import pandas as pd\n",
    "import numpy as np"
   ]
  },
  {
   "cell_type": "code",
   "execution_count": 2,
   "metadata": {},
   "outputs": [],
   "source": [
    "df = pd.read_csv(r'h8dsft_P0GC3_Gusti_Ayu_Dewi_Puspa_Kartikasari.csv')"
   ]
  },
  {
   "cell_type": "markdown",
   "metadata": {},
   "source": [
    "### Tampilkan head dan tail dari dataset pada notebook!"
   ]
  },
  {
   "cell_type": "code",
   "execution_count": 3,
   "metadata": {},
   "outputs": [
    {
     "data": {
      "text/html": [
       "<div>\n",
       "<style scoped>\n",
       "    .dataframe tbody tr th:only-of-type {\n",
       "        vertical-align: middle;\n",
       "    }\n",
       "\n",
       "    .dataframe tbody tr th {\n",
       "        vertical-align: top;\n",
       "    }\n",
       "\n",
       "    .dataframe thead th {\n",
       "        text-align: right;\n",
       "    }\n",
       "</style>\n",
       "<table border=\"1\" class=\"dataframe\">\n",
       "  <thead>\n",
       "    <tr style=\"text-align: right;\">\n",
       "      <th></th>\n",
       "      <th>load_time</th>\n",
       "      <th>load_type</th>\n",
       "      <th>load_weight</th>\n",
       "      <th>dropoff_site</th>\n",
       "    </tr>\n",
       "  </thead>\n",
       "  <tbody>\n",
       "    <tr>\n",
       "      <th>0</th>\n",
       "      <td>2009-08-07 11:51:00 UTC</td>\n",
       "      <td>RECYCLING - SINGLE STREAM</td>\n",
       "      <td>4400.0</td>\n",
       "      <td>MRF</td>\n",
       "    </tr>\n",
       "    <tr>\n",
       "      <th>1</th>\n",
       "      <td>2008-04-11 12:31:00 UTC</td>\n",
       "      <td>RECYCLING - PAPER</td>\n",
       "      <td>1920.0</td>\n",
       "      <td>MRF</td>\n",
       "    </tr>\n",
       "    <tr>\n",
       "      <th>2</th>\n",
       "      <td>2009-01-16 12:58:00 UTC</td>\n",
       "      <td>RECYCLING - SINGLE STREAM</td>\n",
       "      <td>4140.0</td>\n",
       "      <td>MRF</td>\n",
       "    </tr>\n",
       "    <tr>\n",
       "      <th>3</th>\n",
       "      <td>2009-07-10 11:21:00 UTC</td>\n",
       "      <td>RECYCLING - SINGLE STREAM</td>\n",
       "      <td>4020.0</td>\n",
       "      <td>MRF</td>\n",
       "    </tr>\n",
       "    <tr>\n",
       "      <th>4</th>\n",
       "      <td>2006-02-03 12:36:00 UTC</td>\n",
       "      <td>RECYCLING - COMINGLE</td>\n",
       "      <td>1700.0</td>\n",
       "      <td>MRF</td>\n",
       "    </tr>\n",
       "  </tbody>\n",
       "</table>\n",
       "</div>"
      ],
      "text/plain": [
       "                 load_time                  load_type  load_weight  \\\n",
       "0  2009-08-07 11:51:00 UTC  RECYCLING - SINGLE STREAM       4400.0   \n",
       "1  2008-04-11 12:31:00 UTC          RECYCLING - PAPER       1920.0   \n",
       "2  2009-01-16 12:58:00 UTC  RECYCLING - SINGLE STREAM       4140.0   \n",
       "3  2009-07-10 11:21:00 UTC  RECYCLING - SINGLE STREAM       4020.0   \n",
       "4  2006-02-03 12:36:00 UTC       RECYCLING - COMINGLE       1700.0   \n",
       "\n",
       "  dropoff_site  \n",
       "0          MRF  \n",
       "1          MRF  \n",
       "2          MRF  \n",
       "3          MRF  \n",
       "4          MRF  "
      ]
     },
     "execution_count": 3,
     "metadata": {},
     "output_type": "execute_result"
    }
   ],
   "source": [
    "df.head(5)"
   ]
  },
  {
   "cell_type": "code",
   "execution_count": 4,
   "metadata": {},
   "outputs": [
    {
     "data": {
      "text/html": [
       "<div>\n",
       "<style scoped>\n",
       "    .dataframe tbody tr th:only-of-type {\n",
       "        vertical-align: middle;\n",
       "    }\n",
       "\n",
       "    .dataframe tbody tr th {\n",
       "        vertical-align: top;\n",
       "    }\n",
       "\n",
       "    .dataframe thead th {\n",
       "        text-align: right;\n",
       "    }\n",
       "</style>\n",
       "<table border=\"1\" class=\"dataframe\">\n",
       "  <thead>\n",
       "    <tr style=\"text-align: right;\">\n",
       "      <th></th>\n",
       "      <th>load_time</th>\n",
       "      <th>load_type</th>\n",
       "      <th>load_weight</th>\n",
       "      <th>dropoff_site</th>\n",
       "    </tr>\n",
       "  </thead>\n",
       "  <tbody>\n",
       "    <tr>\n",
       "      <th>149995</th>\n",
       "      <td>2011-08-17 12:45:00 UTC</td>\n",
       "      <td>RECYCLING - SINGLE STREAM</td>\n",
       "      <td>13380.0</td>\n",
       "      <td>TDS - MRF</td>\n",
       "    </tr>\n",
       "    <tr>\n",
       "      <th>149996</th>\n",
       "      <td>2011-06-08 10:59:00 UTC</td>\n",
       "      <td>RECYCLING - SINGLE STREAM</td>\n",
       "      <td>14080.0</td>\n",
       "      <td>TDS - MRF</td>\n",
       "    </tr>\n",
       "    <tr>\n",
       "      <th>149997</th>\n",
       "      <td>2012-04-11 12:09:00 UTC</td>\n",
       "      <td>RECYCLING - SINGLE STREAM</td>\n",
       "      <td>14260.0</td>\n",
       "      <td>TDS - MRF</td>\n",
       "    </tr>\n",
       "    <tr>\n",
       "      <th>149998</th>\n",
       "      <td>2011-08-31 02:50:00 UTC</td>\n",
       "      <td>RECYCLING - SINGLE STREAM</td>\n",
       "      <td>4100.0</td>\n",
       "      <td>TDS - MRF</td>\n",
       "    </tr>\n",
       "    <tr>\n",
       "      <th>149999</th>\n",
       "      <td>2011-07-20 11:21:00 UTC</td>\n",
       "      <td>RECYCLING - SINGLE STREAM</td>\n",
       "      <td>6220.0</td>\n",
       "      <td>TDS - MRF</td>\n",
       "    </tr>\n",
       "  </tbody>\n",
       "</table>\n",
       "</div>"
      ],
      "text/plain": [
       "                      load_time                  load_type  load_weight  \\\n",
       "149995  2011-08-17 12:45:00 UTC  RECYCLING - SINGLE STREAM      13380.0   \n",
       "149996  2011-06-08 10:59:00 UTC  RECYCLING - SINGLE STREAM      14080.0   \n",
       "149997  2012-04-11 12:09:00 UTC  RECYCLING - SINGLE STREAM      14260.0   \n",
       "149998  2011-08-31 02:50:00 UTC  RECYCLING - SINGLE STREAM       4100.0   \n",
       "149999  2011-07-20 11:21:00 UTC  RECYCLING - SINGLE STREAM       6220.0   \n",
       "\n",
       "       dropoff_site  \n",
       "149995    TDS - MRF  \n",
       "149996    TDS - MRF  \n",
       "149997    TDS - MRF  \n",
       "149998    TDS - MRF  \n",
       "149999    TDS - MRF  "
      ]
     },
     "execution_count": 4,
     "metadata": {},
     "output_type": "execute_result"
    }
   ],
   "source": [
    "df.tail(5)"
   ]
  },
  {
   "cell_type": "markdown",
   "metadata": {},
   "source": [
    "1. Sebelum melakukan perhitungan dan analisa statistik, lakukan pembersihan data terlebih dahulu. Pastikan tidak ada missing value, dsb."
   ]
  },
  {
   "cell_type": "code",
   "execution_count": 5,
   "metadata": {},
   "outputs": [
    {
     "name": "stdout",
     "output_type": "stream",
     "text": [
      "<class 'pandas.core.frame.DataFrame'>\n",
      "RangeIndex: 150000 entries, 0 to 149999\n",
      "Data columns (total 4 columns):\n",
      "load_time       150000 non-null object\n",
      "load_type       150000 non-null object\n",
      "load_weight     144934 non-null float64\n",
      "dropoff_site    150000 non-null object\n",
      "dtypes: float64(1), object(3)\n",
      "memory usage: 4.6+ MB\n"
     ]
    }
   ],
   "source": [
    "df.info()"
   ]
  },
  {
   "cell_type": "markdown",
   "metadata": {},
   "source": [
    "Note: Terdapat missing value pada load weight"
   ]
  },
  {
   "cell_type": "code",
   "execution_count": 6,
   "metadata": {},
   "outputs": [
    {
     "data": {
      "text/html": [
       "<div>\n",
       "<style scoped>\n",
       "    .dataframe tbody tr th:only-of-type {\n",
       "        vertical-align: middle;\n",
       "    }\n",
       "\n",
       "    .dataframe tbody tr th {\n",
       "        vertical-align: top;\n",
       "    }\n",
       "\n",
       "    .dataframe thead th {\n",
       "        text-align: right;\n",
       "    }\n",
       "</style>\n",
       "<table border=\"1\" class=\"dataframe\">\n",
       "  <thead>\n",
       "    <tr style=\"text-align: right;\">\n",
       "      <th></th>\n",
       "      <th>load_weight</th>\n",
       "    </tr>\n",
       "  </thead>\n",
       "  <tbody>\n",
       "    <tr>\n",
       "      <th>count</th>\n",
       "      <td>144934.000000</td>\n",
       "    </tr>\n",
       "    <tr>\n",
       "      <th>mean</th>\n",
       "      <td>7133.694944</td>\n",
       "    </tr>\n",
       "    <tr>\n",
       "      <th>std</th>\n",
       "      <td>4610.055367</td>\n",
       "    </tr>\n",
       "    <tr>\n",
       "      <th>min</th>\n",
       "      <td>-4480.000000</td>\n",
       "    </tr>\n",
       "    <tr>\n",
       "      <th>25%</th>\n",
       "      <td>3400.000000</td>\n",
       "    </tr>\n",
       "    <tr>\n",
       "      <th>50%</th>\n",
       "      <td>5800.000000</td>\n",
       "    </tr>\n",
       "    <tr>\n",
       "      <th>75%</th>\n",
       "      <td>11220.000000</td>\n",
       "    </tr>\n",
       "    <tr>\n",
       "      <th>max</th>\n",
       "      <td>75000.000000</td>\n",
       "    </tr>\n",
       "  </tbody>\n",
       "</table>\n",
       "</div>"
      ],
      "text/plain": [
       "         load_weight\n",
       "count  144934.000000\n",
       "mean     7133.694944\n",
       "std      4610.055367\n",
       "min     -4480.000000\n",
       "25%      3400.000000\n",
       "50%      5800.000000\n",
       "75%     11220.000000\n",
       "max     75000.000000"
      ]
     },
     "execution_count": 6,
     "metadata": {},
     "output_type": "execute_result"
    }
   ],
   "source": [
    "df.describe()"
   ]
  },
  {
   "cell_type": "code",
   "execution_count": 7,
   "metadata": {},
   "outputs": [
    {
     "name": "stdout",
     "output_type": "stream",
     "text": [
      "jumlah nilai dibawah 0 :  1\n",
      "jumlah nilai bernilai 0 :  155\n",
      "jumlah nilai NaN :  5066\n"
     ]
    }
   ],
   "source": [
    "print('jumlah nilai dibawah 0 : ', df[df['load_weight'] < 0]['load_weight'].count())\n",
    "print('jumlah nilai bernilai 0 : ', df[df['load_weight'] == 0]['load_weight'].count())\n",
    "print('jumlah nilai NaN : ', df['load_weight'].isna().sum())"
   ]
  },
  {
   "cell_type": "markdown",
   "metadata": {},
   "source": [
    "Note: Total nilai yang perlu diperhatikan(NaN, 0 dan nilai minus): 1 + 155 + 5066 = 5222"
   ]
  },
  {
   "cell_type": "markdown",
   "metadata": {},
   "source": [
    "Note: Pilihan data NaN akan di drop diambil karena apabila mengganti Nan dengan median maka data site dengan dominan data NaN akan meningkat pesat, seperti clarkson yang hanya memiliki 1 data non-NaN dengan kemungkinan data ini merupakan nilai extreme.\n",
    "Berikut pembuktian bahwa data clarkson 1, dan median yang akan diambil merupakan satu-satunya data tersebut. Pembuktian:"
   ]
  },
  {
   "cell_type": "code",
   "execution_count": 9,
   "metadata": {},
   "outputs": [
    {
     "name": "stdout",
     "output_type": "stream",
     "text": [
      "median clarkson:  18640.0\n",
      "jumlah data non-NaN Clarkson:  1\n"
     ]
    }
   ],
   "source": [
    "print('median clarkson: ', df[df['dropoff_site'] == 'CLARKSON']['load_weight'].median())\n",
    "print('jumlah data non-NaN Clarkson: ', df[df['dropoff_site'] == 'CLARKSON']['load_weight'].count())"
   ]
  },
  {
   "cell_type": "markdown",
   "metadata": {},
   "source": [
    "Nilai median sebesar 18460 ini akan terulang terus menerus sehingga meningkatkan nilai rata-rata hingga extreme. Oleh karena itu data dengan nilai kurang dari dan sama dengan 0 akan diganti dengan NaN yang selanjutnya NaN akan di drop"
   ]
  },
  {
   "cell_type": "code",
   "execution_count": 10,
   "metadata": {},
   "outputs": [
    {
     "name": "stderr",
     "output_type": "stream",
     "text": [
      "c:\\ProgramData\\Anaconda3\\lib\\site-packages\\ipykernel_launcher.py:1: SettingWithCopyWarning: \n",
      "A value is trying to be set on a copy of a slice from a DataFrame\n",
      "\n",
      "See the caveats in the documentation: http://pandas.pydata.org/pandas-docs/stable/indexing.html#indexing-view-versus-copy\n",
      "  \"\"\"Entry point for launching an IPython kernel.\n"
     ]
    }
   ],
   "source": [
    "df['load_weight'][df['load_weight'] <= 0] = np.nan"
   ]
  },
  {
   "cell_type": "code",
   "execution_count": 11,
   "metadata": {},
   "outputs": [
    {
     "name": "stdout",
     "output_type": "stream",
     "text": [
      "<class 'pandas.core.frame.DataFrame'>\n",
      "RangeIndex: 150000 entries, 0 to 149999\n",
      "Data columns (total 4 columns):\n",
      "load_time       150000 non-null object\n",
      "load_type       150000 non-null object\n",
      "load_weight     144778 non-null float64\n",
      "dropoff_site    150000 non-null object\n",
      "dtypes: float64(1), object(3)\n",
      "memory usage: 4.6+ MB\n"
     ]
    }
   ],
   "source": [
    "df.info()"
   ]
  },
  {
   "cell_type": "markdown",
   "metadata": {},
   "source": [
    "Drop nilai NaN"
   ]
  },
  {
   "cell_type": "code",
   "execution_count": 13,
   "metadata": {},
   "outputs": [],
   "source": [
    "df = df.dropna()"
   ]
  },
  {
   "cell_type": "code",
   "execution_count": 14,
   "metadata": {},
   "outputs": [
    {
     "name": "stdout",
     "output_type": "stream",
     "text": [
      "<class 'pandas.core.frame.DataFrame'>\n",
      "Int64Index: 144778 entries, 0 to 149999\n",
      "Data columns (total 4 columns):\n",
      "load_time       144778 non-null object\n",
      "load_type       144778 non-null object\n",
      "load_weight     144778 non-null float64\n",
      "dropoff_site    144778 non-null object\n",
      "dtypes: float64(1), object(3)\n",
      "memory usage: 5.5+ MB\n"
     ]
    }
   ],
   "source": [
    "df.info()"
   ]
  },
  {
   "cell_type": "markdown",
   "metadata": {},
   "source": [
    "Note: Data minus, 0 dan NaN sudah di drop; pembuktian: perubahan 150000 menjadi 144778, berkurang 5222 sesuai dengan jumlah data dibawah 1, 0 dan NaN "
   ]
  },
  {
   "cell_type": "markdown",
   "metadata": {},
   "source": [
    "2. Selanjutnya, lakukan eksplorasi data sederhana guna mengetahui dan mengenali data yang kamu punya. Kamu bisa lakukan hal-hal berikut untuk mengeksplorasi data kamu."
   ]
  },
  {
   "cell_type": "markdown",
   "metadata": {},
   "source": [
    "a. melihat rentang waktu pengambilan data serta jumlah datanya"
   ]
  },
  {
   "cell_type": "code",
   "execution_count": 15,
   "metadata": {},
   "outputs": [
    {
     "name": "stdout",
     "output_type": "stream",
     "text": [
      "rentang waktu pengambilan data site  MRF adalah:  2000-01-26 12:39:00  s/d  2021-07-11 07:07:05 ; 7836 days 18:28:05 ; 89456 data\n",
      "rentang waktu pengambilan data site  ELMONT adalah:  2005-04-27 03:36:00  s/d  2014-01-22 07:45:00 ; 3192 days 04:09:00 ; 5 data\n",
      "rentang waktu pengambilan data site  KRAMER adalah:  2004-11-09 01:11:00  s/d  2006-05-25 01:07:00 ; 561 days 23:56:00 ; 3 data\n",
      "rentang waktu pengambilan data site  WILCAB adalah:  2005-10-12 11:38:00  s/d  2016-09-16 12:00:00 ; 3992 days 00:22:00 ; 9 data\n",
      "rentang waktu pengambilan data site  ZILKER adalah:  2006-05-12 01:00:00  s/d  2020-05-18 03:44:00 ; 5120 days 02:44:00 ; 909 data\n",
      "rentang waktu pengambilan data site  CLARKSON adalah:  2005-05-26 11:34:00  s/d  2005-05-26 11:34:00 ; 0 days 00:00:00 ; 1 data\n",
      "rentang waktu pengambilan data site  PARK BEND adalah:  2006-12-11 09:35:00  s/d  2021-06-18 02:01:00 ; 5302 days 16:26:00 ; 386 data\n",
      "rentang waktu pengambilan data site  TDS - MRF adalah:  2010-10-01 02:38:00  s/d  2021-07-11 07:04:46 ; 3936 days 04:26:46 ; 54009 data\n"
     ]
    }
   ],
   "source": [
    "from datetime import datetime\n",
    "\n",
    "site = df.dropoff_site.unique()\n",
    "\n",
    "\n",
    "for i in site:\n",
    "    dfmin = pd.to_datetime(df.load_time[df['dropoff_site']==i].min())\n",
    "    dfmax =  pd.to_datetime(df.load_time[df['dropoff_site']==i].max())\n",
    "    print('rentang waktu pengambilan data site ', i ,'adalah: ', dfmin, ' s/d ', dfmax, ';', dfmax-dfmin, ';', df.load_weight[df['dropoff_site']==i].count(), 'data')\n"
   ]
  },
  {
   "cell_type": "markdown",
   "metadata": {},
   "source": [
    "Note: Jumlah data perhari teratas dimiliki oleh site TDS-MRF."
   ]
  },
  {
   "cell_type": "markdown",
   "metadata": {},
   "source": [
    "b. melihat jenis-jenis load type dan total load weight nya selama pengumpulan data"
   ]
  },
  {
   "cell_type": "code",
   "execution_count": 16,
   "metadata": {},
   "outputs": [
    {
     "data": {
      "text/html": [
       "<div>\n",
       "<style scoped>\n",
       "    .dataframe tbody tr th:only-of-type {\n",
       "        vertical-align: middle;\n",
       "    }\n",
       "\n",
       "    .dataframe tbody tr th {\n",
       "        vertical-align: top;\n",
       "    }\n",
       "\n",
       "    .dataframe thead th {\n",
       "        text-align: right;\n",
       "    }\n",
       "</style>\n",
       "<table border=\"1\" class=\"dataframe\">\n",
       "  <thead>\n",
       "    <tr style=\"text-align: right;\">\n",
       "      <th></th>\n",
       "      <th>load_weight</th>\n",
       "    </tr>\n",
       "    <tr>\n",
       "      <th>load_type</th>\n",
       "      <th></th>\n",
       "    </tr>\n",
       "  </thead>\n",
       "  <tbody>\n",
       "    <tr>\n",
       "      <th>RECYCLING - SINGLE STREAM</th>\n",
       "      <td>761449117.0</td>\n",
       "    </tr>\n",
       "    <tr>\n",
       "      <th>RECYCLING - PAPER</th>\n",
       "      <td>141088180.0</td>\n",
       "    </tr>\n",
       "    <tr>\n",
       "      <th>RECYCLING - COMINGLE</th>\n",
       "      <td>101049209.0</td>\n",
       "    </tr>\n",
       "    <tr>\n",
       "      <th>GARBAGE COLLECTIONS</th>\n",
       "      <td>14233820.0</td>\n",
       "    </tr>\n",
       "    <tr>\n",
       "      <th>YARD TRIMMING</th>\n",
       "      <td>8560222.0</td>\n",
       "    </tr>\n",
       "    <tr>\n",
       "      <th>BRUSH</th>\n",
       "      <td>3275810.0</td>\n",
       "    </tr>\n",
       "    <tr>\n",
       "      <th>TIRES</th>\n",
       "      <td>2973758.0</td>\n",
       "    </tr>\n",
       "    <tr>\n",
       "      <th>SWEEPING</th>\n",
       "      <td>496417.0</td>\n",
       "    </tr>\n",
       "    <tr>\n",
       "      <th>RECYCLED METAL</th>\n",
       "      <td>370190.0</td>\n",
       "    </tr>\n",
       "    <tr>\n",
       "      <th>BULK</th>\n",
       "      <td>236660.0</td>\n",
       "    </tr>\n",
       "    <tr>\n",
       "      <th>ORGANICS</th>\n",
       "      <td>82820.0</td>\n",
       "    </tr>\n",
       "    <tr>\n",
       "      <th>MIXED LITTER</th>\n",
       "      <td>42820.0</td>\n",
       "    </tr>\n",
       "    <tr>\n",
       "      <th>MULCH</th>\n",
       "      <td>18740.0</td>\n",
       "    </tr>\n",
       "    <tr>\n",
       "      <th>LITTER</th>\n",
       "      <td>16800.0</td>\n",
       "    </tr>\n",
       "    <tr>\n",
       "      <th>DEAD ANIMAL</th>\n",
       "      <td>9700.0</td>\n",
       "    </tr>\n",
       "    <tr>\n",
       "      <th>YARD TRIMMING - X-MAS TREES</th>\n",
       "      <td>7500.0</td>\n",
       "    </tr>\n",
       "    <tr>\n",
       "      <th>CONTAMINATED RECYCLING</th>\n",
       "      <td>6980.0</td>\n",
       "    </tr>\n",
       "    <tr>\n",
       "      <th>RECYCLING - PLASTIC BAGS</th>\n",
       "      <td>680.0</td>\n",
       "    </tr>\n",
       "  </tbody>\n",
       "</table>\n",
       "</div>"
      ],
      "text/plain": [
       "                             load_weight\n",
       "load_type                               \n",
       "RECYCLING - SINGLE STREAM    761449117.0\n",
       "RECYCLING - PAPER            141088180.0\n",
       "RECYCLING - COMINGLE         101049209.0\n",
       "GARBAGE COLLECTIONS           14233820.0\n",
       "YARD TRIMMING                  8560222.0\n",
       "BRUSH                          3275810.0\n",
       "TIRES                          2973758.0\n",
       "SWEEPING                        496417.0\n",
       "RECYCLED METAL                  370190.0\n",
       "BULK                            236660.0\n",
       "ORGANICS                         82820.0\n",
       "MIXED LITTER                     42820.0\n",
       "MULCH                            18740.0\n",
       "LITTER                           16800.0\n",
       "DEAD ANIMAL                       9700.0\n",
       "YARD TRIMMING - X-MAS TREES       7500.0\n",
       "CONTAMINATED RECYCLING            6980.0\n",
       "RECYCLING - PLASTIC BAGS           680.0"
      ]
     },
     "execution_count": 16,
     "metadata": {},
     "output_type": "execute_result"
    }
   ],
   "source": [
    "df.groupby([\"load_type\"])[[\"load_weight\"]].sum().sort_values(by=\"load_weight\", ascending=False) "
   ]
  },
  {
   "cell_type": "markdown",
   "metadata": {},
   "source": [
    "Note: 3 jenis load_type tertinggi adalah recycling - single stream, recycling - paper, recycling - comingle"
   ]
  },
  {
   "cell_type": "markdown",
   "metadata": {},
   "source": [
    "c. total load weight per site selama pengumpulan data"
   ]
  },
  {
   "cell_type": "code",
   "execution_count": 17,
   "metadata": {},
   "outputs": [
    {
     "data": {
      "text/html": [
       "<div>\n",
       "<style scoped>\n",
       "    .dataframe tbody tr th:only-of-type {\n",
       "        vertical-align: middle;\n",
       "    }\n",
       "\n",
       "    .dataframe tbody tr th {\n",
       "        vertical-align: top;\n",
       "    }\n",
       "\n",
       "    .dataframe thead th {\n",
       "        text-align: right;\n",
       "    }\n",
       "</style>\n",
       "<table border=\"1\" class=\"dataframe\">\n",
       "  <thead>\n",
       "    <tr style=\"text-align: right;\">\n",
       "      <th></th>\n",
       "      <th>load_weight</th>\n",
       "    </tr>\n",
       "    <tr>\n",
       "      <th>dropoff_site</th>\n",
       "      <th></th>\n",
       "    </tr>\n",
       "  </thead>\n",
       "  <tbody>\n",
       "    <tr>\n",
       "      <th>TDS - MRF</th>\n",
       "      <td>546569827.0</td>\n",
       "    </tr>\n",
       "    <tr>\n",
       "      <th>MRF</th>\n",
       "      <td>475345737.0</td>\n",
       "    </tr>\n",
       "    <tr>\n",
       "      <th>ZILKER</th>\n",
       "      <td>8872712.0</td>\n",
       "    </tr>\n",
       "    <tr>\n",
       "      <th>PARK BEND</th>\n",
       "      <td>2901810.0</td>\n",
       "    </tr>\n",
       "    <tr>\n",
       "      <th>WILCAB</th>\n",
       "      <td>99200.0</td>\n",
       "    </tr>\n",
       "    <tr>\n",
       "      <th>ELMONT</th>\n",
       "      <td>76517.0</td>\n",
       "    </tr>\n",
       "    <tr>\n",
       "      <th>KRAMER</th>\n",
       "      <td>34980.0</td>\n",
       "    </tr>\n",
       "    <tr>\n",
       "      <th>CLARKSON</th>\n",
       "      <td>18640.0</td>\n",
       "    </tr>\n",
       "  </tbody>\n",
       "</table>\n",
       "</div>"
      ],
      "text/plain": [
       "              load_weight\n",
       "dropoff_site             \n",
       "TDS - MRF     546569827.0\n",
       "MRF           475345737.0\n",
       "ZILKER          8872712.0\n",
       "PARK BEND       2901810.0\n",
       "WILCAB            99200.0\n",
       "ELMONT            76517.0\n",
       "KRAMER            34980.0\n",
       "CLARKSON          18640.0"
      ]
     },
     "execution_count": 17,
     "metadata": {},
     "output_type": "execute_result"
    }
   ],
   "source": [
    "df.groupby([\"dropoff_site\"])[[\"load_weight\"]].sum().sort_values(by=\"load_weight\", ascending=False)"
   ]
  },
  {
   "cell_type": "markdown",
   "metadata": {},
   "source": [
    "Note: Total load_weight terbanyak selama pengambilan data dimiliki oleh TDS-MRF"
   ]
  },
  {
   "cell_type": "markdown",
   "metadata": {},
   "source": [
    "d. jumlah data per site"
   ]
  },
  {
   "cell_type": "code",
   "execution_count": 18,
   "metadata": {},
   "outputs": [
    {
     "data": {
      "text/html": [
       "<div>\n",
       "<style scoped>\n",
       "    .dataframe tbody tr th:only-of-type {\n",
       "        vertical-align: middle;\n",
       "    }\n",
       "\n",
       "    .dataframe tbody tr th {\n",
       "        vertical-align: top;\n",
       "    }\n",
       "\n",
       "    .dataframe thead th {\n",
       "        text-align: right;\n",
       "    }\n",
       "</style>\n",
       "<table border=\"1\" class=\"dataframe\">\n",
       "  <thead>\n",
       "    <tr style=\"text-align: right;\">\n",
       "      <th></th>\n",
       "      <th>load_weight</th>\n",
       "    </tr>\n",
       "    <tr>\n",
       "      <th>dropoff_site</th>\n",
       "      <th></th>\n",
       "    </tr>\n",
       "  </thead>\n",
       "  <tbody>\n",
       "    <tr>\n",
       "      <th>MRF</th>\n",
       "      <td>89456</td>\n",
       "    </tr>\n",
       "    <tr>\n",
       "      <th>TDS - MRF</th>\n",
       "      <td>54009</td>\n",
       "    </tr>\n",
       "    <tr>\n",
       "      <th>ZILKER</th>\n",
       "      <td>909</td>\n",
       "    </tr>\n",
       "    <tr>\n",
       "      <th>PARK BEND</th>\n",
       "      <td>386</td>\n",
       "    </tr>\n",
       "    <tr>\n",
       "      <th>WILCAB</th>\n",
       "      <td>9</td>\n",
       "    </tr>\n",
       "    <tr>\n",
       "      <th>ELMONT</th>\n",
       "      <td>5</td>\n",
       "    </tr>\n",
       "    <tr>\n",
       "      <th>KRAMER</th>\n",
       "      <td>3</td>\n",
       "    </tr>\n",
       "    <tr>\n",
       "      <th>CLARKSON</th>\n",
       "      <td>1</td>\n",
       "    </tr>\n",
       "  </tbody>\n",
       "</table>\n",
       "</div>"
      ],
      "text/plain": [
       "              load_weight\n",
       "dropoff_site             \n",
       "MRF                 89456\n",
       "TDS - MRF           54009\n",
       "ZILKER                909\n",
       "PARK BEND             386\n",
       "WILCAB                  9\n",
       "ELMONT                  5\n",
       "KRAMER                  3\n",
       "CLARKSON                1"
      ]
     },
     "execution_count": 18,
     "metadata": {},
     "output_type": "execute_result"
    }
   ],
   "source": [
    "df.groupby([\"dropoff_site\"])[[\"load_weight\"]].count().sort_values(by=\"load_weight\", ascending=False)"
   ]
  },
  {
   "cell_type": "markdown",
   "metadata": {},
   "source": [
    "Note: 3 site dengan data terbanyak yaitu MRF, TDS-MRF, dan Zilker"
   ]
  },
  {
   "cell_type": "markdown",
   "metadata": {},
   "source": [
    "e. % load weight per site"
   ]
  },
  {
   "cell_type": "code",
   "execution_count": 19,
   "metadata": {},
   "outputs": [
    {
     "data": {
      "text/html": [
       "<div>\n",
       "<style scoped>\n",
       "    .dataframe tbody tr th:only-of-type {\n",
       "        vertical-align: middle;\n",
       "    }\n",
       "\n",
       "    .dataframe tbody tr th {\n",
       "        vertical-align: top;\n",
       "    }\n",
       "\n",
       "    .dataframe thead th {\n",
       "        text-align: right;\n",
       "    }\n",
       "</style>\n",
       "<table border=\"1\" class=\"dataframe\">\n",
       "  <thead>\n",
       "    <tr style=\"text-align: right;\">\n",
       "      <th></th>\n",
       "      <th>load_weight</th>\n",
       "    </tr>\n",
       "    <tr>\n",
       "      <th>dropoff_site</th>\n",
       "      <th></th>\n",
       "    </tr>\n",
       "  </thead>\n",
       "  <tbody>\n",
       "    <tr>\n",
       "      <th>TDS - MRF</th>\n",
       "      <td>52.863871</td>\n",
       "    </tr>\n",
       "    <tr>\n",
       "      <th>MRF</th>\n",
       "      <td>45.975124</td>\n",
       "    </tr>\n",
       "    <tr>\n",
       "      <th>ZILKER</th>\n",
       "      <td>0.858163</td>\n",
       "    </tr>\n",
       "    <tr>\n",
       "      <th>PARK BEND</th>\n",
       "      <td>0.280661</td>\n",
       "    </tr>\n",
       "    <tr>\n",
       "      <th>WILCAB</th>\n",
       "      <td>0.009595</td>\n",
       "    </tr>\n",
       "    <tr>\n",
       "      <th>ELMONT</th>\n",
       "      <td>0.007401</td>\n",
       "    </tr>\n",
       "    <tr>\n",
       "      <th>KRAMER</th>\n",
       "      <td>0.003383</td>\n",
       "    </tr>\n",
       "    <tr>\n",
       "      <th>CLARKSON</th>\n",
       "      <td>0.001803</td>\n",
       "    </tr>\n",
       "  </tbody>\n",
       "</table>\n",
       "</div>"
      ],
      "text/plain": [
       "              load_weight\n",
       "dropoff_site             \n",
       "TDS - MRF       52.863871\n",
       "MRF             45.975124\n",
       "ZILKER           0.858163\n",
       "PARK BEND        0.280661\n",
       "WILCAB           0.009595\n",
       "ELMONT           0.007401\n",
       "KRAMER           0.003383\n",
       "CLARKSON         0.001803"
      ]
     },
     "execution_count": 19,
     "metadata": {},
     "output_type": "execute_result"
    }
   ],
   "source": [
    "total = df.load_weight.sum()\n",
    "weighted_score = df.groupby([\"dropoff_site\"])[[\"load_weight\"]].sum()/total*100\n",
    "weighted_score.sort_values(by=\"load_weight\", ascending=False)"
   ]
  },
  {
   "cell_type": "markdown",
   "metadata": {},
   "source": [
    "Note: site yang memiliki persentase load weight (load_weight / total load weight semua site) tertinggi yaitu TDS-MRF. Tabel ini menunjukkan adanya pembebanan yang tidak merata antar site."
   ]
  },
  {
   "cell_type": "markdown",
   "metadata": {},
   "source": [
    "3. Berdasarkan central tendency (mean, median, dan modus) untuk masing-masing site, insight/informasi apa yang bisa kamu sampaikan kepada pemerintah kota?"
   ]
  },
  {
   "cell_type": "code",
   "execution_count": 33,
   "metadata": {},
   "outputs": [
    {
     "data": {
      "text/html": [
       "<div>\n",
       "<style scoped>\n",
       "    .dataframe tbody tr th:only-of-type {\n",
       "        vertical-align: middle;\n",
       "    }\n",
       "\n",
       "    .dataframe tbody tr th {\n",
       "        vertical-align: top;\n",
       "    }\n",
       "\n",
       "    .dataframe thead th {\n",
       "        text-align: right;\n",
       "    }\n",
       "</style>\n",
       "<table border=\"1\" class=\"dataframe\">\n",
       "  <thead>\n",
       "    <tr style=\"text-align: right;\">\n",
       "      <th></th>\n",
       "      <th>sum</th>\n",
       "      <th>mean</th>\n",
       "      <th>median</th>\n",
       "      <th>mode</th>\n",
       "    </tr>\n",
       "    <tr>\n",
       "      <th>dropoff_site</th>\n",
       "      <th></th>\n",
       "      <th></th>\n",
       "      <th></th>\n",
       "      <th></th>\n",
       "    </tr>\n",
       "  </thead>\n",
       "  <tbody>\n",
       "    <tr>\n",
       "      <th>CLARKSON</th>\n",
       "      <td>18640.0</td>\n",
       "      <td>18640.000000</td>\n",
       "      <td>18640.0</td>\n",
       "      <td>18640</td>\n",
       "    </tr>\n",
       "    <tr>\n",
       "      <th>ELMONT</th>\n",
       "      <td>76517.0</td>\n",
       "      <td>15303.400000</td>\n",
       "      <td>12560.0</td>\n",
       "      <td>[5480.0, 11720.0, 12560.0, 14900.0, 31857.0]</td>\n",
       "    </tr>\n",
       "    <tr>\n",
       "      <th>KRAMER</th>\n",
       "      <td>34980.0</td>\n",
       "      <td>11660.000000</td>\n",
       "      <td>11400.0</td>\n",
       "      <td>[3980.0, 11400.0, 19600.0]</td>\n",
       "    </tr>\n",
       "    <tr>\n",
       "      <th>WILCAB</th>\n",
       "      <td>99200.0</td>\n",
       "      <td>11022.222222</td>\n",
       "      <td>10380.0</td>\n",
       "      <td>[2100.0, 3780.0, 6360.0, 9880.0, 10380.0, 1180...</td>\n",
       "    </tr>\n",
       "    <tr>\n",
       "      <th>TDS - MRF</th>\n",
       "      <td>546569827.0</td>\n",
       "      <td>10119.976800</td>\n",
       "      <td>10960.0</td>\n",
       "      <td>12300</td>\n",
       "    </tr>\n",
       "    <tr>\n",
       "      <th>ZILKER</th>\n",
       "      <td>8872712.0</td>\n",
       "      <td>9760.959296</td>\n",
       "      <td>8750.0</td>\n",
       "      <td>15000</td>\n",
       "    </tr>\n",
       "    <tr>\n",
       "      <th>PARK BEND</th>\n",
       "      <td>2901810.0</td>\n",
       "      <td>7517.642487</td>\n",
       "      <td>5500.0</td>\n",
       "      <td>5500</td>\n",
       "    </tr>\n",
       "    <tr>\n",
       "      <th>MRF</th>\n",
       "      <td>475345737.0</td>\n",
       "      <td>5313.737893</td>\n",
       "      <td>4260.0</td>\n",
       "      <td>3460</td>\n",
       "    </tr>\n",
       "  </tbody>\n",
       "</table>\n",
       "</div>"
      ],
      "text/plain": [
       "                      sum          mean   median  \\\n",
       "dropoff_site                                       \n",
       "CLARKSON          18640.0  18640.000000  18640.0   \n",
       "ELMONT            76517.0  15303.400000  12560.0   \n",
       "KRAMER            34980.0  11660.000000  11400.0   \n",
       "WILCAB            99200.0  11022.222222  10380.0   \n",
       "TDS - MRF     546569827.0  10119.976800  10960.0   \n",
       "ZILKER          8872712.0   9760.959296   8750.0   \n",
       "PARK BEND       2901810.0   7517.642487   5500.0   \n",
       "MRF           475345737.0   5313.737893   4260.0   \n",
       "\n",
       "                                                           mode  \n",
       "dropoff_site                                                     \n",
       "CLARKSON                                                  18640  \n",
       "ELMONT             [5480.0, 11720.0, 12560.0, 14900.0, 31857.0]  \n",
       "KRAMER                               [3980.0, 11400.0, 19600.0]  \n",
       "WILCAB        [2100.0, 3780.0, 6360.0, 9880.0, 10380.0, 1180...  \n",
       "TDS - MRF                                                 12300  \n",
       "ZILKER                                                    15000  \n",
       "PARK BEND                                                  5500  \n",
       "MRF                                                        3460  "
      ]
     },
     "execution_count": 33,
     "metadata": {},
     "output_type": "execute_result"
    }
   ],
   "source": [
    "df.groupby([\"dropoff_site\"])['load_weight'].aggregate(['sum','mean','median', pd.Series.mode ]).sort_values(by=\"mean\", ascending=False)"
   ]
  },
  {
   "cell_type": "markdown",
   "metadata": {},
   "source": [
    "Dari data diatas dapat dilihat rata-rata load-weight per penerimaan limbah per sitenya, dengan 5 data tertinggi yakni CLARKSON 18640.0, ELMONT 15303.4, KRAMER 11660.0, WILCAB 11022.2, dan TDS - MRF 10119.9. Dengan urutan posisi nilai tengah mengikuti urutan rata-rata. Masing-masing site memiliki jumlah load weight yang sering terulang dapat dilihat pada kolom modus. Namun nilai rata-rata, nilai tengah dan modus ini memiliki catatan khusus dimana WILCAB,ELMONT,KRAMER, dan CLARKSON hanya memiliki entry data dibawah 10. Hanya TDS MRF yang masuk ke dalam 5 rata-rata terbesar namun memiliki entry data yang banyak. Perbandingan rata-rata ini kurang tepat jika melihat hanya dari segi rata-rata saja perlu adanya pertimbangan untuk penambahan jumlah data atau analisa lebih lanjut."
   ]
  },
  {
   "cell_type": "markdown",
   "metadata": {},
   "source": [
    "4. Pilih site yang paling menarik perhatian kamu, dan berikan alasannya."
   ]
  },
  {
   "cell_type": "markdown",
   "metadata": {},
   "source": [
    "TDS - MRF, karena site ini memiliki jumlah total load_weight tertinggi, memiliki transaksi/hari terbanyak, termasuk 5 site dengan rata-rata tertinggi namun hanya satu-satunya dari top 5 yang memiliki data yang banyak,  dan 52.8% data load weight dimiliki oleh site ini."
   ]
  },
  {
   "cell_type": "markdown",
   "metadata": {},
   "source": [
    "5. Gunakan site yang kamu pilih untuk dicek apakah data load_weight ada outlier atau tidak. Gunakan teknik yang tepat sesuai dengan distribusi dari datanya!. Jika iya, berapa persen jumlah outliernya? dan bandingkan central tendency data yang telah dikeluarkan outliernya dengan yang belum (hasil dari perhitungan nomor 3)."
   ]
  },
  {
   "cell_type": "markdown",
   "metadata": {},
   "source": [
    "Memeriksa persebaran data menggunakan skewness dan kurtosis serta melihat grafik"
   ]
  },
  {
   "cell_type": "code",
   "execution_count": 21,
   "metadata": {},
   "outputs": [
    {
     "name": "stdout",
     "output_type": "stream",
     "text": [
      "skewness:  -0.0350809742320754\n",
      "kurtosis:  0.056500618934419045\n"
     ]
    },
    {
     "data": {
      "image/png": "[encoded data removed]",
      "text/plain": [
       "<Figure size 432x288 with 1 Axes>"
      ]
     },
     "metadata": {
      "needs_background": "light"
     },
     "output_type": "display_data"
    }
   ],
   "source": [
    "%matplotlib inline\n",
    "from matplotlib import pyplot as plt\n",
    "import scipy.stats as stats\n",
    "\n",
    "df_TDSMRF = df[df['dropoff_site'] == 'TDS - MRF']\n",
    "\n",
    "print('skewness: ', str(df_TDSMRF['load_weight'].skew()))\n",
    "print('kurtosis: ', str(df_TDSMRF['load_weight'].kurt()))\n",
    "\n",
    "df_TDSMRF['load_weight'].plot.hist(title='Load Weight Distribution in TDS-MRF', color='lightblue', bins=50)  \n",
    "plt.axvline(df_TDSMRF['load_weight'].mean(), color='magenta', linestyle='dashed', linewidth=2)\n",
    "plt.axvline(df_TDSMRF['load_weight'].median(), color='green', linestyle='dashed', linewidth=2)\n",
    "plt.show()"
   ]
  },
  {
   "cell_type": "markdown",
   "metadata": {},
   "source": [
    "Note: skewness -0.036 berada dalam range -0.5 sampai 0.5 sehingga data masih dapat diindikasikan sebagai normal distribution\n",
    "\n",
    "sehingga yang digunakan untuk mendeteksi outliers adalah z value,limit = mean +/- 3std"
   ]
  },
  {
   "cell_type": "markdown",
   "metadata": {},
   "source": [
    "Mencari standar deviation dan mengitung limit bawah dan atas outlier"
   ]
  },
  {
   "cell_type": "code",
   "execution_count": 22,
   "metadata": {},
   "outputs": [
    {
     "name": "stdout",
     "output_type": "stream",
     "text": [
      "std dev=  4398.779244267707\n",
      "lower =  10119.976800162936  - 3 *  4398.779244267707  =  -3076.3609326401856\n",
      "upper =  10119.976800162936  + 3 *  4398.779244267707  =  23316.31453296606\n"
     ]
    }
   ],
   "source": [
    "df_std = df_TDSMRF.load_weight.std()\n",
    "df_mean = df_TDSMRF.load_weight.mean()\n",
    "lower = df_mean - 3*df_std\n",
    "upper = df_mean + 3*df_std\n",
    "\n",
    "print('std dev= ', df_std)\n",
    "print('lower = ', df_mean, ' - 3 * ', df_std , ' = ', lower )\n",
    "print('upper = ', df_mean, ' + 3 * ', df_std , ' = ', upper )"
   ]
  },
  {
   "cell_type": "code",
   "execution_count": 23,
   "metadata": {},
   "outputs": [
    {
     "name": "stdout",
     "output_type": "stream",
     "text": [
      "outliers percentage:  0.3425355033420356 %\n"
     ]
    }
   ],
   "source": [
    "outliers = df_TDSMRF[(df_TDSMRF['load_weight'] < lower) |\n",
    " (df_TDSMRF['load_weight'] > upper)]\n",
    "print('outliers percentage: ', (outliers.load_weight.count()/df_TDSMRF.load_weight.count())*100, '%')"
   ]
  },
  {
   "cell_type": "markdown",
   "metadata": {},
   "source": [
    "Note: Jumlah outliers TDS-MRF hanya 0.34% dari total data, jumlah ini tidak signifikan"
   ]
  },
  {
   "cell_type": "code",
   "execution_count": 24,
   "metadata": {},
   "outputs": [],
   "source": [
    "#drop outliers columns\n",
    "\n",
    "df_TDSMRF_withoutoutliers = df_TDSMRF.copy()\n",
    "\n",
    "for i in outliers.index:\n",
    "    df_TDSMRF_withoutoutliers.drop(index = i, inplace= True)"
   ]
  },
  {
   "cell_type": "code",
   "execution_count": 25,
   "metadata": {},
   "outputs": [
    {
     "name": "stdout",
     "output_type": "stream",
     "text": [
      "mean before :  10119.976800162936  ; after : 10068.164053210463\n",
      "median before :  10960.0  ; after : 10940.0\n",
      "modus before :  12300.0  ; after : 12300.0\n"
     ]
    }
   ],
   "source": [
    "import statistics\n",
    "\n",
    "print('mean before : ', df_TDSMRF.load_weight.mean(), ' ; after :', df_TDSMRF_withoutoutliers.load_weight.mean())\n",
    "print('median before : ', df_TDSMRF.load_weight.median(), ' ; after :', df_TDSMRF_withoutoutliers.load_weight.median())\n",
    "print('modus before : ', statistics.mode(df_TDSMRF.load_weight), ' ; after :', statistics.mode(df_TDSMRF_withoutoutliers.load_weight))"
   ]
  },
  {
   "cell_type": "markdown",
   "metadata": {},
   "source": [
    "Note: Terjadi penurunan mean dan median dikarenakan pengurangan data akibat penghapusan data outlier, mengindikasikan bahwa outlier dominan atau seluruhnya bernilai positif"
   ]
  },
  {
   "cell_type": "markdown",
   "metadata": {},
   "source": [
    "6. Gunakan site yang telah kamu pilih untuk dihitung range, variance, dan standar deviasi untuk data load_weight. Berikan insight dari hasil perhitunganmu kepada pemerintah kota (Pastikan data yang digunakan adalah data yang sudah dibersihkan dari outlier)."
   ]
  },
  {
   "cell_type": "code",
   "execution_count": 26,
   "metadata": {},
   "outputs": [
    {
     "name": "stdout",
     "output_type": "stream",
     "text": [
      "range:  23280.0 hingga 20.0\n",
      "variance:  18615847.7156496\n",
      "standar deviasi:  4314.608639917368\n",
      "mean:  10068.164053210463\n"
     ]
    }
   ],
   "source": [
    "print('range: ', df_TDSMRF_withoutoutliers.load_weight.max(),'hingga', df_TDSMRF_withoutoutliers.load_weight.min())\n",
    "print('variance: ', df_TDSMRF_withoutoutliers.load_weight.var())\n",
    "print('standar deviasi: ', df_TDSMRF_withoutoutliers.load_weight.std())\n",
    "print('mean: ', df_TDSMRF_withoutoutliers.load_weight.mean())"
   ]
  },
  {
   "cell_type": "markdown",
   "metadata": {},
   "source": [
    "Site TDS - MRF setiap harinya menerima limbah dengan rata-rata limbah 10068 hingga 23010. Dengan jumlah limbah terendah yaitu 20 dan tertinggi yakni 232280."
   ]
  },
  {
   "cell_type": "markdown",
   "metadata": {},
   "source": [
    "7. Pemerintah kota berencana menambah site baru. Berikan analisa dan saran terkait berapa kapasitas penampungan di site baru berdasarkan perhitungan confidence interval. Data apa yang kamu gunakan, apakah hanya dari satu site saja atau dari keseluruhan site?"
   ]
  },
  {
   "cell_type": "code",
   "execution_count": 32,
   "metadata": {},
   "outputs": [
    {
     "name": "stdout",
     "output_type": "stream",
     "text": [
      "kapasitas site baru yaitu hingga:  16170.03\n"
     ]
    }
   ],
   "source": [
    "confidence_interval = stats.norm.interval(0.95, df.load_weight.mean(), df.load_weight.std())\n",
    "print('kapasitas site baru yaitu hingga: ', np.round(confidence_interval[1],decimals=2))"
   ]
  },
  {
   "cell_type": "markdown",
   "metadata": {},
   "source": [
    "Kapasitas site baru yang disarankan yaitu sebesar 16170.03 dengan toleransi 5% dari keseluruhan entry load weight dapat berada diluar kapasitas yang disarankan."
   ]
  },
  {
   "cell_type": "markdown",
   "metadata": {},
   "source": [
    "8. Buatlah analisa uji hipotesis dari data tersebut dari data yang tersedia (kasusnya dibebaskan). Definisikan H0 dan H1 nya serta lakukan perhitungan menggunakan t-test yang sesuai dengan hipotesis kamu. Tulis kesimpulan dari hasil perhitunganmu kepada pemerintah kota (Ingat! pemerintah kota tidak mengerti p-value, hipotesis diterima/tidak diterima)."
   ]
  },
  {
   "cell_type": "markdown",
   "metadata": {},
   "source": [
    "Ho : Mu TDS_MRF = Mu nonTDS_MRF\n",
    "\n",
    "H1 : Mu TDS_MRF > Mu nonTDS_MRF\n"
   ]
  },
  {
   "cell_type": "code",
   "execution_count": 39,
   "metadata": {},
   "outputs": [
    {
     "name": "stdout",
     "output_type": "stream",
     "text": [
      "nonTDSMRF:  5369.1193689475485\n",
      "TDSMRF   : 10119.976800162936\n"
     ]
    }
   ],
   "source": [
    "print('nonTDSMRF: ', daily_nonTDSMRF.load_weight.mean())\n",
    "print('TDSMRF   :',daily_TDSMRF.load_weight.mean())\n"
   ]
  },
  {
   "cell_type": "markdown",
   "metadata": {},
   "source": [
    "Ho : Mu TDS_MRF = Mu 5369.12\n",
    "\n",
    "H1 : Mu TDS_MRF > Mu 5369.12"
   ]
  },
  {
   "cell_type": "markdown",
   "metadata": {},
   "source": [
    "Note: Mu TDS_MRF (10119.98) vs (5369.12) Mu TDS_MRF sudah terlihat perbedaan hingga 46% TDS_MRF, mari buktikan dengan hypothesis testing"
   ]
  },
  {
   "cell_type": "code",
   "execution_count": 41,
   "metadata": {},
   "outputs": [
    {
     "name": "stdout",
     "output_type": "stream",
     "text": [
      "P-value: 0.0\n",
      "t-statistics: 250.999491185417\n"
     ]
    }
   ],
   "source": [
    "daily_nonTDSMRF = df[df['dropoff_site'] != 'TDS - MRF']\n",
    "daily_TDSMRF = df[df['dropoff_site'] == 'TDS - MRF']\n",
    "\n",
    "t_stat,p_val = stats.ttest_1samp(daily_TDSMRF.load_weight, 5369.12)\n",
    "print('P-value:',p_val/2) #The p-value divided by 2 since the output is two-sided p-value\n",
    "print('t-statistics:',t_stat)\n"
   ]
  },
  {
   "cell_type": "code",
   "execution_count": 42,
   "metadata": {},
   "outputs": [
    {
     "name": "stderr",
     "output_type": "stream",
     "text": [
      "c:\\ProgramData\\Anaconda3\\lib\\site-packages\\scipy\\stats\\stats.py:1713: FutureWarning: Using a non-tuple sequence for multidimensional indexing is deprecated; use `arr[tuple(seq)]` instead of `arr[seq]`. In the future this will be interpreted as an array index, `arr[np.array(seq)]`, which will result either in an error or a different result.\n",
      "  return np.add.reduce(sorted[indexer] * weights, axis=axis) / sumval\n"
     ]
    },
    {
     "data": {
      "text/plain": [
       "<matplotlib.legend.Legend at 0xd4e4e10>"
      ]
     },
     "execution_count": 42,
     "metadata": {},
     "output_type": "execute_result"
    },
    {
     "data": {
      "image/png": "[encoded data removed]",
      "text/plain": [
       "<Figure size 1152x360 with 1 Axes>"
      ]
     },
     "metadata": {
      "needs_background": "light"
     },
     "output_type": "display_data"
    }
   ],
   "source": [
    "import seaborn as sns\n",
    "\n",
    "TDSMRF_pop = np.random.normal(daily_TDSMRF.load_weight.mean(),daily_TDSMRF.load_weight.std(),150000)\n",
    "\n",
    "ci = stats.norm.interval(0.95, daily_TDSMRF.load_weight.mean(), daily_TDSMRF.load_weight.std())\n",
    "\n",
    "plt.figure(figsize=(16,5))\n",
    "sns.distplot(TDSMRF_pop, label='TDSMRF daily loading weight (population)',color='blue')\n",
    "plt.axvline(daily_TDSMRF.load_weight.mean(), color='blue', linewidth=2, label='TDSMRF mean')\n",
    "plt.axvline(ci[1], color='green', linestyle='dashed', linewidth=2, label='confidence threshold of 95%')\n",
    "plt.axvline(TDSMRF_pop.mean()+t_stat*TDSMRF_pop.std(), color='black', linestyle='dashed', linewidth=2, label = 'Alternative Hypothesis')\n",
    "plt.legend()"
   ]
  },
  {
   "cell_type": "markdown",
   "metadata": {},
   "source": [
    "9. Tarik benang merah dan kesimpulan dari perhitungan dan analisa yang kamu telah lakukan di langkah-langkah sebelumnya. Ceritakan kesimpulanmu kepada pemerintah kota dan hindari bahasa teknis yang tidak dimengerti oleh orang yang bukan data scientist!"
   ]
  },
  {
   "cell_type": "markdown",
   "metadata": {},
   "source": [
    "Dari analisa data yang dilakukan dapat diambil kesimpulan bahwa site TDS-MRF memiliki rata-rata lebih tinggi dibandingkan total load weight seluruh site lainnya. Hal ini mengindikasikan bahwa site TDS-MRF menanggung beban penampungan limbah lebih besar bahkan jika seluruh site lainnya ditotalkan. Apabila dilihat dari data yang ada rata-rata kapasitas maksimal perhari persitenya yaitu sebesar 16170, sedangkan TDS-MRF memiliki rata-rata 10068 hingga 23010 perharinya. Perhitungan ini semakin menjelaskan ketidak seimbangan alokasi limbah ke setiap sitenya, sehingga pemanfaatan site tidak maksimal. Pemerintah kota dapat berfokus ke pemerataan beban penampungan ini terlebih dahulu, kemudian melakukan pemantauan kembali untuk mengambil keputusan apakah perlu membuka site baru."
   ]
  },
  {
   "cell_type": "markdown",
   "metadata": {},
   "source": [
    "Jawab pertanyaan berikut untuk mengasah pemahaman konsepmu!\n",
    "\n",
    "1. Apa perbedaan statistik deskriptif dan inferensial?\n",
    "\n",
    "Statistik deskriptif digunakan untuk mendeskripsikan data, baik dari karakter data (central tendency, quartil and distribution and density) maupun grafik. Sedangkan inferensial bertujuan untuk mengambil kesimpulan akan suatu populasi dengan melakukan analisis  dan hipotesis testing dari sample.\n",
    "\n",
    "2. Metrik pada central tendency apa yang tepat digunakan untuk menyimpulkan data yang terdistribusi normal dan tidak? Apakah sama atau berbeda?\n",
    "\n",
    "Metrik mean dan median dapat digunakan untuk mengetahui apakah data terdistribusi normal atau tidak. Posisi dan jarak kedua metrik ini menentukan, dimana apabila berdekatan maka data terdistribusi normal. Namun apabila berjauhan, jika mean berada jauh di kiri median maka data left tailed skewed, jika mean jauh di kanan median maka data right tailed skewed.\n",
    "\n",
    "3. Teknik apa yang kamu pilih untuk handling outlier? jelaskan alasannya!\n",
    "\n",
    "Z-scores, dikarenakan data yang digunakan terdistribusi normal.\n",
    "\n",
    "4. Apa konsep dibalik central tendency sehingga kita dapat menggunakannya untuk menyelesaikan langkah pada nomor 7?\n",
    "\n",
    "Central tendency menjelaskan bahwa suatu populasi data memiliki kencenderungan berkisar atau berpusat pada titik rata-rata dan median. Oleh karena itu dengan kepercayaan 95% maka dapat dikatakan bahwa 95% data yang didapatkan akan berada disekitar rata-rata dengan kemungkinan 5% data berada diluar perhitungan/abnormal. Hal ini dapat digunakan untuk menghitung kapasitas (nomor 7) dikarenakan dengan central tendency dan perhitungan confidence interval kita dapat menghitung batas atas dan batas bawah dari 95% data yang akan didapatkan kedepannya, dapat dikatakan sebagai kita memperkirakan 95% data load weight perhari yang didapatkan oleh site baru dengan toleransi eror sebesar 5%.\n",
    "\n",
    "5. Jelaskan jenis uji hipotesis apa yang kamu terapkan dan mengapa?\n",
    "\n",
    "Two sample independent, dikarenakan uji hipotesis ini membandingkan dua variable berbeda yang tidak saling berhubungan."
   ]
  },
  {
   "cell_type": "markdown",
   "metadata": {},
   "source": [
    "## Conclusions, Assumptions, Overall Analysis\n",
    "\n",
    "Dari analisa data yang dilakukan didapati TDS-MRF memiliki jumlah total load_weight tertinggi, memiliki transaksi/hari terbanyak, termasuk 5 site dengan rata-rata tertinggi dan merupakan satu-satunya dari top 5 tersebut yang memiliki data yang banyak, dan 52.8% data load weight dari keseluruhan site pada  Austin Smart City ditampung oleh site ini. Lalu dilakukan hipothesis testing untuk membuktikan apakah TDS-MRF memiliki beban penampungan yang lebih tinggi dibanding site lainnya. Hasil uji hipotesis menghasilkan kesimpulan bahwa site TDS-MRF memiliki rata-rata lebih tinggi dibandingkan total load weight seluruh site lainnya. Apabila dilihat dari data yang ada rata-rata kapasitas maksimal perhari persitenya yaitu sebesar 16170, sedangkan TDS-MRF memiliki rata-rata 10068 hingga 23010 perharinya. Perhitungan ini semakin menjelaskan bahwa pemanfaatan site tidak maksimal. Pemerintah kota dapat berfokus ke pemerataan beban penampungan ini terlebih dahulu, kemudian melakukan pemantauan kembali untuk mengambil keputusan apakah perlu membuka site baru."
   ]
  }
 ],
 "metadata": {
  "interpreter": {
   "hash": "ad2bdc8ecc057115af97d19610ffacc2b4e99fae6737bb82f5d7fb13d2f2c186"
  },
  "kernelspec": {
   "display_name": "Python 3.7.0 ('base')",
   "language": "python",
   "name": "python3"
  },
  "language_info": {
   "codemirror_mode": {
    "name": "ipython",
    "version": 3
   },
   "file_extension": ".py",
   "mimetype": "text/x-python",
   "name": "python",
   "nbconvert_exporter": "python",
   "pygments_lexer": "ipython3",
   "version": "3.7.0"
  },
  "orig_nbformat": 4
 },
 "nbformat": 4,
 "nbformat_minor": 2
}
