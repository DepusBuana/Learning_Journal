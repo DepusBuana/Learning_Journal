{
 "cells": [
  {
   "cell_type": "markdown",
   "metadata": {},
   "source": [
    "**Using this template**\n",
    "\n",
    "1. Change notebook title to assignment title you working on, eg. `Graded Challenge 1 or Milestone 1`\n",
    "2. Put your identity such as name and batch number below notebook title.\n",
    "3. Write your description before do any work. State your purpose of this assignment and what you are trying to achieve. \n",
    "4. Look at the rubric of this assignment and make sure you understand the criteria.\n",
    "5. Code your solution in the cell provided below the working area section.\n",
    "6. State your conlusions, findings, and any other relevant information in the cell provided below the conclusions sections.\n",
    "7. Save this notebook and rename it to assignment title you working on  eg. `Graded Challenge 1 or Milestone 1`\n",
    "8. Push your assignment before deadline.\n",
    "9. Good Luck!"
   ]
  },
  {
   "cell_type": "markdown",
   "metadata": {},
   "source": [
    "# Notebook Title\n",
    "\n",
    "Milestone 1\n",
    "\n",
    "Name: Gusti Ayu Dewi Puspa Kartikasari\n",
    "\n",
    "Batch: 012\n",
    "\n",
    "URL heroku: https://gusti-ayu-dewi-p-ftds-012-p0m1.herokuapp.com/"
   ]
  },
  {
   "cell_type": "markdown",
   "metadata": {},
   "source": [
    "## Description\n",
    "\n",
    "### Objective\n",
    "Mencari point dan mengerjakan step yang disebutkan dalam problem statement.\n",
    "\n",
    "### Problem Statement\n",
    "\n",
    "CEO toko online \"The Look\" mencurigai bahwa ada yang tidak beres dari sistem penjualan di tokonya, dari performa penjualan produk, pengiriman barang, dsb. Mohon bantu ungkapkan apakah bermasalah atau tidak dari sistem penjualan di platformnya. Gunakan dataset thelook_ecommerce di Google Cloud Platform BigQuery.\n",
    "\n",
    "SCOPE:\n",
    "\n",
    "Permasalahan yang akan diangkat:\n",
    "-Descriptive statistics:\n",
    "\n",
    "Category produk apa saja yang paling banyak terjual dan produk apa yang masih banyak inventorynya?\n",
    "\n",
    "Dimana distribution center produk tersebut dan pengirimannya kemana?\n",
    "\n",
    "Distribution center mana yang menghandle penjualan terbanyak?\n",
    "\n",
    "Rata-rata usia pembeli The Look\n",
    "\n",
    "Category barang apa yang paling banyak di return?\n",
    "\n",
    "\n",
    "-Inferential statitics\n",
    "Bagaimana penjualan barang dan tingkat pengembalian barang the look berdasarkan gender?\n",
    "\n",
    "NOTES: the data scope taken is from 2019 until 2021, selling trend change since covid-19 and 2022 is still ongoing "
   ]
  },
  {
   "cell_type": "markdown",
   "metadata": {},
   "source": [
    "## Working Area\n",
    "\n",
    "```txt\n",
    "Put your code, analysis, everything below this line\n",
    "\n",
    "Make sure to check everything the rubric requires before you submit\n",
    "```"
   ]
  },
  {
   "cell_type": "markdown",
   "metadata": {},
   "source": [
    "Querry code:\n",
    "\n",
    "a. df_inventory\n",
    "SELECT product_id,sold_at,product_category, product_department,product_department\n",
    "FROM bigquery-public-data.thelook_ecommerce.inventory_items\n",
    "WHERE created_at BETWEEN '2019-01-01' AND '2021-12-31';\n",
    "\n",
    "b. dfgender_return\n",
    "SELECT status,gender, num_of_item\n",
    "FROM bigquery-public-data.thelook_ecommerce.orders\n",
    "WHERE created_at BETWEEN '2019-01-01' AND '2021-12-31'\n",
    "AND num_of_item IS NOT NULL;\n",
    "\n",
    "c. dfreturn_category\n",
    "select orders.order_id,orders.status, inventory.product_category\n",
    "from `bigquery-public-data.thelook_ecommerce.order_items` as orders\n",
    "join `bigquery-public-data.thelook_ecommerce.inventory_items` as inventory on orders.inventory_item_id = inventory.id\n",
    "WHERE orders.created_at BETWEEN '2019-01-01' AND '2021-12-31'\n",
    "\n",
    "d. df_user\n",
    "select orders.user_id, users.age, users.gender,users.country, orders.status,orders.num_of_item\n",
    "from `bigquery-public-data.thelook_ecommerce.orders` as orders\n",
    "join `bigquery-public-data.thelook_ecommerce.users` as users on orders.user_id = users.id\n",
    "WHERE orders.created_at BETWEEN '2019-01-01' AND '2021-12-31';\n",
    "\n",
    "e.df_distribution\n",
    "select orders.inventory_item_id, dist.name, users.country,users.latitude,users.longitude\n",
    "from `bigquery-public-data.thelook_ecommerce.users` as users\n",
    "join `bigquery-public-data.thelook_ecommerce.order_items` as orders on users.id = orders.user_id\n",
    "join `bigquery-public-data.thelook_ecommerce.inventory_items` as inventories on orders.inventory_item_id = inventories.id\n",
    "join `bigquery-public-data.thelook_ecommerce.distribution_centers` as dist on inventories.product_distribution_center_id = dist.id\n",
    "WHERE orders.created_at BETWEEN '2019-01-01' AND '2021-12-31';\n",
    "\n",
    "addition: dfinv_created\n",
    "SELECT product_id,created_at,product_category, product_department,product_department\n",
    "FROM bigquery-public-data.thelook_ecommerce.inventory_items\n",
    "WHERE created_at BETWEEN '2019-01-01' AND '2021-12-31';"
   ]
  },
  {
   "cell_type": "markdown",
   "metadata": {},
   "source": [
    "## Import Libraries"
   ]
  },
  {
   "cell_type": "code",
   "execution_count": 1,
   "metadata": {},
   "outputs": [],
   "source": [
    "import pandas as pd\n",
    "import numpy as np\n",
    "from scipy import stats\n",
    "import matplotlib.pyplot as plt"
   ]
  },
  {
   "cell_type": "markdown",
   "metadata": {},
   "source": [
    "### Case 1 : Category produk apa saja yang paling banyak terjual dan produk apa yang masih banyak inventorynya?"
   ]
  },
  {
   "cell_type": "code",
   "execution_count": 2,
   "metadata": {},
   "outputs": [
    {
     "data": {
      "text/html": [
       "<div>\n",
       "<style scoped>\n",
       "    .dataframe tbody tr th:only-of-type {\n",
       "        vertical-align: middle;\n",
       "    }\n",
       "\n",
       "    .dataframe tbody tr th {\n",
       "        vertical-align: top;\n",
       "    }\n",
       "\n",
       "    .dataframe thead th {\n",
       "        text-align: right;\n",
       "    }\n",
       "</style>\n",
       "<table border=\"1\" class=\"dataframe\">\n",
       "  <thead>\n",
       "    <tr style=\"text-align: right;\">\n",
       "      <th></th>\n",
       "      <th>product_id</th>\n",
       "      <th>sold_at</th>\n",
       "      <th>product_category</th>\n",
       "      <th>product_department</th>\n",
       "      <th>product_department_1</th>\n",
       "    </tr>\n",
       "  </thead>\n",
       "  <tbody>\n",
       "    <tr>\n",
       "      <th>0</th>\n",
       "      <td>16898</td>\n",
       "      <td>2021-07-25 22:59:37 UTC</td>\n",
       "      <td>Tops &amp; Tees</td>\n",
       "      <td>Men</td>\n",
       "      <td>Men</td>\n",
       "    </tr>\n",
       "    <tr>\n",
       "      <th>1</th>\n",
       "      <td>16898</td>\n",
       "      <td>NaN</td>\n",
       "      <td>Tops &amp; Tees</td>\n",
       "      <td>Men</td>\n",
       "      <td>Men</td>\n",
       "    </tr>\n",
       "    <tr>\n",
       "      <th>2</th>\n",
       "      <td>16898</td>\n",
       "      <td>NaN</td>\n",
       "      <td>Tops &amp; Tees</td>\n",
       "      <td>Men</td>\n",
       "      <td>Men</td>\n",
       "    </tr>\n",
       "  </tbody>\n",
       "</table>\n",
       "</div>"
      ],
      "text/plain": [
       "   product_id                  sold_at product_category product_department  \\\n",
       "0       16898  2021-07-25 22:59:37 UTC      Tops & Tees                Men   \n",
       "1       16898                      NaN      Tops & Tees                Men   \n",
       "2       16898                      NaN      Tops & Tees                Men   \n",
       "\n",
       "  product_department_1  \n",
       "0                  Men  \n",
       "1                  Men  \n",
       "2                  Men  "
      ]
     },
     "execution_count": 2,
     "metadata": {},
     "output_type": "execute_result"
    }
   ],
   "source": [
    "df_inventory = pd.read_csv(r'inv.csv')\n",
    "df_inventory.head(3)"
   ]
  },
  {
   "cell_type": "markdown",
   "metadata": {},
   "source": [
    "Note: Data ini belum siap dikarenakan bagi data inventory yang belum terjual hanya terindikasi dari sold_at yang bernilai NaN, sehingg perlu adanya pengolahan lebih lanjut dengan pemberian keterangan yang dapat membedakan kedua kategori ini"
   ]
  },
  {
   "cell_type": "markdown",
   "metadata": {},
   "source": [
    "### generating nan to 'inventory item' and non-nan data to 'sold item'"
   ]
  },
  {
   "cell_type": "code",
   "execution_count": 3,
   "metadata": {},
   "outputs": [],
   "source": [
    "df_invstat = df_inventory.copy()"
   ]
  },
  {
   "cell_type": "code",
   "execution_count": 4,
   "metadata": {},
   "outputs": [
    {
     "data": {
      "text/html": [
       "<div>\n",
       "<style scoped>\n",
       "    .dataframe tbody tr th:only-of-type {\n",
       "        vertical-align: middle;\n",
       "    }\n",
       "\n",
       "    .dataframe tbody tr th {\n",
       "        vertical-align: top;\n",
       "    }\n",
       "\n",
       "    .dataframe thead th {\n",
       "        text-align: right;\n",
       "    }\n",
       "</style>\n",
       "<table border=\"1\" class=\"dataframe\">\n",
       "  <thead>\n",
       "    <tr style=\"text-align: right;\">\n",
       "      <th></th>\n",
       "      <th>product_id</th>\n",
       "      <th>sold_at</th>\n",
       "      <th>product_category</th>\n",
       "      <th>product_department</th>\n",
       "      <th>product_department_1</th>\n",
       "      <th>item_status</th>\n",
       "    </tr>\n",
       "  </thead>\n",
       "  <tbody>\n",
       "    <tr>\n",
       "      <th>0</th>\n",
       "      <td>16898</td>\n",
       "      <td>2021-07-25 22:59:37 UTC</td>\n",
       "      <td>Tops &amp; Tees</td>\n",
       "      <td>Men</td>\n",
       "      <td>Men</td>\n",
       "      <td>Sold item</td>\n",
       "    </tr>\n",
       "    <tr>\n",
       "      <th>1</th>\n",
       "      <td>16898</td>\n",
       "      <td>NaN</td>\n",
       "      <td>Tops &amp; Tees</td>\n",
       "      <td>Men</td>\n",
       "      <td>Men</td>\n",
       "      <td>Inventory item</td>\n",
       "    </tr>\n",
       "    <tr>\n",
       "      <th>2</th>\n",
       "      <td>16898</td>\n",
       "      <td>NaN</td>\n",
       "      <td>Tops &amp; Tees</td>\n",
       "      <td>Men</td>\n",
       "      <td>Men</td>\n",
       "      <td>Inventory item</td>\n",
       "    </tr>\n",
       "  </tbody>\n",
       "</table>\n",
       "</div>"
      ],
      "text/plain": [
       "   product_id                  sold_at product_category product_department  \\\n",
       "0       16898  2021-07-25 22:59:37 UTC      Tops & Tees                Men   \n",
       "1       16898                      NaN      Tops & Tees                Men   \n",
       "2       16898                      NaN      Tops & Tees                Men   \n",
       "\n",
       "  product_department_1     item_status  \n",
       "0                  Men       Sold item  \n",
       "1                  Men  Inventory item  \n",
       "2                  Men  Inventory item  "
      ]
     },
     "execution_count": 4,
     "metadata": {},
     "output_type": "execute_result"
    }
   ],
   "source": [
    "item_status = []\n",
    "\n",
    "for i in df_inventory.index:\n",
    "    if pd.isna(df_inventory.iloc[i , 1]) == True:\n",
    "        item_status.append('Inventory item')\n",
    "    else:\n",
    "        item_status.append('Sold item')\n",
    "\n",
    "df_inventory['item_status'] = item_status\n",
    "df_inventory.head(3)"
   ]
  },
  {
   "cell_type": "code",
   "execution_count": 5,
   "metadata": {},
   "outputs": [],
   "source": [
    "df_invitem = df_inventory[df_inventory['item_status'] == \"Inventory item\"]\n",
    "df_invitem = df_invitem.groupby([\"product_category\"])[['item_status']].count()\n",
    "#df_invitem.iloc[1,0]\n",
    "\n",
    "df_solditem = df_inventory[df_inventory['item_status'] == \"Sold item\"]\n",
    "df_solditem = df_solditem.groupby([\"product_category\"])[['item_status']].count()\n",
    "df_allitem = df_inventory.groupby([\"product_category\"])[['product_category']].count()"
   ]
  },
  {
   "cell_type": "markdown",
   "metadata": {},
   "source": [
    "Pengelompokan data berdasarkan status"
   ]
  },
  {
   "cell_type": "code",
   "execution_count": 6,
   "metadata": {},
   "outputs": [
    {
     "data": {
      "text/html": [
       "<div>\n",
       "<style scoped>\n",
       "    .dataframe tbody tr th:only-of-type {\n",
       "        vertical-align: middle;\n",
       "    }\n",
       "\n",
       "    .dataframe tbody tr th {\n",
       "        vertical-align: top;\n",
       "    }\n",
       "\n",
       "    .dataframe thead th {\n",
       "        text-align: right;\n",
       "    }\n",
       "</style>\n",
       "<table border=\"1\" class=\"dataframe\">\n",
       "  <thead>\n",
       "    <tr style=\"text-align: right;\">\n",
       "      <th></th>\n",
       "      <th>total_item</th>\n",
       "      <th>inventory</th>\n",
       "      <th>sold</th>\n",
       "    </tr>\n",
       "    <tr>\n",
       "      <th>product_category</th>\n",
       "      <th></th>\n",
       "      <th></th>\n",
       "      <th></th>\n",
       "    </tr>\n",
       "  </thead>\n",
       "  <tbody>\n",
       "    <tr>\n",
       "      <th>Intimates</th>\n",
       "      <td>26888</td>\n",
       "      <td>18298</td>\n",
       "      <td>8590</td>\n",
       "    </tr>\n",
       "    <tr>\n",
       "      <th>Jeans</th>\n",
       "      <td>25785</td>\n",
       "      <td>17630</td>\n",
       "      <td>8155</td>\n",
       "    </tr>\n",
       "    <tr>\n",
       "      <th>Fashion Hoodies &amp; Sweatshirts</th>\n",
       "      <td>24196</td>\n",
       "      <td>16592</td>\n",
       "      <td>7604</td>\n",
       "    </tr>\n",
       "    <tr>\n",
       "      <th>Tops &amp; Tees</th>\n",
       "      <td>24077</td>\n",
       "      <td>16466</td>\n",
       "      <td>7611</td>\n",
       "    </tr>\n",
       "    <tr>\n",
       "      <th>Swim</th>\n",
       "      <td>23233</td>\n",
       "      <td>15887</td>\n",
       "      <td>7346</td>\n",
       "    </tr>\n",
       "  </tbody>\n",
       "</table>\n",
       "</div>"
      ],
      "text/plain": [
       "                               total_item  inventory  sold\n",
       "product_category                                          \n",
       "Intimates                           26888      18298  8590\n",
       "Jeans                               25785      17630  8155\n",
       "Fashion Hoodies & Sweatshirts       24196      16592  7604\n",
       "Tops & Tees                         24077      16466  7611\n",
       "Swim                                23233      15887  7346"
      ]
     },
     "execution_count": 6,
     "metadata": {},
     "output_type": "execute_result"
    }
   ],
   "source": [
    "pd.DataFrame(df_allitem)\n",
    "df_allitem['inventory'] = df_invitem.loc[:,'item_status']\n",
    "df_allitem['sold'] = df_solditem.loc[:,'item_status']\n",
    "df_allitem = df_allitem.rename(columns ={'product_category':'total_item'})\n",
    "df_allitem = df_allitem.sort_values(by=\"total_item\", ascending=False)\n",
    "df_allitem.head(5)"
   ]
  },
  {
   "cell_type": "markdown",
   "metadata": {},
   "source": [
    "Tabel diatas adalah tabel dengan data inventory item (unsold item) dan sold item yang telah ditambahkan"
   ]
  },
  {
   "cell_type": "code",
   "execution_count": 7,
   "metadata": {},
   "outputs": [
    {
     "data": {
      "image/png": "[encoded data removed]",
      "text/plain": [
       "<Figure size 720x432 with 1 Axes>"
      ]
     },
     "metadata": {
      "needs_background": "light"
     },
     "output_type": "display_data"
    }
   ],
   "source": [
    "df_allitem_plot = df_allitem.drop(columns=['total_item'])\n",
    "df_allitem_plot.plot(kind='bar', figsize=(10, 6))\n",
    "\n",
    "plt.xlabel('product_category') # add to x-label to the plot\n",
    "plt.ylabel('inventory, sold') # add y-label to the plot\n",
    "plt.title('inventory vs sold per product category') # add title to the plot\n",
    "\n",
    "plt.show()"
   ]
  },
  {
   "cell_type": "markdown",
   "metadata": {},
   "source": [
    "Diagram diatas menunjukkan jumlah inventory dan barang yang sudah terjual dari yang paling besar hingga kecil, dapat terlihat bahwa terjadi overstock ditandai dengan adanya penumpukan inventory hingga 2x lipat sold item. Oleh karena itu perlu adanya rekomendasi jumlah created inventory perbulan dengan menghitung confidence interval sebagai acuan dengan confidence level = 95%"
   ]
  },
  {
   "cell_type": "markdown",
   "metadata": {},
   "source": [
    "Mencari confidence interval bagi category dengan quantity inventory dan sold item terbesar sebagai acuan"
   ]
  },
  {
   "cell_type": "code",
   "execution_count": 8,
   "metadata": {},
   "outputs": [],
   "source": [
    "df_invstat=df_invstat.dropna()"
   ]
  },
  {
   "cell_type": "code",
   "execution_count": 9,
   "metadata": {},
   "outputs": [],
   "source": [
    "df_invstat['month'] = pd.DatetimeIndex(df_invstat['sold_at']).month\n",
    "df_invstat['year'] = pd.DatetimeIndex(df_invstat['sold_at']).year"
   ]
  },
  {
   "cell_type": "code",
   "execution_count": 10,
   "metadata": {},
   "outputs": [
    {
     "data": {
      "text/plain": [
       "569.0"
      ]
     },
     "execution_count": 10,
     "metadata": {},
     "output_type": "execute_result"
    }
   ],
   "source": [
    "data_CIintimates = df_invstat[df_invstat['product_category'] == \"Intimates\"].groupby([\"year\",\"month\"])[[\"product_category\"]].count()\n",
    "data_CIintimates=data_CIintimates.reset_index()\n",
    "ci = np.round(stats.norm.interval(0.95,data_CIintimates.product_category.mean(), data_CIintimates.product_category.std()),0)\n",
    "ci[1]"
   ]
  },
  {
   "cell_type": "markdown",
   "metadata": {},
   "source": [
    "Dari confidence interval category Intimates, didapatkan bahwa created inventory perbulan yang direkomendasikan adalah 569 pcs. Mari hitung data yang terjadi sebenarnya."
   ]
  },
  {
   "cell_type": "code",
   "execution_count": 11,
   "metadata": {},
   "outputs": [
    {
     "data": {
      "text/html": [
       "<div>\n",
       "<style scoped>\n",
       "    .dataframe tbody tr th:only-of-type {\n",
       "        vertical-align: middle;\n",
       "    }\n",
       "\n",
       "    .dataframe tbody tr th {\n",
       "        vertical-align: top;\n",
       "    }\n",
       "\n",
       "    .dataframe thead th {\n",
       "        text-align: right;\n",
       "    }\n",
       "</style>\n",
       "<table border=\"1\" class=\"dataframe\">\n",
       "  <thead>\n",
       "    <tr style=\"text-align: right;\">\n",
       "      <th></th>\n",
       "      <th>product_id</th>\n",
       "      <th>created_at</th>\n",
       "      <th>product_category</th>\n",
       "      <th>product_department</th>\n",
       "      <th>product_department_1</th>\n",
       "    </tr>\n",
       "  </thead>\n",
       "  <tbody>\n",
       "    <tr>\n",
       "      <th>0</th>\n",
       "      <td>16898</td>\n",
       "      <td>2021-07-09 10:32:00 UTC</td>\n",
       "      <td>Tops &amp; Tees</td>\n",
       "      <td>Men</td>\n",
       "      <td>Men</td>\n",
       "    </tr>\n",
       "    <tr>\n",
       "      <th>1</th>\n",
       "      <td>16898</td>\n",
       "      <td>2021-01-17 05:10:00 UTC</td>\n",
       "      <td>Tops &amp; Tees</td>\n",
       "      <td>Men</td>\n",
       "      <td>Men</td>\n",
       "    </tr>\n",
       "    <tr>\n",
       "      <th>2</th>\n",
       "      <td>16898</td>\n",
       "      <td>2020-09-28 18:33:14 UTC</td>\n",
       "      <td>Tops &amp; Tees</td>\n",
       "      <td>Men</td>\n",
       "      <td>Men</td>\n",
       "    </tr>\n",
       "  </tbody>\n",
       "</table>\n",
       "</div>"
      ],
      "text/plain": [
       "   product_id               created_at product_category product_department  \\\n",
       "0       16898  2021-07-09 10:32:00 UTC      Tops & Tees                Men   \n",
       "1       16898  2021-01-17 05:10:00 UTC      Tops & Tees                Men   \n",
       "2       16898  2020-09-28 18:33:14 UTC      Tops & Tees                Men   \n",
       "\n",
       "  product_department_1  \n",
       "0                  Men  \n",
       "1                  Men  \n",
       "2                  Men  "
      ]
     },
     "execution_count": 11,
     "metadata": {},
     "output_type": "execute_result"
    }
   ],
   "source": [
    "df_created = pd.read_csv(r'createdat.csv')\n",
    "df_created.head(3)"
   ]
  },
  {
   "cell_type": "code",
   "execution_count": 12,
   "metadata": {},
   "outputs": [],
   "source": [
    "df_created['month'] = pd.DatetimeIndex(df_created['created_at']).month\n",
    "df_created['year'] = pd.DatetimeIndex(df_created['created_at']).year"
   ]
  },
  {
   "cell_type": "code",
   "execution_count": 13,
   "metadata": {},
   "outputs": [
    {
     "data": {
      "text/plain": [
       "757.0"
      ]
     },
     "execution_count": 13,
     "metadata": {},
     "output_type": "execute_result"
    }
   ],
   "source": [
    "dfmean_created = df_created[df_created['product_category'] == \"Intimates\"].groupby([\"year\",\"month\"])[[\"product_category\"]].count()\n",
    "dfmean_created=dfmean_created.reset_index()\n",
    "np.round(dfmean_created.product_category.mean(),0)"
   ]
  },
  {
   "cell_type": "markdown",
   "metadata": {},
   "source": [
    "rata-rata aktual created inventory perbulan yang terjadi sebesar 757 pcs. Jumlah ini 33% lebih besar daripada jumlah yang dianjurkan. Dapat disimpulkan terjadinya overstock dikarenakan item yang di stok lebih besar dan hal ini terakumulasi berbulan-bulan."
   ]
  },
  {
   "cell_type": "markdown",
   "metadata": {},
   "source": [
    "## Case 2: Bagaimana penjualan barang dan tingkat pengembalian barang the look berdasarkan gender? "
   ]
  },
  {
   "cell_type": "code",
   "execution_count": 14,
   "metadata": {},
   "outputs": [
    {
     "data": {
      "text/html": [
       "<div>\n",
       "<style scoped>\n",
       "    .dataframe tbody tr th:only-of-type {\n",
       "        vertical-align: middle;\n",
       "    }\n",
       "\n",
       "    .dataframe tbody tr th {\n",
       "        vertical-align: top;\n",
       "    }\n",
       "\n",
       "    .dataframe thead th {\n",
       "        text-align: right;\n",
       "    }\n",
       "</style>\n",
       "<table border=\"1\" class=\"dataframe\">\n",
       "  <thead>\n",
       "    <tr style=\"text-align: right;\">\n",
       "      <th></th>\n",
       "      <th>status</th>\n",
       "      <th>gender</th>\n",
       "      <th>num_of_item</th>\n",
       "    </tr>\n",
       "  </thead>\n",
       "  <tbody>\n",
       "    <tr>\n",
       "      <th>0</th>\n",
       "      <td>Shipped</td>\n",
       "      <td>F</td>\n",
       "      <td>1</td>\n",
       "    </tr>\n",
       "    <tr>\n",
       "      <th>1</th>\n",
       "      <td>Shipped</td>\n",
       "      <td>F</td>\n",
       "      <td>4</td>\n",
       "    </tr>\n",
       "    <tr>\n",
       "      <th>2</th>\n",
       "      <td>Shipped</td>\n",
       "      <td>F</td>\n",
       "      <td>1</td>\n",
       "    </tr>\n",
       "    <tr>\n",
       "      <th>3</th>\n",
       "      <td>Shipped</td>\n",
       "      <td>F</td>\n",
       "      <td>1</td>\n",
       "    </tr>\n",
       "    <tr>\n",
       "      <th>4</th>\n",
       "      <td>Shipped</td>\n",
       "      <td>F</td>\n",
       "      <td>1</td>\n",
       "    </tr>\n",
       "  </tbody>\n",
       "</table>\n",
       "</div>"
      ],
      "text/plain": [
       "    status gender  num_of_item\n",
       "0  Shipped      F            1\n",
       "1  Shipped      F            4\n",
       "2  Shipped      F            1\n",
       "3  Shipped      F            1\n",
       "4  Shipped      F            1"
      ]
     },
     "execution_count": 14,
     "metadata": {},
     "output_type": "execute_result"
    }
   ],
   "source": [
    "dfgender_return = pd.read_csv(r'return_gender.csv')\n",
    "dfgender_return.head(5)"
   ]
  },
  {
   "cell_type": "code",
   "execution_count": 15,
   "metadata": {},
   "outputs": [],
   "source": [
    "# dfreturn = dfgender_return[dfgender_return['status'] == \"Returned\"].groupby([\"gender\"])[[\"num_of_item\"]].sum()\n",
    "# dfreturn_all = dfgender_return.groupby([\"gender\"])[[\"num_of_item\"]].sum()\n",
    "# dfreturn.loc['F','num_of_item'] = dfreturn.loc['F','num_of_item']/dfreturn_all.loc['F','num_of_item']*100\n",
    "# dfreturn.loc['M','num_of_item'] = dfreturn.loc['M','num_of_item']/dfreturn_all.loc['M','num_of_item']*100\n",
    "# dfreturn = dfreturn.rename(columns ={'num_of_item':'return_percentage'})\n",
    "# dfreturn"
   ]
  },
  {
   "cell_type": "markdown",
   "metadata": {},
   "source": [
    "Di grup berdasarkan gender, lalu hitung jumlah number of item kemudian hitung persentase barang return, complete dan shipped"
   ]
  },
  {
   "cell_type": "code",
   "execution_count": 16,
   "metadata": {},
   "outputs": [
    {
     "data": {
      "image/png": "[encoded data removed]",
      "text/plain": [
       "<Figure size 360x432 with 1 Axes>"
      ]
     },
     "metadata": {},
     "output_type": "display_data"
    }
   ],
   "source": [
    "dfreturnF = dfgender_return[dfgender_return['gender'] == \"F\"].groupby([\"status\"])[[\"num_of_item\"]].sum()\n",
    "dfreturnF = dfreturnF.drop(['Cancelled','Processing'],axis = 0)\n",
    "\n",
    "dfreturnF.iloc[:,0].plot(kind='pie', figsize=(5, 6), autopct='%1.1f%%', startangle=90, shadow=False)      \n",
    "\n",
    "plt.title('Female Return Percentage')\n",
    "plt.ylabel('')\n",
    "plt.axis('equal') # Sets the pie chart to look like a circle.\n",
    "\n",
    "plt.show()"
   ]
  },
  {
   "cell_type": "code",
   "execution_count": 17,
   "metadata": {},
   "outputs": [
    {
     "data": {
      "image/png": "[encoded data removed]",
      "text/plain": [
       "<Figure size 360x432 with 1 Axes>"
      ]
     },
     "metadata": {},
     "output_type": "display_data"
    }
   ],
   "source": [
    "dfreturnM = dfgender_return[dfgender_return['gender'] == \"M\"].groupby([\"status\"])[[\"num_of_item\"]].sum()\n",
    "dfreturnM = dfreturnM.drop(['Cancelled','Processing'],axis = 0)\n",
    "\n",
    "dfreturnM.iloc[:,0].plot(kind='pie', figsize=(5, 6), autopct='%1.1f%%', startangle=90, shadow=False)      \n",
    "\n",
    "plt.title('Female Return Percentage')\n",
    "plt.ylabel('')\n",
    "plt.axis('equal') # Sets the pie chart to look like a circle.\n",
    "\n",
    "plt.show()"
   ]
  },
  {
   "cell_type": "markdown",
   "metadata": {},
   "source": [
    "Dari kedua piechart, persentase barang complete, shipped dan returned dari kedua gender hampir sama. Namun terdapat insight lain yang dapat dilihat dari chart ini, bahwa terdapat sekitar 15% atau 15 dari 100 barang terkirim yang dikembalikan. Hal ini cukup tinggi, karena bisa diartikan bahwa dari 100 pelanggan terdapat 15 pelanggan yang tidak puas dengan produk tersebut. Perlu adanya peninjauan lebih lanjut mengenai alasan mengapa barang ini dikembalikan karena tingginya tingkat pengembalian barang tentu akan berdampak pada keuangan perusahaan dan juga kepuasan pelanggan."
   ]
  },
  {
   "cell_type": "code",
   "execution_count": 18,
   "metadata": {},
   "outputs": [],
   "source": [
    "#dfreturn.loc[(\"F\", \"Returned\"), 'num_of_item']"
   ]
  },
  {
   "cell_type": "markdown",
   "metadata": {},
   "source": [
    "## Case 3: Category barang apa yang paling banyak di return?"
   ]
  },
  {
   "cell_type": "markdown",
   "metadata": {},
   "source": [
    "Setelah mengetahui tingginya tingkat pengembalian barang, maka hal ini akan dianalisa lebih dalam. Dalam hal ini analisa akan dilanjutkan untuk mengetahui kategori produk yang paling banyak dikembalikan oleh pelanggan."
   ]
  },
  {
   "cell_type": "code",
   "execution_count": 19,
   "metadata": {},
   "outputs": [
    {
     "data": {
      "text/html": [
       "<div>\n",
       "<style scoped>\n",
       "    .dataframe tbody tr th:only-of-type {\n",
       "        vertical-align: middle;\n",
       "    }\n",
       "\n",
       "    .dataframe tbody tr th {\n",
       "        vertical-align: top;\n",
       "    }\n",
       "\n",
       "    .dataframe thead th {\n",
       "        text-align: right;\n",
       "    }\n",
       "</style>\n",
       "<table border=\"1\" class=\"dataframe\">\n",
       "  <thead>\n",
       "    <tr style=\"text-align: right;\">\n",
       "      <th></th>\n",
       "      <th>order_id</th>\n",
       "      <th>status</th>\n",
       "      <th>product_category</th>\n",
       "    </tr>\n",
       "  </thead>\n",
       "  <tbody>\n",
       "    <tr>\n",
       "      <th>0</th>\n",
       "      <td>94921</td>\n",
       "      <td>Shipped</td>\n",
       "      <td>Clothing Sets</td>\n",
       "    </tr>\n",
       "    <tr>\n",
       "      <th>1</th>\n",
       "      <td>50015</td>\n",
       "      <td>Complete</td>\n",
       "      <td>Clothing Sets</td>\n",
       "    </tr>\n",
       "    <tr>\n",
       "      <th>2</th>\n",
       "      <td>65128</td>\n",
       "      <td>Returned</td>\n",
       "      <td>Clothing Sets</td>\n",
       "    </tr>\n",
       "    <tr>\n",
       "      <th>3</th>\n",
       "      <td>74635</td>\n",
       "      <td>Processing</td>\n",
       "      <td>Clothing Sets</td>\n",
       "    </tr>\n",
       "    <tr>\n",
       "      <th>4</th>\n",
       "      <td>124469</td>\n",
       "      <td>Complete</td>\n",
       "      <td>Clothing Sets</td>\n",
       "    </tr>\n",
       "  </tbody>\n",
       "</table>\n",
       "</div>"
      ],
      "text/plain": [
       "   order_id      status product_category\n",
       "0     94921     Shipped    Clothing Sets\n",
       "1     50015    Complete    Clothing Sets\n",
       "2     65128    Returned    Clothing Sets\n",
       "3     74635  Processing    Clothing Sets\n",
       "4    124469    Complete    Clothing Sets"
      ]
     },
     "execution_count": 19,
     "metadata": {},
     "output_type": "execute_result"
    }
   ],
   "source": [
    "dfcategory_return = pd.read_csv(r'return_category.csv')\n",
    "dfcategory_return.head(5)"
   ]
  },
  {
   "cell_type": "markdown",
   "metadata": {},
   "source": [
    "mencari data dengan status 'returned'"
   ]
  },
  {
   "cell_type": "code",
   "execution_count": 20,
   "metadata": {},
   "outputs": [],
   "source": [
    "dfcatret = dfcategory_return[dfcategory_return['status'] == \"Returned\"].groupby([\"product_category\"])[[\"product_category\"]].count()\n",
    "allsum = dfcatret.loc[:,'product_category'].sum()\n",
    "for i in dfcatret.index:\n",
    "    dfcatret.loc[i,'product_category'] = np.round(dfcatret.loc[i,'product_category']/allsum*100,2)\n",
    "\n",
    "dfcatret = dfcatret.rename(columns ={'product_category':'return_percentage'})\n",
    "dfcatret = dfcatret.sort_values(by='return_percentage', ascending=False)"
   ]
  },
  {
   "cell_type": "markdown",
   "metadata": {},
   "source": [
    "Mengelompokkan row 11-akhir mkedalam 'Others' untuk mengefektifkan visualisasi dan analisa"
   ]
  },
  {
   "cell_type": "code",
   "execution_count": 21,
   "metadata": {},
   "outputs": [
    {
     "data": {
      "text/html": [
       "<div>\n",
       "<style scoped>\n",
       "    .dataframe tbody tr th:only-of-type {\n",
       "        vertical-align: middle;\n",
       "    }\n",
       "\n",
       "    .dataframe tbody tr th {\n",
       "        vertical-align: top;\n",
       "    }\n",
       "\n",
       "    .dataframe thead th {\n",
       "        text-align: right;\n",
       "    }\n",
       "</style>\n",
       "<table border=\"1\" class=\"dataframe\">\n",
       "  <thead>\n",
       "    <tr style=\"text-align: right;\">\n",
       "      <th></th>\n",
       "      <th>return_percentage</th>\n",
       "    </tr>\n",
       "    <tr>\n",
       "      <th>product_category</th>\n",
       "      <th></th>\n",
       "    </tr>\n",
       "  </thead>\n",
       "  <tbody>\n",
       "    <tr>\n",
       "      <th>Intimates</th>\n",
       "      <td>7.33</td>\n",
       "    </tr>\n",
       "    <tr>\n",
       "      <th>Jeans</th>\n",
       "      <td>6.81</td>\n",
       "    </tr>\n",
       "    <tr>\n",
       "      <th>Shorts</th>\n",
       "      <td>6.53</td>\n",
       "    </tr>\n",
       "    <tr>\n",
       "      <th>Tops &amp; Tees</th>\n",
       "      <td>6.32</td>\n",
       "    </tr>\n",
       "    <tr>\n",
       "      <th>Fashion Hoodies &amp; Sweatshirts</th>\n",
       "      <td>6.32</td>\n",
       "    </tr>\n",
       "    <tr>\n",
       "      <th>Sleep &amp; Lounge</th>\n",
       "      <td>6.24</td>\n",
       "    </tr>\n",
       "    <tr>\n",
       "      <th>Swim</th>\n",
       "      <td>6.18</td>\n",
       "    </tr>\n",
       "    <tr>\n",
       "      <th>Sweaters</th>\n",
       "      <td>5.65</td>\n",
       "    </tr>\n",
       "    <tr>\n",
       "      <th>Accessories</th>\n",
       "      <td>5.42</td>\n",
       "    </tr>\n",
       "    <tr>\n",
       "      <th>Outerwear &amp; Coats</th>\n",
       "      <td>5.15</td>\n",
       "    </tr>\n",
       "    <tr>\n",
       "      <th>Active</th>\n",
       "      <td>4.77</td>\n",
       "    </tr>\n",
       "    <tr>\n",
       "      <th>Others (14 other categories)</th>\n",
       "      <td>33.26</td>\n",
       "    </tr>\n",
       "  </tbody>\n",
       "</table>\n",
       "</div>"
      ],
      "text/plain": [
       "                               return_percentage\n",
       "product_category                                \n",
       "Intimates                                   7.33\n",
       "Jeans                                       6.81\n",
       "Shorts                                      6.53\n",
       "Tops & Tees                                 6.32\n",
       "Fashion Hoodies & Sweatshirts               6.32\n",
       "Sleep & Lounge                              6.24\n",
       "Swim                                        6.18\n",
       "Sweaters                                    5.65\n",
       "Accessories                                 5.42\n",
       "Outerwear & Coats                           5.15\n",
       "Active                                      4.77\n",
       "Others (14 other categories)               33.26"
      ]
     },
     "execution_count": 21,
     "metadata": {},
     "output_type": "execute_result"
    }
   ],
   "source": [
    "others = dfcatret.iloc[11:,0].sum()\n",
    "dfcatret_plot = dfcatret.copy()\n",
    "dfcatret_plot.iloc[11,0] = others\n",
    "dfcatret_plot = dfcatret_plot.rename(index={dfcatret_plot.index[11]: \"Others (14 other categories)\"})\n",
    "\n",
    "dfcatret_plot = dfcatret_plot.drop(dfcatret_plot.index[12:], axis=0 )\n",
    "dfcatret_plot\n"
   ]
  },
  {
   "cell_type": "code",
   "execution_count": 22,
   "metadata": {},
   "outputs": [
    {
     "data": {
      "image/png": "[encoded data removed]",
      "text/plain": [
       "<Figure size 360x432 with 1 Axes>"
      ]
     },
     "metadata": {},
     "output_type": "display_data"
    }
   ],
   "source": [
    "dfcatret_plot.loc[:,'return_percentage'].plot(kind='pie', figsize=(5, 6), autopct='%1.1f%%', startangle=90, shadow=False)      \n",
    "\n",
    "plt.title('Return Percentage')\n",
    "plt.axis('equal') # Sets the pie chart to look like a circle.\n",
    "\n",
    "plt.ylabel('')\n",
    "\n",
    "plt.show()"
   ]
  },
  {
   "cell_type": "markdown",
   "metadata": {},
   "source": [
    "Pie chart diatas dapat membantu untuk memfokuskan pencharian akar masalah tingginya barang yang dikembalikan oleh pelanggan. Pencarian dapat dimulai dari kategori intimates, jeans, dan shorts karena jumlah % telah melewati 20% jika mengikuti pareto principle bahwa 80% masalah disebabkan oleh 20% akar permasalahan, sehingga disarankan untuk berfokus kepada 3 kategori berikut."
   ]
  },
  {
   "cell_type": "markdown",
   "metadata": {},
   "source": [
    "## Case 4: Rata-rata usia pembeli The Look\n"
   ]
  },
  {
   "cell_type": "markdown",
   "metadata": {},
   "source": [
    "Menganalisa target marketing the look untuk menyesuaikan spesifikasi mayoritas produk."
   ]
  },
  {
   "cell_type": "code",
   "execution_count": 23,
   "metadata": {},
   "outputs": [
    {
     "data": {
      "text/html": [
       "<div>\n",
       "<style scoped>\n",
       "    .dataframe tbody tr th:only-of-type {\n",
       "        vertical-align: middle;\n",
       "    }\n",
       "\n",
       "    .dataframe tbody tr th {\n",
       "        vertical-align: top;\n",
       "    }\n",
       "\n",
       "    .dataframe thead th {\n",
       "        text-align: right;\n",
       "    }\n",
       "</style>\n",
       "<table border=\"1\" class=\"dataframe\">\n",
       "  <thead>\n",
       "    <tr style=\"text-align: right;\">\n",
       "      <th></th>\n",
       "      <th>user_id</th>\n",
       "      <th>age</th>\n",
       "      <th>gender</th>\n",
       "      <th>country</th>\n",
       "      <th>status</th>\n",
       "      <th>num_of_item</th>\n",
       "    </tr>\n",
       "  </thead>\n",
       "  <tbody>\n",
       "    <tr>\n",
       "      <th>0</th>\n",
       "      <td>349</td>\n",
       "      <td>12</td>\n",
       "      <td>F</td>\n",
       "      <td>United Kingdom</td>\n",
       "      <td>Shipped</td>\n",
       "      <td>2</td>\n",
       "    </tr>\n",
       "    <tr>\n",
       "      <th>1</th>\n",
       "      <td>420</td>\n",
       "      <td>12</td>\n",
       "      <td>F</td>\n",
       "      <td>Brasil</td>\n",
       "      <td>Shipped</td>\n",
       "      <td>1</td>\n",
       "    </tr>\n",
       "    <tr>\n",
       "      <th>2</th>\n",
       "      <td>501</td>\n",
       "      <td>12</td>\n",
       "      <td>F</td>\n",
       "      <td>China</td>\n",
       "      <td>Shipped</td>\n",
       "      <td>1</td>\n",
       "    </tr>\n",
       "    <tr>\n",
       "      <th>3</th>\n",
       "      <td>501</td>\n",
       "      <td>12</td>\n",
       "      <td>F</td>\n",
       "      <td>China</td>\n",
       "      <td>Shipped</td>\n",
       "      <td>2</td>\n",
       "    </tr>\n",
       "    <tr>\n",
       "      <th>4</th>\n",
       "      <td>1617</td>\n",
       "      <td>12</td>\n",
       "      <td>F</td>\n",
       "      <td>United States</td>\n",
       "      <td>Shipped</td>\n",
       "      <td>1</td>\n",
       "    </tr>\n",
       "  </tbody>\n",
       "</table>\n",
       "</div>"
      ],
      "text/plain": [
       "   user_id  age gender         country   status  num_of_item\n",
       "0      349   12      F  United Kingdom  Shipped            2\n",
       "1      420   12      F          Brasil  Shipped            1\n",
       "2      501   12      F           China  Shipped            1\n",
       "3      501   12      F           China  Shipped            2\n",
       "4     1617   12      F   United States  Shipped            1"
      ]
     },
     "execution_count": 23,
     "metadata": {},
     "output_type": "execute_result"
    }
   ],
   "source": [
    "df_user = pd.read_csv(r'user_country_age.csv')\n",
    "df_user.head(5)"
   ]
  },
  {
   "cell_type": "code",
   "execution_count": 24,
   "metadata": {},
   "outputs": [],
   "source": [
    "# dffemaleuser = df_user[df_user['gender'] == \"M\"].groupby([\"gender\",\"age\"])[[\"num_of_item\"]].sum().sort_values(by='num_of_item', ascending=False).head(10)\n",
    "# dffemaleuser"
   ]
  },
  {
   "cell_type": "code",
   "execution_count": 25,
   "metadata": {},
   "outputs": [],
   "source": [
    "female = df_user[df_user['gender'] == 'F']\n",
    "male = df_user[df_user['gender'] == 'M']"
   ]
  },
  {
   "cell_type": "markdown",
   "metadata": {},
   "source": [
    "Mengelompokkan data berdasarkan gender Female dan Male lalu hitung rata-rata, dan modus, serta nilai tengahnya.\n",
    "Namun data yang dimiliki tidak memadai untuk dilakukan perhitungan terhadap frekuensi usia, sehingga perlu dibuat data frame baru."
   ]
  },
  {
   "cell_type": "code",
   "execution_count": 26,
   "metadata": {},
   "outputs": [
    {
     "name": "stdout",
     "output_type": "stream",
     "text": [
      "rata-rata usia:  40.964153574416656 ; modus:  22 ; nilai tengah:  41.0\n"
     ]
    }
   ],
   "source": [
    "import statistics\n",
    "\n",
    "female_data = []\n",
    "for i in female.index:\n",
    "    b = female.loc[i,'num_of_item']\n",
    "    age = female.loc[i,'age']\n",
    "\n",
    "    while b > 0 :\n",
    "        female_data.append(age)\n",
    "        b = b - 1\n",
    "\n",
    "female_age = pd.DataFrame()\n",
    "female_age['age'] = female_data\n",
    "\n",
    "female_age\n",
    "\n",
    "print('rata-rata usia: ', female_age.age.mean(), '; modus: ' , statistics.mode(female_age.age), '; nilai tengah: ', female_age.age.median())"
   ]
  },
  {
   "cell_type": "code",
   "execution_count": 27,
   "metadata": {},
   "outputs": [
    {
     "name": "stdout",
     "output_type": "stream",
     "text": [
      "rata-rata usia:  41.05577371911236 ; modus:  54 ;nilai tengah:  41.0\n"
     ]
    }
   ],
   "source": [
    "male_data = []\n",
    "for i in male.index:\n",
    "    b = male.loc[i,'num_of_item']\n",
    "    age = male.loc[i,'age']\n",
    "\n",
    "    while b > 0 :\n",
    "        male_data.append(age)\n",
    "        b = b - 1\n",
    "\n",
    "male_age = pd.DataFrame()\n",
    "male_age['age'] = male_data\n",
    "\n",
    "male_age\n",
    "\n",
    "print('rata-rata usia: ', male_age.age.mean(), '; modus: ' , statistics.mode(male_age.age), ';nilai tengah: ', female_age.age.median())"
   ]
  },
  {
   "cell_type": "markdown",
   "metadata": {},
   "source": [
    "Dari perhitungan ini dapat diketahui bahwa rata-rata usia pelanggan wanita yaitu 40.9 dengan pembelian terbanyak dilakukan oleh pelanggan berusia 22 dan nilai tengah dari usia pelanggan wanita yaitu 41. Sedangkan pada pria, rata-rata usia pelanggan yakni 41.06 dengan pembelian terbanyak dilakukan oleh pelanggan berusia 54 dan nilai tengah usia pelanggan yakni 41. Hasil pengolahan data ini menunjukkna bahwa segmen usia pada wanita yaitu berkisar pada usia 22 dan pada pria pada usia 54. "
   ]
  },
  {
   "cell_type": "markdown",
   "metadata": {},
   "source": [
    "## Case 5: Bagaimana pembebanan shipping bagi setiap distribution center?"
   ]
  },
  {
   "cell_type": "markdown",
   "metadata": {},
   "source": [
    "Pada case ini, analisa dilakukan untuk mendalami pembebanan pengiriman bagi setiap distribution center."
   ]
  },
  {
   "cell_type": "code",
   "execution_count": 28,
   "metadata": {},
   "outputs": [
    {
     "data": {
      "text/html": [
       "<div>\n",
       "<style scoped>\n",
       "    .dataframe tbody tr th:only-of-type {\n",
       "        vertical-align: middle;\n",
       "    }\n",
       "\n",
       "    .dataframe tbody tr th {\n",
       "        vertical-align: top;\n",
       "    }\n",
       "\n",
       "    .dataframe thead th {\n",
       "        text-align: right;\n",
       "    }\n",
       "</style>\n",
       "<table border=\"1\" class=\"dataframe\">\n",
       "  <thead>\n",
       "    <tr style=\"text-align: right;\">\n",
       "      <th></th>\n",
       "      <th>inventory_item_id</th>\n",
       "      <th>name</th>\n",
       "      <th>country</th>\n",
       "      <th>latitude</th>\n",
       "      <th>longitude</th>\n",
       "    </tr>\n",
       "  </thead>\n",
       "  <tbody>\n",
       "    <tr>\n",
       "      <th>0</th>\n",
       "      <td>216949</td>\n",
       "      <td>Mobile AL</td>\n",
       "      <td>Japan</td>\n",
       "      <td>34.851814</td>\n",
       "      <td>136.508713</td>\n",
       "    </tr>\n",
       "    <tr>\n",
       "      <th>1</th>\n",
       "      <td>402710</td>\n",
       "      <td>Port Authority of New York/New Jersey NY/NJ</td>\n",
       "      <td>Japan</td>\n",
       "      <td>34.851814</td>\n",
       "      <td>136.508713</td>\n",
       "    </tr>\n",
       "    <tr>\n",
       "      <th>2</th>\n",
       "      <td>402706</td>\n",
       "      <td>Philadelphia PA</td>\n",
       "      <td>Japan</td>\n",
       "      <td>34.851814</td>\n",
       "      <td>136.508713</td>\n",
       "    </tr>\n",
       "    <tr>\n",
       "      <th>3</th>\n",
       "      <td>402714</td>\n",
       "      <td>Chicago IL</td>\n",
       "      <td>Japan</td>\n",
       "      <td>34.851814</td>\n",
       "      <td>136.508713</td>\n",
       "    </tr>\n",
       "    <tr>\n",
       "      <th>4</th>\n",
       "      <td>113939</td>\n",
       "      <td>Memphis TN</td>\n",
       "      <td>Brasil</td>\n",
       "      <td>-9.945568</td>\n",
       "      <td>-67.835610</td>\n",
       "    </tr>\n",
       "  </tbody>\n",
       "</table>\n",
       "</div>"
      ],
      "text/plain": [
       "   inventory_item_id                                         name country  \\\n",
       "0             216949                                    Mobile AL   Japan   \n",
       "1             402710  Port Authority of New York/New Jersey NY/NJ   Japan   \n",
       "2             402706                              Philadelphia PA   Japan   \n",
       "3             402714                                   Chicago IL   Japan   \n",
       "4             113939                                   Memphis TN  Brasil   \n",
       "\n",
       "    latitude   longitude  \n",
       "0  34.851814  136.508713  \n",
       "1  34.851814  136.508713  \n",
       "2  34.851814  136.508713  \n",
       "3  34.851814  136.508713  \n",
       "4  -9.945568  -67.835610  "
      ]
     },
     "execution_count": 28,
     "metadata": {},
     "output_type": "execute_result"
    }
   ],
   "source": [
    "df_distribution = pd.read_csv(r'distribution_center.csv')\n",
    "df_distribution.head(5)"
   ]
  },
  {
   "cell_type": "markdown",
   "metadata": {},
   "source": [
    "Data di kelompokkan berdasarkan negara."
   ]
  },
  {
   "cell_type": "code",
   "execution_count": 29,
   "metadata": {},
   "outputs": [
    {
     "data": {
      "text/html": [
       "<div>\n",
       "<style scoped>\n",
       "    .dataframe tbody tr th:only-of-type {\n",
       "        vertical-align: middle;\n",
       "    }\n",
       "\n",
       "    .dataframe tbody tr th {\n",
       "        vertical-align: top;\n",
       "    }\n",
       "\n",
       "    .dataframe thead th {\n",
       "        text-align: right;\n",
       "    }\n",
       "</style>\n",
       "<table border=\"1\" class=\"dataframe\">\n",
       "  <thead>\n",
       "    <tr style=\"text-align: right;\">\n",
       "      <th></th>\n",
       "      <th>total_shipping</th>\n",
       "    </tr>\n",
       "    <tr>\n",
       "      <th>name</th>\n",
       "      <th></th>\n",
       "    </tr>\n",
       "  </thead>\n",
       "  <tbody>\n",
       "    <tr>\n",
       "      <th>Memphis TN</th>\n",
       "      <td>14412</td>\n",
       "    </tr>\n",
       "    <tr>\n",
       "      <th>Chicago IL</th>\n",
       "      <td>14183</td>\n",
       "    </tr>\n",
       "    <tr>\n",
       "      <th>Houston TX</th>\n",
       "      <td>13337</td>\n",
       "    </tr>\n",
       "    <tr>\n",
       "      <th>Mobile AL</th>\n",
       "      <td>10870</td>\n",
       "    </tr>\n",
       "    <tr>\n",
       "      <th>Los Angeles CA</th>\n",
       "      <td>10320</td>\n",
       "    </tr>\n",
       "    <tr>\n",
       "      <th>Philadelphia PA</th>\n",
       "      <td>9978</td>\n",
       "    </tr>\n",
       "    <tr>\n",
       "      <th>Charleston SC</th>\n",
       "      <td>9962</td>\n",
       "    </tr>\n",
       "    <tr>\n",
       "      <th>Port Authority of New York/New Jersey NY/NJ</th>\n",
       "      <td>9772</td>\n",
       "    </tr>\n",
       "    <tr>\n",
       "      <th>New Orleans LA</th>\n",
       "      <td>7668</td>\n",
       "    </tr>\n",
       "    <tr>\n",
       "      <th>Savannah GA</th>\n",
       "      <td>7047</td>\n",
       "    </tr>\n",
       "  </tbody>\n",
       "</table>\n",
       "</div>"
      ],
      "text/plain": [
       "                                             total_shipping\n",
       "name                                                       \n",
       "Memphis TN                                            14412\n",
       "Chicago IL                                            14183\n",
       "Houston TX                                            13337\n",
       "Mobile AL                                             10870\n",
       "Los Angeles CA                                        10320\n",
       "Philadelphia PA                                        9978\n",
       "Charleston SC                                          9962\n",
       "Port Authority of New York/New Jersey NY/NJ            9772\n",
       "New Orleans LA                                         7668\n",
       "Savannah GA                                            7047"
      ]
     },
     "execution_count": 29,
     "metadata": {},
     "output_type": "execute_result"
    }
   ],
   "source": [
    "df_selldist = df_distribution.groupby([\"name\"])[[\"country\"]].count().sort_values(by='country', ascending=False)\n",
    "df_selldist = df_selldist.rename(columns ={'country':'total_shipping'})\n",
    "df_selldist.head(10)"
   ]
  },
  {
   "cell_type": "markdown",
   "metadata": {},
   "source": [
    "Lalu di plot kedalam pie chart untuk mengetahui perbedaan pembebanan shipping dalam bentuk persentase."
   ]
  },
  {
   "cell_type": "code",
   "execution_count": 30,
   "metadata": {},
   "outputs": [
    {
     "data": {
      "image/png": "[encoded data removed]",
      "text/plain": [
       "<Figure size 360x432 with 1 Axes>"
      ]
     },
     "metadata": {},
     "output_type": "display_data"
    }
   ],
   "source": [
    "df_selldist.loc[:,'total_shipping'].plot(kind='pie', figsize=(5, 6), autopct='%1.1f%%', startangle=90, shadow=False)      \n",
    "\n",
    "plt.title('Shipping Percentage')\n",
    "plt.axis('equal') # Sets the pie chart to look like a circle.\n",
    "plt.ylabel('')\n",
    "plt.show()"
   ]
  },
  {
   "cell_type": "markdown",
   "metadata": {},
   "source": [
    "Dari pie chart ini, terlihat adanya ketidak merataan pembebanan pengiriman antar distribution center. Dimana pembebanan terendah dimiliki Savannah GA yaitu 6.6% dan yang tertinggi Memphis TN dengan 13.4%. Pembebanan Memphis TN mencapai 2x lipat Savannah GA, perlu dianalisa apakah kapasitas distribution center tersebut memadai untuk menangani pembebanan ini. Apabila kapasitas kedua distribution center ini sama maka disarankan untuk melakukan penyesuaian kapasitas."
   ]
  },
  {
   "cell_type": "markdown",
   "metadata": {},
   "source": [
    "## Case 6: Cari top 3 distribution center dengan beban tertinggi dan berapa banyak shipping per negara yang di handle?\n"
   ]
  },
  {
   "cell_type": "markdown",
   "metadata": {},
   "source": [
    "Menganalisa shipping negara yang dihandle oleh 3 distribution center dengan beban tertinggi untuk mengetahui negara dengan shipping terbanyak per distribution site tersebut."
   ]
  },
  {
   "cell_type": "markdown",
   "metadata": {},
   "source": [
    "Dimulai dari mengumpulkan data dari site Memphis TN, dan mencari 8 negara teratas. Sisanya dikelompokkan menjadi other country untuk menyederhanakan analisa."
   ]
  },
  {
   "cell_type": "code",
   "execution_count": 31,
   "metadata": {},
   "outputs": [
    {
     "ename": "ValueError",
     "evalue": "'country' is both an index level and a column label, which is ambiguous.",
     "output_type": "error",
     "traceback": [
      "\u001b[1;31m---------------------------------------------------------------------------\u001b[0m",
      "\u001b[1;31mValueError\u001b[0m                                Traceback (most recent call last)",
      "\u001b[1;32m~\\AppData\\Local\\Temp\\ipykernel_4392\\3954733118.py\u001b[0m in \u001b[0;36m<module>\u001b[1;34m\u001b[0m\n\u001b[1;32m----> 1\u001b[1;33m \u001b[0mdf_countdistMT\u001b[0m \u001b[1;33m=\u001b[0m \u001b[0mdf_distribution\u001b[0m\u001b[1;33m[\u001b[0m\u001b[0mdf_distribution\u001b[0m\u001b[1;33m[\u001b[0m\u001b[1;34m'name'\u001b[0m\u001b[1;33m]\u001b[0m\u001b[1;33m==\u001b[0m\u001b[1;34m'Memphis TN'\u001b[0m\u001b[1;33m]\u001b[0m\u001b[1;33m.\u001b[0m\u001b[0mgroupby\u001b[0m\u001b[1;33m(\u001b[0m\u001b[1;33m[\u001b[0m\u001b[1;34m\"country\"\u001b[0m\u001b[1;33m]\u001b[0m\u001b[1;33m)\u001b[0m\u001b[1;33m[\u001b[0m\u001b[1;33m[\u001b[0m\u001b[1;34m\"country\"\u001b[0m\u001b[1;33m]\u001b[0m\u001b[1;33m]\u001b[0m\u001b[1;33m.\u001b[0m\u001b[0mcount\u001b[0m\u001b[1;33m(\u001b[0m\u001b[1;33m)\u001b[0m\u001b[1;33m.\u001b[0m\u001b[0msort_values\u001b[0m\u001b[1;33m(\u001b[0m\u001b[0mby\u001b[0m\u001b[1;33m=\u001b[0m\u001b[1;34m'country'\u001b[0m\u001b[1;33m,\u001b[0m \u001b[0mascending\u001b[0m\u001b[1;33m=\u001b[0m\u001b[1;32mFalse\u001b[0m\u001b[1;33m)\u001b[0m\u001b[1;33m\u001b[0m\u001b[0m\n\u001b[0m\u001b[0;32m      2\u001b[0m \u001b[1;33m\u001b[0m\u001b[0m\n\u001b[0;32m      3\u001b[0m \u001b[0mothers\u001b[0m \u001b[1;33m=\u001b[0m \u001b[0mdf_countdistMT\u001b[0m\u001b[1;33m.\u001b[0m\u001b[0miloc\u001b[0m\u001b[1;33m[\u001b[0m\u001b[1;36m8\u001b[0m\u001b[1;33m:\u001b[0m\u001b[1;33m,\u001b[0m\u001b[1;36m0\u001b[0m\u001b[1;33m]\u001b[0m\u001b[1;33m.\u001b[0m\u001b[0msum\u001b[0m\u001b[1;33m(\u001b[0m\u001b[1;33m)\u001b[0m\u001b[1;33m\u001b[0m\u001b[0m\n\u001b[0;32m      4\u001b[0m \u001b[0mdf_countdistMT\u001b[0m\u001b[1;33m.\u001b[0m\u001b[0miloc\u001b[0m\u001b[1;33m[\u001b[0m\u001b[1;36m8\u001b[0m\u001b[1;33m,\u001b[0m\u001b[1;36m0\u001b[0m\u001b[1;33m]\u001b[0m \u001b[1;33m=\u001b[0m \u001b[0mothers\u001b[0m\u001b[1;33m\u001b[0m\u001b[0m\n\u001b[0;32m      5\u001b[0m \u001b[0mdf_countdistMT\u001b[0m \u001b[1;33m=\u001b[0m \u001b[0mdf_countdistMT\u001b[0m\u001b[1;33m.\u001b[0m\u001b[0mrename\u001b[0m\u001b[1;33m(\u001b[0m\u001b[0mindex\u001b[0m\u001b[1;33m=\u001b[0m\u001b[1;33m{\u001b[0m\u001b[0mdf_countdistMT\u001b[0m\u001b[1;33m.\u001b[0m\u001b[0mindex\u001b[0m\u001b[1;33m[\u001b[0m\u001b[1;36m8\u001b[0m\u001b[1;33m]\u001b[0m\u001b[1;33m:\u001b[0m \u001b[1;34m\"Other country\"\u001b[0m\u001b[1;33m}\u001b[0m\u001b[1;33m)\u001b[0m\u001b[1;33m\u001b[0m\u001b[0m\n",
      "\u001b[1;32mc:\\ProgramData\\Anaconda3\\lib\\site-packages\\pandas\\util\\_decorators.py\u001b[0m in \u001b[0;36mwrapper\u001b[1;34m(*args, **kwargs)\u001b[0m\n\u001b[0;32m    309\u001b[0m                     \u001b[0mstacklevel\u001b[0m\u001b[1;33m=\u001b[0m\u001b[0mstacklevel\u001b[0m\u001b[1;33m,\u001b[0m\u001b[1;33m\u001b[0m\u001b[0m\n\u001b[0;32m    310\u001b[0m                 )\n\u001b[1;32m--> 311\u001b[1;33m             \u001b[1;32mreturn\u001b[0m \u001b[0mfunc\u001b[0m\u001b[1;33m(\u001b[0m\u001b[1;33m*\u001b[0m\u001b[0margs\u001b[0m\u001b[1;33m,\u001b[0m \u001b[1;33m**\u001b[0m\u001b[0mkwargs\u001b[0m\u001b[1;33m)\u001b[0m\u001b[1;33m\u001b[0m\u001b[0m\n\u001b[0m\u001b[0;32m    312\u001b[0m \u001b[1;33m\u001b[0m\u001b[0m\n\u001b[0;32m    313\u001b[0m         \u001b[1;32mreturn\u001b[0m \u001b[0mwrapper\u001b[0m\u001b[1;33m\u001b[0m\u001b[0m\n",
      "\u001b[1;32mc:\\ProgramData\\Anaconda3\\lib\\site-packages\\pandas\\core\\frame.py\u001b[0m in \u001b[0;36msort_values\u001b[1;34m(self, by, axis, ascending, inplace, kind, na_position, ignore_index, key)\u001b[0m\n\u001b[0;32m   6257\u001b[0m \u001b[1;33m\u001b[0m\u001b[0m\n\u001b[0;32m   6258\u001b[0m             \u001b[0mby\u001b[0m \u001b[1;33m=\u001b[0m \u001b[0mby\u001b[0m\u001b[1;33m[\u001b[0m\u001b[1;36m0\u001b[0m\u001b[1;33m]\u001b[0m\u001b[1;33m\u001b[0m\u001b[0m\n\u001b[1;32m-> 6259\u001b[1;33m             \u001b[0mk\u001b[0m \u001b[1;33m=\u001b[0m \u001b[0mself\u001b[0m\u001b[1;33m.\u001b[0m\u001b[0m_get_label_or_level_values\u001b[0m\u001b[1;33m(\u001b[0m\u001b[0mby\u001b[0m\u001b[1;33m,\u001b[0m \u001b[0maxis\u001b[0m\u001b[1;33m=\u001b[0m\u001b[0maxis\u001b[0m\u001b[1;33m)\u001b[0m\u001b[1;33m\u001b[0m\u001b[0m\n\u001b[0m\u001b[0;32m   6260\u001b[0m \u001b[1;33m\u001b[0m\u001b[0m\n\u001b[0;32m   6261\u001b[0m             \u001b[1;31m# need to rewrap column in Series to apply key function\u001b[0m\u001b[1;33m\u001b[0m\u001b[1;33m\u001b[0m\u001b[0m\n",
      "\u001b[1;32mc:\\ProgramData\\Anaconda3\\lib\\site-packages\\pandas\\core\\generic.py\u001b[0m in \u001b[0;36m_get_label_or_level_values\u001b[1;34m(self, key, axis)\u001b[0m\n\u001b[0;32m   1772\u001b[0m \u001b[1;33m\u001b[0m\u001b[0m\n\u001b[0;32m   1773\u001b[0m         \u001b[1;32mif\u001b[0m \u001b[0mself\u001b[0m\u001b[1;33m.\u001b[0m\u001b[0m_is_label_reference\u001b[0m\u001b[1;33m(\u001b[0m\u001b[0mkey\u001b[0m\u001b[1;33m,\u001b[0m \u001b[0maxis\u001b[0m\u001b[1;33m=\u001b[0m\u001b[0maxis\u001b[0m\u001b[1;33m)\u001b[0m\u001b[1;33m:\u001b[0m\u001b[1;33m\u001b[0m\u001b[0m\n\u001b[1;32m-> 1774\u001b[1;33m             \u001b[0mself\u001b[0m\u001b[1;33m.\u001b[0m\u001b[0m_check_label_or_level_ambiguity\u001b[0m\u001b[1;33m(\u001b[0m\u001b[0mkey\u001b[0m\u001b[1;33m,\u001b[0m \u001b[0maxis\u001b[0m\u001b[1;33m=\u001b[0m\u001b[0maxis\u001b[0m\u001b[1;33m)\u001b[0m\u001b[1;33m\u001b[0m\u001b[0m\n\u001b[0m\u001b[0;32m   1775\u001b[0m             \u001b[0mvalues\u001b[0m \u001b[1;33m=\u001b[0m \u001b[0mself\u001b[0m\u001b[1;33m.\u001b[0m\u001b[0mxs\u001b[0m\u001b[1;33m(\u001b[0m\u001b[0mkey\u001b[0m\u001b[1;33m,\u001b[0m \u001b[0maxis\u001b[0m\u001b[1;33m=\u001b[0m\u001b[0mother_axes\u001b[0m\u001b[1;33m[\u001b[0m\u001b[1;36m0\u001b[0m\u001b[1;33m]\u001b[0m\u001b[1;33m)\u001b[0m\u001b[1;33m.\u001b[0m\u001b[0m_values\u001b[0m\u001b[1;33m\u001b[0m\u001b[0m\n\u001b[0;32m   1776\u001b[0m         \u001b[1;32melif\u001b[0m \u001b[0mself\u001b[0m\u001b[1;33m.\u001b[0m\u001b[0m_is_level_reference\u001b[0m\u001b[1;33m(\u001b[0m\u001b[0mkey\u001b[0m\u001b[1;33m,\u001b[0m \u001b[0maxis\u001b[0m\u001b[1;33m=\u001b[0m\u001b[0maxis\u001b[0m\u001b[1;33m)\u001b[0m\u001b[1;33m:\u001b[0m\u001b[1;33m\u001b[0m\u001b[0m\n",
      "\u001b[1;32mc:\\ProgramData\\Anaconda3\\lib\\site-packages\\pandas\\core\\generic.py\u001b[0m in \u001b[0;36m_check_label_or_level_ambiguity\u001b[1;34m(self, key, axis)\u001b[0m\n\u001b[0;32m   1731\u001b[0m                 \u001b[1;34mf\"{label_article} {label_type} label, which is ambiguous.\"\u001b[0m\u001b[1;33m\u001b[0m\u001b[0m\n\u001b[0;32m   1732\u001b[0m             )\n\u001b[1;32m-> 1733\u001b[1;33m             \u001b[1;32mraise\u001b[0m \u001b[0mValueError\u001b[0m\u001b[1;33m(\u001b[0m\u001b[0mmsg\u001b[0m\u001b[1;33m)\u001b[0m\u001b[1;33m\u001b[0m\u001b[0m\n\u001b[0m\u001b[0;32m   1734\u001b[0m \u001b[1;33m\u001b[0m\u001b[0m\n\u001b[0;32m   1735\u001b[0m     \u001b[1;33m@\u001b[0m\u001b[0mfinal\u001b[0m\u001b[1;33m\u001b[0m\u001b[0m\n",
      "\u001b[1;31mValueError\u001b[0m: 'country' is both an index level and a column label, which is ambiguous."
     ]
    }
   ],
   "source": [
    "df_countdistMT = df_distribution[df_distribution['name']=='Memphis TN'].groupby([\"country\"])[[\"country\"]].count().sort_values(by='country', ascending=False)\n",
    "\n",
    "others = df_countdistMT.iloc[8:,0].sum()\n",
    "df_countdistMT.iloc[8,0] = others\n",
    "df_countdistMT = df_countdistMT.rename(index={df_countdistMT.index[8]: \"Other country\"})\n",
    "\n",
    "df_countdistMT = df_countdistMT.drop(df_countdistMT.index[9:], axis=0 )\n",
    "df_countdistMT\n",
    "\n",
    "\n",
    "df_countdistMT.loc[:,'country'].plot(kind='pie', figsize=(5, 6), autopct='%1.1f%%', startangle=90, shadow=False)      \n",
    "\n",
    "plt.title('Shipping Percentage')\n",
    "plt.axis('equal') \n",
    "\n",
    "plt.show()"
   ]
  },
  {
   "cell_type": "markdown",
   "metadata": {},
   "source": [
    "other country = Japan,Australia,Belgium, Poland, Colombia"
   ]
  },
  {
   "cell_type": "markdown",
   "metadata": {},
   "source": [
    "Negara dengan shipping tertinggi bagi Memphis TN yakni China, United States dan Brasil.\n",
    "lanjutkan analisa ke Chicage IL"
   ]
  },
  {
   "cell_type": "code",
   "execution_count": null,
   "metadata": {},
   "outputs": [
    {
     "name": "stderr",
     "output_type": "stream",
     "text": [
      "c:\\ProgramData\\Anaconda3\\lib\\site-packages\\ipykernel_launcher.py:1: FutureWarning: 'country' is both an index level and a column label.\n",
      "Defaulting to column, but this will raise an ambiguity error in a future version\n",
      "  \"\"\"Entry point for launching an IPython kernel.\n"
     ]
    },
    {
     "data": {
      "image/png": "[encoded data removed]",
      "text/plain": [
       "<Figure size 360x432 with 1 Axes>"
      ]
     },
     "metadata": {},
     "output_type": "display_data"
    }
   ],
   "source": [
    "df_countdistCI = df_distribution[df_distribution['name']=='Chicago IL'].groupby([\"country\"])[[\"country\"]].count().sort_values(by='country', ascending=False)\n",
    "\n",
    "others = df_countdistCI.iloc[8:,0].sum()\n",
    "df_countdistCI.iloc[8,0] = others\n",
    "df_countdistCI = df_countdistCI.rename(index={df_countdistCI.index[8]: \"Other country\"})\n",
    "\n",
    "df_countdistCI = df_countdistCI.drop(df_countdistCI.index[9:], axis=0 )\n",
    "df_countdistCI\n",
    "\n",
    "\n",
    "df_countdistCI.loc[:,'country'].plot(kind='pie', figsize=(5, 6), autopct='%1.1f%%', startangle=90, shadow=False)      \n",
    "\n",
    "plt.title('Shipping Percentage')\n",
    "plt.axis('equal')\n",
    "plt.ylabel('')\n",
    "\n",
    "plt.show()"
   ]
  },
  {
   "cell_type": "markdown",
   "metadata": {},
   "source": [
    "other country = Japan,Australia,Belgium, Poland"
   ]
  },
  {
   "cell_type": "markdown",
   "metadata": {},
   "source": [
    "Negara dengan shipping tertinggi bagi Chicago IL yakni China, United States dan Brasil.\n",
    "lanjutkan analisa ke Huoston TX"
   ]
  },
  {
   "cell_type": "code",
   "execution_count": null,
   "metadata": {},
   "outputs": [
    {
     "name": "stderr",
     "output_type": "stream",
     "text": [
      "c:\\ProgramData\\Anaconda3\\lib\\site-packages\\ipykernel_launcher.py:1: FutureWarning: 'country' is both an index level and a column label.\n",
      "Defaulting to column, but this will raise an ambiguity error in a future version\n",
      "  \"\"\"Entry point for launching an IPython kernel.\n"
     ]
    },
    {
     "data": {
      "image/png": "[encoded data removed]",
      "text/plain": [
       "<Figure size 360x432 with 1 Axes>"
      ]
     },
     "metadata": {},
     "output_type": "display_data"
    }
   ],
   "source": [
    "df_countdistHT = df_distribution[df_distribution['name']=='Houston TX'].groupby([\"country\"])[[\"country\"]].count().sort_values(by='country', ascending=False)\n",
    "\n",
    "others = df_countdistHT.iloc[8:,0].sum()\n",
    "df_countdistHT.iloc[8,0] = others\n",
    "df_countdistHT = df_countdistHT.rename(index={df_countdistHT.index[8]: \"Other country\"})\n",
    "\n",
    "df_countdistHT = df_countdistHT.drop(df_countdistHT.index[9:], axis=0 )\n",
    "df_countdistHT\n",
    "\n",
    "\n",
    "df_countdistHT.loc[:,'country'].plot(kind='pie', figsize=(5, 6), autopct='%1.1f%%', startangle=90, shadow=False)      \n",
    "\n",
    "plt.title('Shipping Percentage')\n",
    "plt.axis('equal') \n",
    "plt.ylabel('')\n",
    "plt.show()"
   ]
  },
  {
   "cell_type": "markdown",
   "metadata": {},
   "source": [
    "other country = Japan,Australia,Belgium,Poland"
   ]
  },
  {
   "cell_type": "markdown",
   "metadata": {},
   "source": [
    "Negara dengan shipping tertinggi bagi Houston TX yakni China, United States dan Brasil."
   ]
  },
  {
   "cell_type": "markdown",
   "metadata": {},
   "source": [
    "Negara yang dominan pada ketiga distribution center ini adalah China, United States, dan Brazil.\n",
    "Dimana dari data ini dapat disimpilkan bahwa permintaan dari ketiga negara ini sangat tinggi, apabila terdapat kemungkinan penyesuaian kapasitas maka disarankan untuk meningkatkan kapasitas pada distribution center yang berada pada sekitar 3 negara ini."
   ]
  },
  {
   "cell_type": "markdown",
   "metadata": {},
   "source": [
    "## Conclusions, Assumptions, Overall Analysis\n",
    "\n",
    "Dari analisa-analisa diatas terdapat beberapa point yang perlu menjadi perhatian management\n",
    "1. adanya overstock, perbedaan yang besar antara inventory dan sold item.\n",
    "2. tingginya returned item, management dapat berfokus pada kategori Intimate, Jeans dan shorts.\n",
    "3. penyesuian produk spesifikasi terhadap usia mayoritas pelanggan yakni 22 bagi wanita dan 54 bagi pria.\n",
    "4. terlihat adanya ketidak merataan pembebanan pengiriman antar distribution center. Dimana pembebanan terendah dimiliki Savannah GA yaitu 6.6% dan yang tertinggi Memphis TN dengan 13.4%.\n",
    "\n",
    "Kemudian terdapat saran apabila management berencana membangin distribution center baru yakni membangun distribution center yang berada pada sekitar China, United States, dan Brazil"
   ]
  }
 ],
 "metadata": {
  "interpreter": {
   "hash": "ad2bdc8ecc057115af97d19610ffacc2b4e99fae6737bb82f5d7fb13d2f2c186"
  },
  "kernelspec": {
   "display_name": "Python 3.7.0 ('base')",
   "language": "python",
   "name": "python3"
  },
  "language_info": {
   "codemirror_mode": {
    "name": "ipython",
    "version": 3
   },
   "file_extension": ".py",
   "mimetype": "text/x-python",
   "name": "python",
   "nbconvert_exporter": "python",
   "pygments_lexer": "ipython3",
   "version": "3.7.0"
  },
  "orig_nbformat": 4
 },
 "nbformat": 4,
 "nbformat_minor": 2
}
