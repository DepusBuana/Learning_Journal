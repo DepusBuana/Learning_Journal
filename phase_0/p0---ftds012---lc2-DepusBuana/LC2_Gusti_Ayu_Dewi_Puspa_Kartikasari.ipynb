{
 "cells": [
  {
   "cell_type": "markdown",
   "metadata": {},
   "source": [
    "**Using this template**\n",
    "\n",
    "1. Change notebook title to assignment title you working on, eg. `Graded Challenge 1 or Milestone 1`\n",
    "2. Put your identity such as name and batch number below notebook title.\n",
    "3. Write your description before do any work. State your purpose of this assignment and what you are trying to achieve. \n",
    "4. Look at the rubric of this assignment and make sure you understand the criteria.\n",
    "5. Code your solution in the cell provided below the working area section.\n",
    "6. State your conlusions, findings, and any other relevant information in the cell provided below the conclusions sections.\n",
    "7. Save this notebook and rename it to assignment title you working on  eg. `Graded Challenge 1 or Milestone 1`\n",
    "8. Push your assignment before deadline.\n",
    "9. Good Luck!"
   ]
  },
  {
   "cell_type": "markdown",
   "metadata": {},
   "source": [
    "# Notebook Title\n",
    "\n",
    "Live Code 2\n",
    "\n",
    "Nama: Gusti Ayu Dewi Puspa Kartikasari\n",
    "\n",
    "Batch: 012"
   ]
  },
  {
   "cell_type": "markdown",
   "metadata": {},
   "source": [
    "## Description\n",
    "\n",
    "### Objective\n",
    "\n",
    "Do and answer the instructions and questions in live code 2\n",
    "\n",
    "### Problem Statement\n",
    "Problem 1:\n",
    "\n",
    "Buatlah vektor yang merupakan representasi masing-masing kalimat berdasarkan tabel di atas dan hitung cosine similarity antar kedua vektor. Kemudian jawab pertanyaan berikut di markdown:\n",
    "\n",
    "\n",
    "a. Apakah kedua kalimat memiliki konteks yang serupa? jika iya, mengapa dan jika tidak, mengapa (jawab berdasarkan hasil perhitungan cosine similaritynya)?\n",
    "\n",
    "\n",
    "b. Jika meninjau dua buah vektor dan dihitung cosine similaritynya (cos theta), jelaskan secara singkat, jelas, padat apa makna cosine similarity yang bernilai 0 dan 1 (tinjau dari posisi dua vektor di koordinat kartesian)?\n",
    "\n",
    "\n",
    "c. Apa kekurangan dari perhitungan kemiripan menggunakan cosine similarity?\n",
    "\n",
    "\n",
    "Problem 2:\n",
    "\n",
    "Menggunakan konsep integral untuk menghitung luas dibawah kurva, tentukan luas negara bagian Colorado jika diketahui koordinat batas-batasnya pada data yang sudah kamu ambil dari big query.\n",
    "\n",
    "Jawab pertanyaan berikut di markdown:\n",
    "\n",
    "a. Integral jenis apa yang diterapkan pada kasus ini? (Tertentu/Tak tentu) dan mengapa demikian? berikan alasan!\n",
    "\n",
    "b. Untuk kasus ini, metode apa yang kamu pakai dalam perhitungan integral? secara simbolik atau numerik, dan mengapa?\n",
    "\n",
    "c. Library Scipy menyediakan banyak function/modul untuk menghitung integral. Function apa yang kamu gunakan dan berikan alasan yang logis!"
   ]
  },
  {
   "cell_type": "markdown",
   "metadata": {},
   "source": [
    "## Working Area\n",
    "\n",
    "```txt\n",
    "Put your code, analysis, everything below this line\n",
    "\n",
    "Make sure to check everything the rubric requires before you submit\n",
    "```"
   ]
  },
  {
   "cell_type": "markdown",
   "metadata": {},
   "source": [
    "# PROBLEM 1"
   ]
  },
  {
   "cell_type": "markdown",
   "metadata": {},
   "source": [
    "## import library needed"
   ]
  },
  {
   "cell_type": "code",
   "execution_count": 1,
   "metadata": {},
   "outputs": [],
   "source": [
    "import numpy as np\n",
    "import pandas as pd\n",
    "import re\n",
    "from scipy.integrate import trapz #import trapezoid"
   ]
  },
  {
   "cell_type": "markdown",
   "metadata": {},
   "source": [
    "## Creating vector for each sentence"
   ]
  },
  {
   "cell_type": "code",
   "execution_count": 2,
   "metadata": {},
   "outputs": [
    {
     "name": "stdout",
     "output_type": "stream",
     "text": [
      "[2 0 1 1 0 2 1 1]\n",
      "[2 1 1 0 1 1 1 1]\n"
     ]
    }
   ],
   "source": [
    "sentence1 = np.array([2,0,1,1,0,2,1,1])\n",
    "sentence2 = np.array([2,1,1,0,1,1,1,1])\n",
    "\n",
    "print(sentence1)\n",
    "print(sentence2)"
   ]
  },
  {
   "cell_type": "markdown",
   "metadata": {},
   "source": [
    "## Calculate cosine similarity between the two vector"
   ]
  },
  {
   "cell_type": "code",
   "execution_count": 3,
   "metadata": {},
   "outputs": [
    {
     "name": "stdout",
     "output_type": "stream",
     "text": [
      "dot product from sentence 1 . sentence 2:  9\n",
      "cosine similarity sentence 1 and sentence 2:  0.8215838362577491\n"
     ]
    }
   ],
   "source": [
    "dotprod = sentence1 @ sentence2\n",
    "print('dot product from sentence 1 . sentence 2: ', dotprod)\n",
    "\n",
    "cosine_similarity = dotprod/(np.linalg.norm(sentence1)*np.linalg.norm(sentence2))\n",
    "print('cosine similarity sentence 1 and sentence 2: ', cosine_similarity)"
   ]
  },
  {
   "cell_type": "markdown",
   "metadata": {},
   "source": [
    "Note: Kemiripan kalimat 1 dan 2 yaitu 0.82 atau 82%"
   ]
  },
  {
   "cell_type": "markdown",
   "metadata": {},
   "source": [
    "## Jawaban pertanyaan Problem 1:\n",
    "\n",
    "1. Apakah kedua kalimat memiliki konteks yang serupa? jika iya, mengapa dan jika tidak, mengapa (jawab berdasarkan hasil perhitungan cosine similaritynya)?\n",
    "\n",
    "**Jawab:  Kedua kalimat memiliki konteks yang hampir serupa, bisa dilihat dari perhitungan cosine similarity yakni 0.82 (pembulatan kebawah) yang dapat diartikan sebagai kalimat 1 dan kalimat 2 memiliki kemiripan 82%.**\n",
    "\n",
    "2. Jika meninjau dua buah vektor dan dihitung cosine similaritynya (cos theta), jelaskan secara singkat, jelas, padat apa makna cosine similarity yang bernilai 0 dan 1 (tinjau dari posisi dua vektor di koordinat kartesian)?\n",
    "\n",
    "**Jawab: cos theta atau cosine similarity yang bernilai 0 memiliki derajat cos 90 atau 270 derajat yang dapat diartikan bahwa kalimat 1 dan kalimat 2 tidak sejajar/tidak memiliki kemiripan sama sekali. Namun cos theta = 1 memiliki derajat 0,180 atau 360 derajat yang artinya kalimat1 dan kalimat2 sangat mirip atau sama dengan satu sama lainnya.**\n",
    "\n",
    "\n",
    "3. Apa kekurangan dari perhitungan kemiripan menggunakan cosine similarity?\n",
    "\n",
    "**Jawab: kekurangannya yaitu cosine similarity tidak memperhitungkan posisi atau susunan kalimat. Seperti andi mengejar ayam dan ayam mengejar andi akan terhitung sebagai sama, walau susunan membuat mereka memiliki arti yang berbeda.**\n"
   ]
  },
  {
   "cell_type": "markdown",
   "metadata": {},
   "source": [
    "# PROBLEM 2"
   ]
  },
  {
   "cell_type": "markdown",
   "metadata": {},
   "source": [
    "## Creating csv on google cloud platform\n",
    "Gunakan tabel states pada dataset geo_us_boundaries. \n",
    "Pilih HANYA negara bagian Colorado (Informasi nama negara bagian terdapat di kolom state_name).\n",
    "\n",
    "SQL Code:\n",
    "\n",
    "select *\n",
    "\n",
    "from `bigquery-public-data.geo_us_boundaries.states` as boundaries\n",
    "\n",
    "where state_name = 'Colorado';"
   ]
  },
  {
   "cell_type": "markdown",
   "metadata": {},
   "source": [
    "## Tampilkan data pada notebook (Data hanya mengandung satu baris saja)"
   ]
  },
  {
   "cell_type": "code",
   "execution_count": 4,
   "metadata": {},
   "outputs": [
    {
     "data": {
      "text/html": [
       "<div>\n",
       "<style scoped>\n",
       "    .dataframe tbody tr th:only-of-type {\n",
       "        vertical-align: middle;\n",
       "    }\n",
       "\n",
       "    .dataframe tbody tr th {\n",
       "        vertical-align: top;\n",
       "    }\n",
       "\n",
       "    .dataframe thead th {\n",
       "        text-align: right;\n",
       "    }\n",
       "</style>\n",
       "<table border=\"1\" class=\"dataframe\">\n",
       "  <thead>\n",
       "    <tr style=\"text-align: right;\">\n",
       "      <th></th>\n",
       "      <th>geo_id</th>\n",
       "      <th>region_code</th>\n",
       "      <th>division_code</th>\n",
       "      <th>state_fips_code</th>\n",
       "      <th>state_gnis_code</th>\n",
       "      <th>state</th>\n",
       "      <th>state_name</th>\n",
       "      <th>lsad_code</th>\n",
       "      <th>mtfcc_feature_class_code</th>\n",
       "      <th>functional_status</th>\n",
       "      <th>area_land_meters</th>\n",
       "      <th>area_water_meters</th>\n",
       "      <th>int_point_lat</th>\n",
       "      <th>int_point_lon</th>\n",
       "      <th>int_point_geom</th>\n",
       "      <th>state_geom</th>\n",
       "    </tr>\n",
       "  </thead>\n",
       "  <tbody>\n",
       "    <tr>\n",
       "      <th>0</th>\n",
       "      <td>8</td>\n",
       "      <td>4</td>\n",
       "      <td>8</td>\n",
       "      <td>8</td>\n",
       "      <td>1779779</td>\n",
       "      <td>CO</td>\n",
       "      <td>Colorado</td>\n",
       "      <td>0</td>\n",
       "      <td>G4000</td>\n",
       "      <td>A</td>\n",
       "      <td>268419875371</td>\n",
       "      <td>1184637800</td>\n",
       "      <td>38.993848</td>\n",
       "      <td>-105.508317</td>\n",
       "      <td>POINT(-105.5083165 38.9938482)</td>\n",
       "      <td>POLYGON((-109.050949 40.222647, -109.050952 40...</td>\n",
       "    </tr>\n",
       "  </tbody>\n",
       "</table>\n",
       "</div>"
      ],
      "text/plain": [
       "   geo_id  region_code  division_code  state_fips_code  state_gnis_code state  \\\n",
       "0       8            4              8                8          1779779    CO   \n",
       "\n",
       "  state_name  lsad_code mtfcc_feature_class_code functional_status  \\\n",
       "0   Colorado          0                    G4000                 A   \n",
       "\n",
       "   area_land_meters  area_water_meters  int_point_lat  int_point_lon  \\\n",
       "0      268419875371         1184637800      38.993848    -105.508317   \n",
       "\n",
       "                   int_point_geom  \\\n",
       "0  POINT(-105.5083165 38.9938482)   \n",
       "\n",
       "                                          state_geom  \n",
       "0  POLYGON((-109.050949 40.222647, -109.050952 40...  "
      ]
     },
     "execution_count": 4,
     "metadata": {},
     "output_type": "execute_result"
    }
   ],
   "source": [
    "data=pd.read_csv(r'h8dsft_P0LC2_Gusti_Ayu_Dewi_Puspa_Kartikasari.csv')\n",
    "data"
   ]
  },
  {
   "cell_type": "markdown",
   "metadata": {},
   "source": [
    "### Gunakan fungsi berikut untuk membantu kamu agar data kamu siap digunakan dan tampilkan data yang sudah di-preprocess dengan fungsi tersebut. Kamu harus mengimport library re terlebih dahulu ke dalam pekerjaanmu."
   ]
  },
  {
   "cell_type": "markdown",
   "metadata": {},
   "source": [
    "## Import re"
   ]
  },
  {
   "cell_type": "code",
   "execution_count": 5,
   "metadata": {},
   "outputs": [],
   "source": [
    "import re"
   ]
  },
  {
   "cell_type": "markdown",
   "metadata": {},
   "source": [
    "## Using function to prepare the data"
   ]
  },
  {
   "cell_type": "code",
   "execution_count": 6,
   "metadata": {},
   "outputs": [],
   "source": [
    "def data_preprocess(data):\n",
    "   long = []\n",
    "   lat = []\n",
    "   for row in data['state_geom'][0].split(', '):\n",
    "     row = re.sub('MULTIPOLYGON','',row)\n",
    "     row = re.sub('POLYGON','',row)\n",
    "     row = re.sub(r'\\(','',row)\n",
    "     row = re.sub(r'\\)','',row)\n",
    "     long.append(float(row.split(' ')[0]))\n",
    "     lat.append(float(row.split(' ')[1]))\n",
    "   return pd.DataFrame({'long':long,'lat':lat}).sort_values('long',ascending=True)"
   ]
  },
  {
   "cell_type": "markdown",
   "metadata": {},
   "source": [
    "## create table name 'coordinate' to store the result and show the data"
   ]
  },
  {
   "cell_type": "code",
   "execution_count": 7,
   "metadata": {},
   "outputs": [
    {
     "data": {
      "text/html": [
       "<div>\n",
       "<style scoped>\n",
       "    .dataframe tbody tr th:only-of-type {\n",
       "        vertical-align: middle;\n",
       "    }\n",
       "\n",
       "    .dataframe tbody tr th {\n",
       "        vertical-align: top;\n",
       "    }\n",
       "\n",
       "    .dataframe thead th {\n",
       "        text-align: right;\n",
       "    }\n",
       "</style>\n",
       "<table border=\"1\" class=\"dataframe\">\n",
       "  <thead>\n",
       "    <tr style=\"text-align: right;\">\n",
       "      <th></th>\n",
       "      <th>long</th>\n",
       "      <th>lat</th>\n",
       "    </tr>\n",
       "  </thead>\n",
       "  <tbody>\n",
       "    <tr>\n",
       "      <th>759</th>\n",
       "      <td>-109.060204</td>\n",
       "      <td>38.278238</td>\n",
       "    </tr>\n",
       "    <tr>\n",
       "      <th>760</th>\n",
       "      <td>-109.060187</td>\n",
       "      <td>38.275528</td>\n",
       "    </tr>\n",
       "    <tr>\n",
       "      <th>751</th>\n",
       "      <td>-109.060185</td>\n",
       "      <td>38.318670</td>\n",
       "    </tr>\n",
       "    <tr>\n",
       "      <th>743</th>\n",
       "      <td>-109.060180</td>\n",
       "      <td>38.344908</td>\n",
       "    </tr>\n",
       "    <tr>\n",
       "      <th>659</th>\n",
       "      <td>-109.060176</td>\n",
       "      <td>38.462300</td>\n",
       "    </tr>\n",
       "  </tbody>\n",
       "</table>\n",
       "</div>"
      ],
      "text/plain": [
       "           long        lat\n",
       "759 -109.060204  38.278238\n",
       "760 -109.060187  38.275528\n",
       "751 -109.060185  38.318670\n",
       "743 -109.060180  38.344908\n",
       "659 -109.060176  38.462300"
      ]
     },
     "execution_count": 7,
     "metadata": {},
     "output_type": "execute_result"
    }
   ],
   "source": [
    "coordinate = data_preprocess(data) \n",
    "\n",
    "coordinate.head()"
   ]
  },
  {
   "cell_type": "markdown",
   "metadata": {},
   "source": [
    "Note: (long) adalah sumbu x dan Latitude (lat) adalah sumbu y nya. Wilayah Colorado dapat dibagi menjadi dua bagian yaitu Northern dan Southern menggunakan acuan nilai tengah latitude."
   ]
  },
  {
   "cell_type": "markdown",
   "metadata": {},
   "source": [
    "## Calculate Median of colorado"
   ]
  },
  {
   "cell_type": "code",
   "execution_count": 8,
   "metadata": {},
   "outputs": [
    {
     "name": "stdout",
     "output_type": "stream",
     "text": [
      "nilai latitude tertinggi:  41.003444\n",
      "nilai latitude terendah:  36.992449\n",
      "median:  38.9979465\n"
     ]
    }
   ],
   "source": [
    "upper = np.max(coordinate.lat) #nilai latitude tertinggi\n",
    "lower = np.min(coordinate.lat) #nilai latitude terendah\n",
    "print('nilai latitude tertinggi: ', upper)\n",
    "print('nilai latitude terendah: ', lower)\n",
    "\n",
    "median = (upper+lower)/2\n",
    "print('median: ', median) #nilai median"
   ]
  },
  {
   "cell_type": "markdown",
   "metadata": {},
   "source": [
    "## Calculate the total area of colorado"
   ]
  },
  {
   "cell_type": "code",
   "execution_count": 9,
   "metadata": {},
   "outputs": [
    {
     "name": "stdout",
     "output_type": "stream",
     "text": [
      "Luas area Colorado: 27.54223746015316\n"
     ]
    }
   ],
   "source": [
    "from scipy.integrate import trapz #import trapezoid\n",
    "\n",
    "north = coordinate[coordinate.lat >= median] #sorting points that located above the median/north\n",
    "\n",
    "south = coordinate[coordinate.lat < median] #sorting points that located below the median/south\n",
    "\n",
    "north_area = trapz(north.lat,north.long) #trapz(Y,X) = trapz(latitude,longitude)\n",
    "south_area = trapz(south.lat,south.long)\n",
    "\n",
    "print('Luas area Colorado:',np.abs(north_area - south_area))\n"
   ]
  },
  {
   "cell_type": "markdown",
   "metadata": {},
   "source": [
    "Luas area Colorado: 27.54223746015316"
   ]
  },
  {
   "cell_type": "code",
   "execution_count": 13,
   "metadata": {},
   "outputs": [
    {
     "data": {
      "text/plain": [
       "<matplotlib.axes._subplots.AxesSubplot at 0xc1b2470>"
      ]
     },
     "execution_count": 13,
     "metadata": {},
     "output_type": "execute_result"
    },
    {
     "data": {
      "image/png": "[encoded data removed]",
      "text/plain": [
       "<Figure size 432x288 with 1 Axes>"
      ]
     },
     "metadata": {
      "needs_background": "light"
     },
     "output_type": "display_data"
    }
   ],
   "source": [
    "import matplotlib.pyplot as plt\n",
    "\n",
    "fig,ax = plt.subplots()\n",
    "north.plot(x='long', y='lat',ax=ax)\n",
    "south.plot(x='long', y='lat',ax=ax)\n"
   ]
  },
  {
   "cell_type": "markdown",
   "metadata": {},
   "source": [
    "##Jawaban pertanyaan Problem 2:\n",
    "\n",
    "1. Integral jenis apa yang diterapkan pada kasus ini? (Tertentu/Tak tentu) dan mengapa demikian? berikan alasan!\n",
    "\n",
    "**Jawaban: Integral tertentu (definite integral), dikarenakan output yang didapatkan dalam bentuk numeric bukan simbolic serta memiliki data yang jelas untuk diolah sehingga memiliki batas tertentu pada perhitungannya(latitude sebagai y dan longitude sebagai x).**\n",
    "\n",
    "2. Untuk kasus ini, metode apa yang kamu pakai dalam perhitungan integral? secara simbolik atau numerik, dan mengapa?\n",
    "\n",
    "**Jawaban: numerik, karena hasil yang ingin didapat adalah dalam bentuk angka bukan fungsi. Metode symbolic akan menghasilkan hasil tanpa batasan tertentu yakni fungsi (f(x)), sedangkan numeric akan menghasilkan angka.**\n",
    "\n",
    "3. Library Scipy menyediakan banyak function/modul untuk menghitung integral. Function apa yang kamu gunakan dan berikan alasan yang logis!\n",
    "\n",
    "**Jawaban: Modul trapezoid. Dalam integral numeric terdapat 2 metode yakni trapezoid dan quad, dimana quad digunakan apabila data yang digunakan dalam bentuk fungsi dan trapezoid digunakan ketika data yang digunakan dalam bentuk array. Pada soal ini data dalam bentuk array sehingga trapezoid yang dipilih.**\n",
    "\n"
   ]
  },
  {
   "cell_type": "markdown",
   "metadata": {},
   "source": [
    "# Conclusions, Assumptions, Overall Analysis\n",
    "\n",
    "Jawaban pertanyaan Problem 1:\n",
    "Kedua kalimat memiliki konteks yang hampir serupa dengan nilai kemiripan 82%. Nilai cos theta 0.82 mendekati nilai 1, yang menandakan vector kedua kalimat hampir membentuk derajat 0,180 atau 360 hampir sejajar. Namun cosine similarity memiliki kekurangan yaitu tidak memperhitungkan posisi atau susunan kalimat\n",
    "\n",
    "Jawaban pertanyaan Problem 2:\n",
    "Luas area colorado yang didapatkan yaitu: 27.54\n",
    "Integral yang digunakan dalam perhitungan luas colorado adalah integral definite - numeric - modul trapezoid, dikarenakan output yang diharapkan dalam bentuk angka serta data yang digunakan dalam bentuk array (latitude dan longitude) yang menjadi batas perhitungan. \n",
    "\n",
    "\n"
   ]
  }
 ],
 "metadata": {
  "interpreter": {
   "hash": "ad2bdc8ecc057115af97d19610ffacc2b4e99fae6737bb82f5d7fb13d2f2c186"
  },
  "kernelspec": {
   "display_name": "Python 3.7.0 ('base')",
   "language": "python",
   "name": "python3"
  },
  "language_info": {
   "codemirror_mode": {
    "name": "ipython",
    "version": 3
   },
   "file_extension": ".py",
   "mimetype": "text/x-python",
   "name": "python",
   "nbconvert_exporter": "python",
   "pygments_lexer": "ipython3",
   "version": "3.7.0"
  },
  "orig_nbformat": 4
 },
 "nbformat": 4,
 "nbformat_minor": 2
}
