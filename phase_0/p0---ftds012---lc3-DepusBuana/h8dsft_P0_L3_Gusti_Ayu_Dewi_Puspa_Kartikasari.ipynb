{
 "cells": [
  {
   "cell_type": "markdown",
   "metadata": {},
   "source": [
    "**Using this template**\n",
    "\n",
    "1. Change notebook title to assignment title you working on, eg. `Graded Challenge 1 or Milestone 1`\n",
    "2. Put your identity such as name and batch number below notebook title.\n",
    "3. Write your description before do any work. State your purpose of this assignment and what you are trying to achieve. \n",
    "4. Look at the rubric of this assignment and make sure you understand the criteria.\n",
    "5. Code your solution in the cell provided below the working area section.\n",
    "6. State your conlusions, findings, and any other relevant information in the cell provided below the conclusions sections.\n",
    "7. Save this notebook and rename it to assignment title you working on  eg. `Graded Challenge 1 or Milestone 1`\n",
    "8. Push your assignment before deadline.\n",
    "9. Good Luck!"
   ]
  },
  {
   "cell_type": "markdown",
   "metadata": {},
   "source": [
    "# Notebook Title\n",
    "\n",
    "Live Code 3\n",
    "\n",
    "Nama: Gusti Ayu Dewi Puspa Kartikasari\n",
    "\n",
    "Batch: 012"
   ]
  },
  {
   "cell_type": "markdown",
   "metadata": {},
   "source": [
    "## Description\n",
    "\n",
    "### Objective\n",
    "Membantu validasi dugaan tim marketing apakah betul ada anomali pada data transaksi\n",
    "\n",
    "\n",
    "### Problem Statement\n",
    "Kamu adalah seorang data scientist di salah satu perusahaan penjual Liquor. Ada terdapat 5000 transaksi yang terjadi di satu hari untuk suatu produk. Tim marketing menduga ada suatu keanehan pada data transaksi. Bantu tim marketing untuk memvalidasi dugaan mereka apakah betul ada anomali pada data transaksi."
   ]
  },
  {
   "cell_type": "markdown",
   "metadata": {},
   "source": [
    "## Working Area\n",
    "\n",
    "```txt\n",
    "Put your code, analysis, everything below this line\n",
    "\n",
    "Make sure to check everything the rubric requires before you submit\n",
    "```"
   ]
  },
  {
   "cell_type": "markdown",
   "metadata": {},
   "source": [
    "### Salin query yang telah dibuat di Google Cloud Platform, tulislah pada bagian atas notebook\n",
    "\n",
    "select sale_dollars\n",
    "\n",
    "from `bigquery-public-data.iowa_liquor_sales.sales` as liquor\n",
    "\n",
    "LIMIT 5000;"
   ]
  },
  {
   "cell_type": "markdown",
   "metadata": {},
   "source": [
    "### Import Library"
   ]
  },
  {
   "cell_type": "code",
   "execution_count": null,
   "metadata": {},
   "outputs": [
    {
     "ename": "",
     "evalue": "",
     "output_type": "error",
     "traceback": [
      "\u001b[1;31mRunning cells with 'Python 3.7.0 ('base')' requires ipykernel package.\n",
      "Run the following command to install 'ipykernel' into the Python environment. \n",
      "Command: 'conda install -n base ipykernel --update-deps --force-reinstall'"
     ]
    }
   ],
   "source": [
    "import pandas as pd\n",
    "import numpy as np\n",
    "import statistics"
   ]
  },
  {
   "cell_type": "code",
   "execution_count": 2,
   "metadata": {},
   "outputs": [],
   "source": [
    "df = pd.read_csv(r'h8dsft_P0LC3_Gusti_Ayu_Dewi_Puspa_Kartikasari.csv')"
   ]
  },
  {
   "cell_type": "markdown",
   "metadata": {},
   "source": [
    "### Tampilkan head dan tail dari dataset pada notebook!"
   ]
  },
  {
   "cell_type": "code",
   "execution_count": 3,
   "metadata": {},
   "outputs": [
    {
     "data": {
      "text/html": [
       "<div>\n",
       "<style scoped>\n",
       "    .dataframe tbody tr th:only-of-type {\n",
       "        vertical-align: middle;\n",
       "    }\n",
       "\n",
       "    .dataframe tbody tr th {\n",
       "        vertical-align: top;\n",
       "    }\n",
       "\n",
       "    .dataframe thead th {\n",
       "        text-align: right;\n",
       "    }\n",
       "</style>\n",
       "<table border=\"1\" class=\"dataframe\">\n",
       "  <thead>\n",
       "    <tr style=\"text-align: right;\">\n",
       "      <th></th>\n",
       "      <th>sale_dollars</th>\n",
       "    </tr>\n",
       "  </thead>\n",
       "  <tbody>\n",
       "    <tr>\n",
       "      <th>0</th>\n",
       "      <td>528.96</td>\n",
       "    </tr>\n",
       "    <tr>\n",
       "      <th>1</th>\n",
       "      <td>23.16</td>\n",
       "    </tr>\n",
       "    <tr>\n",
       "      <th>2</th>\n",
       "      <td>833.40</td>\n",
       "    </tr>\n",
       "    <tr>\n",
       "      <th>3</th>\n",
       "      <td>1057.32</td>\n",
       "    </tr>\n",
       "    <tr>\n",
       "      <th>4</th>\n",
       "      <td>7.26</td>\n",
       "    </tr>\n",
       "  </tbody>\n",
       "</table>\n",
       "</div>"
      ],
      "text/plain": [
       "   sale_dollars\n",
       "0        528.96\n",
       "1         23.16\n",
       "2        833.40\n",
       "3       1057.32\n",
       "4          7.26"
      ]
     },
     "execution_count": 3,
     "metadata": {},
     "output_type": "execute_result"
    }
   ],
   "source": [
    "df.head(5)"
   ]
  },
  {
   "cell_type": "code",
   "execution_count": 4,
   "metadata": {},
   "outputs": [
    {
     "data": {
      "text/html": [
       "<div>\n",
       "<style scoped>\n",
       "    .dataframe tbody tr th:only-of-type {\n",
       "        vertical-align: middle;\n",
       "    }\n",
       "\n",
       "    .dataframe tbody tr th {\n",
       "        vertical-align: top;\n",
       "    }\n",
       "\n",
       "    .dataframe thead th {\n",
       "        text-align: right;\n",
       "    }\n",
       "</style>\n",
       "<table border=\"1\" class=\"dataframe\">\n",
       "  <thead>\n",
       "    <tr style=\"text-align: right;\">\n",
       "      <th></th>\n",
       "      <th>sale_dollars</th>\n",
       "    </tr>\n",
       "  </thead>\n",
       "  <tbody>\n",
       "    <tr>\n",
       "      <th>4995</th>\n",
       "      <td>24.36</td>\n",
       "    </tr>\n",
       "    <tr>\n",
       "      <th>4996</th>\n",
       "      <td>309.60</td>\n",
       "    </tr>\n",
       "    <tr>\n",
       "      <th>4997</th>\n",
       "      <td>517.20</td>\n",
       "    </tr>\n",
       "    <tr>\n",
       "      <th>4998</th>\n",
       "      <td>13.24</td>\n",
       "    </tr>\n",
       "    <tr>\n",
       "      <th>4999</th>\n",
       "      <td>189.00</td>\n",
       "    </tr>\n",
       "  </tbody>\n",
       "</table>\n",
       "</div>"
      ],
      "text/plain": [
       "      sale_dollars\n",
       "4995         24.36\n",
       "4996        309.60\n",
       "4997        517.20\n",
       "4998         13.24\n",
       "4999        189.00"
      ]
     },
     "execution_count": 4,
     "metadata": {},
     "output_type": "execute_result"
    }
   ],
   "source": [
    "df.tail(5)"
   ]
  },
  {
   "cell_type": "markdown",
   "metadata": {},
   "source": [
    "## Melakukan pengecekan anomali/outlier"
   ]
  },
  {
   "cell_type": "markdown",
   "metadata": {},
   "source": [
    "1. Lakukan perhitungan central tendency (mean, median, modus) terhadap data sebelum dideteksi adanya anomali. [Menjawab Rubrik 1b]"
   ]
  },
  {
   "cell_type": "code",
   "execution_count": 5,
   "metadata": {},
   "outputs": [
    {
     "name": "stdout",
     "output_type": "stream",
     "text": [
      "total: 3113853.79\n",
      "mean: 622.7707579999994\n",
      "median: 136.33499999999998\n",
      "modus: 45.72\n"
     ]
    }
   ],
   "source": [
    "print('total:', df.sale_dollars.sum())\n",
    "print('mean:', df.sale_dollars.mean())\n",
    "print('median:', df.sale_dollars.median())\n",
    "print('modus:', statistics.mode(df.sale_dollars))"
   ]
  },
  {
   "cell_type": "markdown",
   "metadata": {},
   "source": [
    "Note: Mean dan median berjauhan, dimana mean lebih besar dibanding median / tertarik kekanan sehingga ada kemungkinan bahwa data transaksi adalah right tailed / right skewed."
   ]
  },
  {
   "cell_type": "markdown",
   "metadata": {},
   "source": [
    "2. Cek skewness data untuk mengetahui apakah data terdistribusi normal atau tidak. [Menjawab Rubrik 1c]"
   ]
  },
  {
   "cell_type": "code",
   "execution_count": 6,
   "metadata": {},
   "outputs": [
    {
     "name": "stdout",
     "output_type": "stream",
     "text": [
      "skewness:  10.115263815152225\n",
      "kurtosis:  185.7619947240576\n"
     ]
    }
   ],
   "source": [
    "print('skewness: ', str(df['sale_dollars'].skew()))\n",
    "print('kurtosis: ', str(df['sale_dollars'].kurt()))"
   ]
  },
  {
   "cell_type": "markdown",
   "metadata": {},
   "source": [
    "Note: skewness more than 1 signify that the data used is highly skewed, the direction of skew itself is determined of the negativity of skewness. The value of positive skewness signify that the tail will be on the right, then it can be visualized that the data are highly right skewed. Kurtosis indicate the sharpness/tailedness, high kutosis in here signify that the data are heavy tailed."
   ]
  },
  {
   "cell_type": "markdown",
   "metadata": {},
   "source": [
    "3. Lakukan pengolahan data dengan menggunakan extreme value analysis. [Menjawab Rubrik 1d]"
   ]
  },
  {
   "cell_type": "markdown",
   "metadata": {},
   "source": [
    "Pengolahan data extreme value analysis (outliers) menggunakan tukey's rule: \n",
    "\n",
    "Upper boundary = 75th quantile + (IQR * 1.5)\n",
    "\n",
    "Lower boundary = 25th quantile - (IQR * 1.5)"
   ]
  },
  {
   "cell_type": "code",
   "execution_count": 7,
   "metadata": {},
   "outputs": [
    {
     "name": "stdout",
     "output_type": "stream",
     "text": [
      "44.08 607.32\n"
     ]
    }
   ],
   "source": [
    "quantil_25 = df.sale_dollars.quantile(0.25)\n",
    "quantil_75 = df.sale_dollars.quantile(0.75)\n",
    "print(quantil_25,quantil_75)"
   ]
  },
  {
   "cell_type": "code",
   "execution_count": 8,
   "metadata": {},
   "outputs": [
    {
     "data": {
      "text/plain": [
       "563.24"
      ]
     },
     "execution_count": 8,
     "metadata": {},
     "output_type": "execute_result"
    }
   ],
   "source": [
    "IQR = quantil_75-quantil_25\n",
    "IQR"
   ]
  },
  {
   "cell_type": "code",
   "execution_count": 9,
   "metadata": {},
   "outputs": [
    {
     "name": "stdout",
     "output_type": "stream",
     "text": [
      "upper limit of non outliers:  1452.18 ; lower limit of non outliers:  -800.78\n"
     ]
    }
   ],
   "source": [
    "upper = quantil_75 + 1.5 *IQR\n",
    "lower = quantil_25 - 1.5 *IQR\n",
    "print('upper limit of non outliers: ', upper, '; lower limit of non outliers: ', lower)"
   ]
  },
  {
   "cell_type": "code",
   "execution_count": 10,
   "metadata": {},
   "outputs": [
    {
     "name": "stdout",
     "output_type": "stream",
     "text": [
      "total outliers: 513 ; outliers percentage:  10.26 %\n"
     ]
    }
   ],
   "source": [
    "outliers = df[(df['sale_dollars'] < lower) |\n",
    " (df['sale_dollars'] > upper)]\n",
    "print('total outliers:', outliers.sale_dollars.count(), '; outliers percentage: ', (outliers.sale_dollars.count()/df.sale_dollars.count())*100, '%')"
   ]
  },
  {
   "cell_type": "markdown",
   "metadata": {},
   "source": []
  },
  {
   "cell_type": "markdown",
   "metadata": {},
   "source": [
    "The percentage of data's outliers are 10.23%, the quantity is not significant."
   ]
  },
  {
   "cell_type": "markdown",
   "metadata": {},
   "source": [
    "4. Buat variabel baru yang menyimpan data yang sudah dibuang data anomalinya."
   ]
  },
  {
   "cell_type": "code",
   "execution_count": 11,
   "metadata": {},
   "outputs": [],
   "source": [
    "df_withoutoutliers = df.copy()\n",
    "\n",
    "for i in outliers.index:\n",
    "   df_withoutoutliers.drop(index = i, inplace= True)\n"
   ]
  },
  {
   "cell_type": "code",
   "execution_count": 12,
   "metadata": {},
   "outputs": [
    {
     "name": "stdout",
     "output_type": "stream",
     "text": [
      "before: \n",
      "<class 'pandas.core.frame.DataFrame'>\n",
      "RangeIndex: 5000 entries, 0 to 4999\n",
      "Data columns (total 1 columns):\n",
      "sale_dollars    5000 non-null float64\n",
      "dtypes: float64(1)\n",
      "memory usage: 39.1 KB\n",
      "None\n",
      "\n",
      "after :\n",
      "<class 'pandas.core.frame.DataFrame'>\n",
      "Int64Index: 4487 entries, 0 to 4999\n",
      "Data columns (total 1 columns):\n",
      "sale_dollars    4487 non-null float64\n",
      "dtypes: float64(1)\n",
      "memory usage: 70.1 KB\n",
      "None\n"
     ]
    }
   ],
   "source": [
    "print('before: ')\n",
    "print(df.info())\n",
    "print('')\n",
    "print('after :')\n",
    "print(df_withoutoutliers.info())\n"
   ]
  },
  {
   "cell_type": "markdown",
   "metadata": {},
   "source": [
    "Note: 513 outliers data already deleted. (the difference between 5000 and 4487 is 513, equal to 513 outliers detected above. )"
   ]
  },
  {
   "cell_type": "markdown",
   "metadata": {},
   "source": [
    "5. Analisis signifikansi perbedaan data sebelum dibuang outliernya dengan sesudah menggunakan hipotesis testing single sample. (Anggap data awal merupakan data populasi dan data baru merupakan sample). Definisikan pula hipotesis null dan alternatifnya. [Menjawab Rubrik 1e]\n",
    "\n",
    "NOTE: menggunakan hipotesis testing single sample (stated in the question)\n",
    "\n",
    "H0 : mu_sample = mu_population\n",
    "\n",
    "H1 : mu_sample != mu_population"
   ]
  },
  {
   "cell_type": "code",
   "execution_count": 13,
   "metadata": {},
   "outputs": [
    {
     "data": {
      "text/plain": [
       "622.77"
      ]
     },
     "execution_count": 13,
     "metadata": {},
     "output_type": "execute_result"
    }
   ],
   "source": [
    "np.round(df.sale_dollars.mean(),2)"
   ]
  },
  {
   "cell_type": "markdown",
   "metadata": {},
   "source": [
    "where mu_population = 622.77\n",
    "\n",
    "therefore:\n",
    "\n",
    "H0 : mu_sample = 622.77\n",
    "\n",
    "H1 : mu_sample <= 622.77"
   ]
  },
  {
   "cell_type": "markdown",
   "metadata": {},
   "source": [
    "Calculate mean of data without outlier"
   ]
  },
  {
   "cell_type": "code",
   "execution_count": 14,
   "metadata": {},
   "outputs": [
    {
     "data": {
      "text/plain": [
       "270.49"
      ]
     },
     "execution_count": 14,
     "metadata": {},
     "output_type": "execute_result"
    }
   ],
   "source": [
    "np.round(df_withoutoutliers.sale_dollars.mean(),2)"
   ]
  },
  {
   "cell_type": "markdown",
   "metadata": {},
   "source": [
    "Note: the difference between with outliers and without outliers is big.\n",
    "Proceed to hypothesis testing to check whether it is significance or not."
   ]
  },
  {
   "cell_type": "code",
   "execution_count": 15,
   "metadata": {},
   "outputs": [
    {
     "name": "stdout",
     "output_type": "stream",
     "text": [
      "P-value: 0.0\n",
      "t-statistics: -71.67870927934268\n"
     ]
    }
   ],
   "source": [
    "from scipy import stats\n",
    "import matplotlib.pyplot as plt\n",
    "import seaborn as sns\n",
    "\n",
    "t_stat,p_val = stats.ttest_1samp(df_withoutoutliers.sale_dollars, 622.77)\n",
    "print('P-value:',p_val/2) #The p-value divided by 2 since the output is two-sided p-value\n",
    "print('t-statistics:',t_stat)"
   ]
  },
  {
   "cell_type": "markdown",
   "metadata": {},
   "source": [
    "t- statistics = -71.7 is a negative, we can report it as an absolute value.\n",
    "\n",
    "Note: Negative t-values: The sign of a t-value tells us the direction of the difference in sample means, which can be difficult to interpret without further explanation: Does a negative t-value indicate A's sample mean was greater than B's, or less? Therefore, it is common to report the t-value as the absolute value of the t-value given by the statistics program. (source: http://www.csic.cornell.edu/Elrod/t-test/reporting-t-test.html)"
   ]
  },
  {
   "cell_type": "code",
   "execution_count": 16,
   "metadata": {},
   "outputs": [],
   "source": [
    "# t_stat = np.abs(t_stat)\n",
    "# t_stat"
   ]
  },
  {
   "cell_type": "code",
   "execution_count": 17,
   "metadata": {},
   "outputs": [
    {
     "name": "stderr",
     "output_type": "stream",
     "text": [
      "c:\\ProgramData\\Anaconda3\\lib\\site-packages\\scipy\\stats\\stats.py:1713: FutureWarning: Using a non-tuple sequence for multidimensional indexing is deprecated; use `arr[tuple(seq)]` instead of `arr[seq]`. In the future this will be interpreted as an array index, `arr[np.array(seq)]`, which will result either in an error or a different result.\n",
      "  return np.add.reduce(sorted[indexer] * weights, axis=axis) / sumval\n"
     ]
    },
    {
     "data": {
      "text/plain": [
       "<matplotlib.legend.Legend at 0xadb9748>"
      ]
     },
     "execution_count": 17,
     "metadata": {},
     "output_type": "execute_result"
    },
    {
     "data": {
      "image/png": "[encoded data removed]",
      "text/plain": [
       "<Figure size 1152x360 with 1 Axes>"
      ]
     },
     "metadata": {
      "needs_background": "light"
     },
     "output_type": "display_data"
    }
   ],
   "source": [
    "saledollars_pop = np.random.normal(df_withoutoutliers.sale_dollars.mean(), df_withoutoutliers.sale_dollars.std(), 10000)\n",
    "\n",
    "ci = stats.norm.interval(0.95, df_withoutoutliers.sale_dollars.mean(), df_withoutoutliers.sale_dollars.std())\n",
    "\n",
    "plt.figure(figsize=(16,5))\n",
    "sns.distplot(saledollars_pop, label='sales dollars (Population)', color='blue')\n",
    "plt.axvline(df_withoutoutliers.sale_dollars.mean(), color='red', linewidth=2, label='sale dollars (Mean)')\n",
    "plt.axvline(ci[0], color='green', linestyle='dashed', linewidth=2, label='confidence threshold of 95%')\n",
    "plt.axvline(saledollars_pop.mean() + t_stat*saledollars_pop.std(), color='black', linestyle='dashed', linewidth=2, label = 'Alternative Hypothesis')\n",
    "plt.legend()"
   ]
  },
  {
   "cell_type": "markdown",
   "metadata": {},
   "source": [
    "CONCLUSION: Since our p-value = 0.0 is less than 0.05 (confidence level), so we reject the null hypothesis and we can conclude that, the mean of data with outliers removed are significantly different with original data."
   ]
  },
  {
   "cell_type": "markdown",
   "metadata": {},
   "source": [
    "## Conclusions, Assumptions, Overall Analysis\n",
    "\n",
    "PERTANYAAN:\n",
    "1. Berapa rata-rata, median, dan modus dari data tersebut sebelum dihilangkan outliernya? Bagaimana kecerendungan pemusatan datanya? jelaskan jawabanmu![Menjawab Rubrik 2a]\n",
    "\n",
    "rata-rata:622,77\n",
    "\n",
    "median: 136.33\n",
    "\n",
    "modus:45.72\n",
    "\n",
    "Pemusatan data terdapat pada median yaitu nilai tengah namun dapat dilihat bahwa mean lebih besar dibanding median. Ini mengindikasikan bahwa mean tertarik kearah kanan (terdapat indikasi right-skewed). Sehingga persebaran datanya dapat divisualisasikan bahwa data berkumpul disekitar median (136.33) dan memanjang kearah kanan (right-tailed) yang diindikasikan oleh mean tertarik menjadi lebih besar dibanding median.\n",
    "\n",
    "\n",
    "2. Sebelum melakukan extreme value analysis, kamu harus melakukan pengecekan skewness dari distribusi datanya. Apakah datanya skew atau normal? jelaskan jawabanmu![Menjawab Rubrik 2b]\n",
    "\n",
    "skewness:  10.115263815152225\n",
    "kurtosis:  185.7619947240576\n",
    " \n",
    "Skewness more than 1 signify that the data used is highly skewed, the direction of skew itself is determined of the negativity of skewness. The value of positive skewness signify that the tail will be on the right, then it can be visualized that the data are highly right skewed. Kurtosis indicate the sharpness/tailedness, high kutosis in here signify that the data are heavy tailed.\n",
    "\n",
    "3. Ada dua teknik untuk melakukan extreme value analysis, teknik yang mana yang kamu pakai? berikan alasanmu berdasarkan data![Menjawab Rubrik 2c]\n",
    "\n",
    "We use Tukey's rule for Outlier Detection because it can be used if the distribution is not normal where in question number 2 it is indicated that the data distribution is highly right skewed. Therefore, the suitable technique is Tukey's and z value score may not suitable (z score used if the distribution is normal).\n",
    "\n",
    "4. Ada berapa banyak data yang merupakan outlier? apakah cukup signifikan jumlahnya? (anggap bahwa jumlah signifikan lebih dari 50%). Jelaskan jawabanmu![Menjawab Rubrik 2d]\n",
    "\n",
    "The result of percentage of data's outliers are 10.23%, only 513 data out off 5000 data. Therefore, the quantity is not significant (<50%)\n",
    "\n",
    "5. Setelah kamu menyingkirkan outlier dari data dan melakukan uji hipotesis, apakah ada perbedaan yang signifikan? jelaskan jawabanmu![Menjawab Rubrik 2e]\n",
    "\n",
    "After the hypothesis testing it is concluded the null hypothesis is rejected, there is significance difference between data with outliers and data without outliers. The conclusion is also can be supported by calculate the mean of data without outliers is reduced to 270.49 from 622.77, the reduction is 57%.\n"
   ]
  },
  {
   "cell_type": "markdown",
   "metadata": {},
   "source": [
    "## POIN ANALISIS\n",
    "\n",
    "Apa kesimpulan yang akan kamu bagikan kepada tim marketing berkaitan dugaan mereka?\n",
    "\n",
    "Betul terdapat keanehan pada data transaksi. Dimana terdapat 513 data anomali yang terdeteksi pada data transaksi, nilai ini memiliki nilai diatas 1452.18 (nilai rata-rata wajar). Ke-513 data anomali ini menyebabkan rata-rata penjualan terlihat meningkat secara signifikan. \n",
    "Apabila traceback akan dilakukan, disarankan untuk melakukan history traceback pada 513 data transaksi tersebut."
   ]
  },
  {
   "cell_type": "markdown",
   "metadata": {},
   "source": [
    "Note kesimpulan (bukan untuk marketing): data terkecil original data yaitu 2.94 dimana masih didalam lower limit outlier(-800.78). Dapat disimpulkan bahwa outliers semuanya berasal dari data diatas upper limit (diatas 1452.18)."
   ]
  },
  {
   "cell_type": "code",
   "execution_count": 18,
   "metadata": {},
   "outputs": [
    {
     "data": {
      "text/html": [
       "<div>\n",
       "<style scoped>\n",
       "    .dataframe tbody tr th:only-of-type {\n",
       "        vertical-align: middle;\n",
       "    }\n",
       "\n",
       "    .dataframe tbody tr th {\n",
       "        vertical-align: top;\n",
       "    }\n",
       "\n",
       "    .dataframe thead th {\n",
       "        text-align: right;\n",
       "    }\n",
       "</style>\n",
       "<table border=\"1\" class=\"dataframe\">\n",
       "  <thead>\n",
       "    <tr style=\"text-align: right;\">\n",
       "      <th></th>\n",
       "      <th>sale_dollars</th>\n",
       "    </tr>\n",
       "  </thead>\n",
       "  <tbody>\n",
       "    <tr>\n",
       "      <th>3507</th>\n",
       "      <td>5.00</td>\n",
       "    </tr>\n",
       "    <tr>\n",
       "      <th>4685</th>\n",
       "      <td>3.50</td>\n",
       "    </tr>\n",
       "    <tr>\n",
       "      <th>4335</th>\n",
       "      <td>3.12</td>\n",
       "    </tr>\n",
       "    <tr>\n",
       "      <th>1339</th>\n",
       "      <td>2.94</td>\n",
       "    </tr>\n",
       "    <tr>\n",
       "      <th>2506</th>\n",
       "      <td>2.94</td>\n",
       "    </tr>\n",
       "  </tbody>\n",
       "</table>\n",
       "</div>"
      ],
      "text/plain": [
       "      sale_dollars\n",
       "3507          5.00\n",
       "4685          3.50\n",
       "4335          3.12\n",
       "1339          2.94\n",
       "2506          2.94"
      ]
     },
     "execution_count": 18,
     "metadata": {},
     "output_type": "execute_result"
    }
   ],
   "source": [
    "df.sort_values(by='sale_dollars', ascending=False).tail(5)"
   ]
  }
 ],
 "metadata": {
  "kernelspec": {
   "display_name": "Python 3.7.0 ('base')",
   "language": "python",
   "name": "python3"
  },
  "language_info": {
   "codemirror_mode": {
    "name": "ipython",
    "version": 3
   },
   "file_extension": ".py",
   "mimetype": "text/x-python",
   "name": "python",
   "nbconvert_exporter": "python",
   "pygments_lexer": "ipython3",
   "version": "3.7.0"
  },
  "orig_nbformat": 4,
  "vscode": {
   "interpreter": {
    "hash": "ad2bdc8ecc057115af97d19610ffacc2b4e99fae6737bb82f5d7fb13d2f2c186"
   }
  }
 },
 "nbformat": 4,
 "nbformat_minor": 2
}
