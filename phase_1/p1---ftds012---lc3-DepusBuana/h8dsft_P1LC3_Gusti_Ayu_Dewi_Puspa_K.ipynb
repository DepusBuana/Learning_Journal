{
  "cells": [
    {
      "cell_type": "markdown",
      "metadata": {
        "id": "W6NFzswNuzIW"
      },
      "source": [
        "# Perkenalan"
      ]
    },
    {
      "cell_type": "markdown",
      "metadata": {
        "id": "lZLeBxXPuzIb"
      },
      "source": [
        "Nama : Gusti Ayu Dewi Puspa Kartikasari\n",
        "\n",
        "Batch : FTDS-012\n",
        "\n",
        "Dataset : Life_expectancy_dataset\n",
        "\n",
        "Objective : Mendeteksi kelompok negara\n",
        "\n",
        "Note: Each row corresponds to a country in order of their life expectancy rank. "
      ]
    },
    {
      "cell_type": "markdown",
      "metadata": {
        "id": "0BN0TrreuzId"
      },
      "source": [
        "# Import Libraries"
      ]
    },
    {
      "cell_type": "markdown",
      "metadata": {
        "id": "02QFA7gj7Vpk"
      },
      "source": [
        "> Cell pertama pada notebook harus berisi dan hanya berisi semua library yang digunakan dalam project."
      ]
    },
    {
      "cell_type": "code",
      "execution_count": 1,
      "metadata": {
        "id": "1k7ravmzmiIk"
      },
      "outputs": [],
      "source": [
        "#Kolom import libraries\n",
        "import pandas as pd\n",
        "import numpy as np\n",
        "import seaborn as sns\n",
        "import matplotlib.pyplot as plt\n",
        "from sklearn.preprocessing import MinMaxScaler\n",
        "from sklearn.decomposition import PCA\n",
        "from sklearn.metrics import silhouette_score\n",
        "from sklearn.metrics import silhouette_samples\n",
        "from yellowbrick.cluster import KElbowVisualizer\n",
        "from sklearn.cluster import KMeans\n",
        "import matplotlib as mpl\n",
        "from matplotlib.ticker import FixedLocator, FixedFormatter\n",
        "import chardet\n",
        "from statsmodels.stats.outliers_influence import variance_inflation_factor\n"
      ]
    },
    {
      "cell_type": "markdown",
      "metadata": {
        "id": "MUnM8B1kuzIg"
      },
      "source": [
        "# Data Loading"
      ]
    },
    {
      "cell_type": "markdown",
      "metadata": {
        "id": "YBWLTiaB7Pn8"
      },
      "source": [
        "> Bagian ini berisi proses penyiapan data sebelum dilakukan eksplorasi data lebih lanjut. Proses Data Loading dapat berupa memberi nama baru untuk setiap kolom, mengecek ukuran dataset, dl"
      ]
    },
    {
      "cell_type": "code",
      "execution_count": 2,
      "metadata": {},
      "outputs": [
        {
          "data": {
            "text/html": [
              "<div>\n",
              "<style scoped>\n",
              "    .dataframe tbody tr th:only-of-type {\n",
              "        vertical-align: middle;\n",
              "    }\n",
              "\n",
              "    .dataframe tbody tr th {\n",
              "        vertical-align: top;\n",
              "    }\n",
              "\n",
              "    .dataframe thead th {\n",
              "        text-align: right;\n",
              "    }\n",
              "</style>\n",
              "<table border=\"1\" class=\"dataframe\">\n",
              "  <thead>\n",
              "    <tr style=\"text-align: right;\">\n",
              "      <th></th>\n",
              "      <th>Rank</th>\n",
              "      <th>Country</th>\n",
              "      <th>Overall Life</th>\n",
              "      <th>Male Life</th>\n",
              "      <th>Female Life</th>\n",
              "      <th>Continent</th>\n",
              "    </tr>\n",
              "  </thead>\n",
              "  <tbody>\n",
              "    <tr>\n",
              "      <th>0</th>\n",
              "      <td>1</td>\n",
              "      <td>Monaco</td>\n",
              "      <td>89.5</td>\n",
              "      <td>85.6</td>\n",
              "      <td>93.5</td>\n",
              "      <td>Europe</td>\n",
              "    </tr>\n",
              "    <tr>\n",
              "      <th>1</th>\n",
              "      <td>2</td>\n",
              "      <td>Japan</td>\n",
              "      <td>85.0</td>\n",
              "      <td>81.7</td>\n",
              "      <td>88.5</td>\n",
              "      <td>Asia</td>\n",
              "    </tr>\n",
              "    <tr>\n",
              "      <th>2</th>\n",
              "      <td>3</td>\n",
              "      <td>Singapore</td>\n",
              "      <td>85.0</td>\n",
              "      <td>82.3</td>\n",
              "      <td>87.8</td>\n",
              "      <td>Asia</td>\n",
              "    </tr>\n",
              "    <tr>\n",
              "      <th>3</th>\n",
              "      <td>4</td>\n",
              "      <td>Macau; China</td>\n",
              "      <td>84.5</td>\n",
              "      <td>81.6</td>\n",
              "      <td>87.6</td>\n",
              "      <td>Asia</td>\n",
              "    </tr>\n",
              "    <tr>\n",
              "      <th>4</th>\n",
              "      <td>5</td>\n",
              "      <td>San Marino</td>\n",
              "      <td>83.3</td>\n",
              "      <td>80.7</td>\n",
              "      <td>86.1</td>\n",
              "      <td>Europe</td>\n",
              "    </tr>\n",
              "  </tbody>\n",
              "</table>\n",
              "</div>"
            ],
            "text/plain": [
              "   Rank       Country  Overall Life  Male Life  Female Life Continent\n",
              "0     1        Monaco          89.5       85.6         93.5    Europe\n",
              "1     2         Japan          85.0       81.7         88.5      Asia\n",
              "2     3     Singapore          85.0       82.3         87.8      Asia\n",
              "3     4  Macau; China          84.5       81.6         87.6      Asia\n",
              "4     5    San Marino          83.3       80.7         86.1    Europe"
            ]
          },
          "execution_count": 2,
          "metadata": {},
          "output_type": "execute_result"
        }
      ],
      "source": [
        "file = 'life_expectancy_dataset.csv'        \n",
        "with open(file, 'rb') as rawdata:\n",
        "    result = chardet.detect(rawdata.read(100000))\n",
        "result\n",
        "\n",
        "df = pd.read_csv(file,encoding='ISO-8859-1')\n",
        "df.head()"
      ]
    },
    {
      "cell_type": "code",
      "execution_count": 3,
      "metadata": {
        "id": "10X_uzHDmiIn"
      },
      "outputs": [
        {
          "data": {
            "text/html": [
              "<div>\n",
              "<style scoped>\n",
              "    .dataframe tbody tr th:only-of-type {\n",
              "        vertical-align: middle;\n",
              "    }\n",
              "\n",
              "    .dataframe tbody tr th {\n",
              "        vertical-align: top;\n",
              "    }\n",
              "\n",
              "    .dataframe thead th {\n",
              "        text-align: right;\n",
              "    }\n",
              "</style>\n",
              "<table border=\"1\" class=\"dataframe\">\n",
              "  <thead>\n",
              "    <tr style=\"text-align: right;\">\n",
              "      <th></th>\n",
              "      <th>Rank</th>\n",
              "      <th>Country</th>\n",
              "      <th>Overall Life</th>\n",
              "      <th>Male Life</th>\n",
              "      <th>Female Life</th>\n",
              "      <th>Continent</th>\n",
              "    </tr>\n",
              "  </thead>\n",
              "  <tbody>\n",
              "    <tr>\n",
              "      <th>218</th>\n",
              "      <td>219</td>\n",
              "      <td>Gabon</td>\n",
              "      <td>52.1</td>\n",
              "      <td>51.6</td>\n",
              "      <td>52.5</td>\n",
              "      <td>Africa</td>\n",
              "    </tr>\n",
              "    <tr>\n",
              "      <th>219</th>\n",
              "      <td>220</td>\n",
              "      <td>Swaziland</td>\n",
              "      <td>51.6</td>\n",
              "      <td>52.2</td>\n",
              "      <td>51.0</td>\n",
              "      <td>Africa</td>\n",
              "    </tr>\n",
              "    <tr>\n",
              "      <th>220</th>\n",
              "      <td>221</td>\n",
              "      <td>Afghanistan</td>\n",
              "      <td>51.3</td>\n",
              "      <td>49.9</td>\n",
              "      <td>52.7</td>\n",
              "      <td>Asia</td>\n",
              "    </tr>\n",
              "    <tr>\n",
              "      <th>221</th>\n",
              "      <td>222</td>\n",
              "      <td>Guinea-Bissau</td>\n",
              "      <td>50.6</td>\n",
              "      <td>48.6</td>\n",
              "      <td>52.7</td>\n",
              "      <td>Africa</td>\n",
              "    </tr>\n",
              "    <tr>\n",
              "      <th>222</th>\n",
              "      <td>223</td>\n",
              "      <td>Chad</td>\n",
              "      <td>50.2</td>\n",
              "      <td>49.0</td>\n",
              "      <td>51.3</td>\n",
              "      <td>Africa</td>\n",
              "    </tr>\n",
              "  </tbody>\n",
              "</table>\n",
              "</div>"
            ],
            "text/plain": [
              "     Rank        Country  Overall Life  Male Life  Female Life Continent\n",
              "218   219          Gabon          52.1       51.6         52.5    Africa\n",
              "219   220      Swaziland          51.6       52.2         51.0    Africa\n",
              "220   221    Afghanistan          51.3       49.9         52.7      Asia\n",
              "221   222  Guinea-Bissau          50.6       48.6         52.7    Africa\n",
              "222   223           Chad          50.2       49.0         51.3    Africa"
            ]
          },
          "execution_count": 3,
          "metadata": {},
          "output_type": "execute_result"
        }
      ],
      "source": [
        "#show tail data\n",
        "df.tail(5)"
      ]
    },
    {
      "cell_type": "code",
      "execution_count": 4,
      "metadata": {
        "id": "nMmqgiVUmiIo"
      },
      "outputs": [],
      "source": [
        "# copy df untuk menjaga data asli\n",
        "df_copy = df.copy()"
      ]
    },
    {
      "cell_type": "code",
      "execution_count": 5,
      "metadata": {
        "id": "qIGZYFDSmiIo"
      },
      "outputs": [
        {
          "data": {
            "text/html": [
              "<div>\n",
              "<style scoped>\n",
              "    .dataframe tbody tr th:only-of-type {\n",
              "        vertical-align: middle;\n",
              "    }\n",
              "\n",
              "    .dataframe tbody tr th {\n",
              "        vertical-align: top;\n",
              "    }\n",
              "\n",
              "    .dataframe thead th {\n",
              "        text-align: right;\n",
              "    }\n",
              "</style>\n",
              "<table border=\"1\" class=\"dataframe\">\n",
              "  <thead>\n",
              "    <tr style=\"text-align: right;\">\n",
              "      <th></th>\n",
              "      <th>Rank</th>\n",
              "      <th>Overall Life</th>\n",
              "      <th>Male Life</th>\n",
              "      <th>Female Life</th>\n",
              "    </tr>\n",
              "  </thead>\n",
              "  <tbody>\n",
              "    <tr>\n",
              "      <th>count</th>\n",
              "      <td>223.000000</td>\n",
              "      <td>223.000000</td>\n",
              "      <td>223.000000</td>\n",
              "      <td>223.000000</td>\n",
              "    </tr>\n",
              "    <tr>\n",
              "      <th>mean</th>\n",
              "      <td>112.000000</td>\n",
              "      <td>72.487892</td>\n",
              "      <td>70.041704</td>\n",
              "      <td>75.019283</td>\n",
              "    </tr>\n",
              "    <tr>\n",
              "      <th>std</th>\n",
              "      <td>64.518731</td>\n",
              "      <td>8.459335</td>\n",
              "      <td>8.074942</td>\n",
              "      <td>8.986633</td>\n",
              "    </tr>\n",
              "    <tr>\n",
              "      <th>min</th>\n",
              "      <td>1.000000</td>\n",
              "      <td>50.200000</td>\n",
              "      <td>48.600000</td>\n",
              "      <td>51.000000</td>\n",
              "    </tr>\n",
              "    <tr>\n",
              "      <th>25%</th>\n",
              "      <td>56.500000</td>\n",
              "      <td>67.450000</td>\n",
              "      <td>64.500000</td>\n",
              "      <td>69.750000</td>\n",
              "    </tr>\n",
              "    <tr>\n",
              "      <th>50%</th>\n",
              "      <td>112.000000</td>\n",
              "      <td>74.900000</td>\n",
              "      <td>72.200000</td>\n",
              "      <td>77.900000</td>\n",
              "    </tr>\n",
              "    <tr>\n",
              "      <th>75%</th>\n",
              "      <td>167.500000</td>\n",
              "      <td>78.600000</td>\n",
              "      <td>75.850000</td>\n",
              "      <td>81.600000</td>\n",
              "    </tr>\n",
              "    <tr>\n",
              "      <th>max</th>\n",
              "      <td>223.000000</td>\n",
              "      <td>89.500000</td>\n",
              "      <td>85.600000</td>\n",
              "      <td>93.500000</td>\n",
              "    </tr>\n",
              "  </tbody>\n",
              "</table>\n",
              "</div>"
            ],
            "text/plain": [
              "             Rank  Overall Life   Male Life  Female Life\n",
              "count  223.000000    223.000000  223.000000   223.000000\n",
              "mean   112.000000     72.487892   70.041704    75.019283\n",
              "std     64.518731      8.459335    8.074942     8.986633\n",
              "min      1.000000     50.200000   48.600000    51.000000\n",
              "25%     56.500000     67.450000   64.500000    69.750000\n",
              "50%    112.000000     74.900000   72.200000    77.900000\n",
              "75%    167.500000     78.600000   75.850000    81.600000\n",
              "max    223.000000     89.500000   85.600000    93.500000"
            ]
          },
          "execution_count": 5,
          "metadata": {},
          "output_type": "execute_result"
        }
      ],
      "source": [
        "# melihat persebaran data df, dan mengetahui masing-masing kolom di dalam df\n",
        "df_copy.describe()"
      ]
    },
    {
      "cell_type": "code",
      "execution_count": 6,
      "metadata": {
        "id": "K5Oi341zmiIo"
      },
      "outputs": [
        {
          "name": "stdout",
          "output_type": "stream",
          "text": [
            "<class 'pandas.core.frame.DataFrame'>\n",
            "RangeIndex: 223 entries, 0 to 222\n",
            "Data columns (total 6 columns):\n",
            " #   Column        Non-Null Count  Dtype  \n",
            "---  ------        --------------  -----  \n",
            " 0   Rank          223 non-null    int64  \n",
            " 1   Country       223 non-null    object \n",
            " 2   Overall Life  223 non-null    float64\n",
            " 3   Male Life     223 non-null    float64\n",
            " 4   Female Life   223 non-null    float64\n",
            " 5   Continent     223 non-null    object \n",
            "dtypes: float64(3), int64(1), object(2)\n",
            "memory usage: 10.6+ KB\n"
          ]
        }
      ],
      "source": [
        "# melihat null vs non-null data df, untuk mengetahui missing value \n",
        "df_copy.info()"
      ]
    },
    {
      "cell_type": "markdown",
      "metadata": {
        "id": "5_6sU2oymiIp"
      },
      "source": [
        "Tidak ada null data. Lanjutkan ke EDA untuk melihat isi data."
      ]
    },
    {
      "cell_type": "markdown",
      "metadata": {
        "id": "a2GhK9AN6_2n"
      },
      "source": [
        "# Exploratory Data Analysis (EDA)"
      ]
    },
    {
      "cell_type": "markdown",
      "metadata": {
        "id": "QkgPRM_c7N7d"
      },
      "source": [
        "> Bagian ini berisi eksplorasi data pada dataset diatas dengan menggunakan query, grouping, visualisasi sederhana, heatmap, central tendency dan lain sebagainya."
      ]
    },
    {
      "cell_type": "code",
      "execution_count": 7,
      "metadata": {
        "id": "rwCsgn6MmiIq"
      },
      "outputs": [
        {
          "data": {
            "text/html": [
              "<div>\n",
              "<style scoped>\n",
              "    .dataframe tbody tr th:only-of-type {\n",
              "        vertical-align: middle;\n",
              "    }\n",
              "\n",
              "    .dataframe tbody tr th {\n",
              "        vertical-align: top;\n",
              "    }\n",
              "\n",
              "    .dataframe thead th {\n",
              "        text-align: right;\n",
              "    }\n",
              "</style>\n",
              "<table border=\"1\" class=\"dataframe\">\n",
              "  <thead>\n",
              "    <tr style=\"text-align: right;\">\n",
              "      <th></th>\n",
              "      <th>Rank</th>\n",
              "      <th>Country</th>\n",
              "      <th>Overall Life</th>\n",
              "      <th>Male Life</th>\n",
              "      <th>Female Life</th>\n",
              "      <th>Continent</th>\n",
              "    </tr>\n",
              "  </thead>\n",
              "  <tbody>\n",
              "    <tr>\n",
              "      <th>0</th>\n",
              "      <td>1</td>\n",
              "      <td>Monaco</td>\n",
              "      <td>89.5</td>\n",
              "      <td>85.6</td>\n",
              "      <td>93.5</td>\n",
              "      <td>Europe</td>\n",
              "    </tr>\n",
              "    <tr>\n",
              "      <th>1</th>\n",
              "      <td>2</td>\n",
              "      <td>Japan</td>\n",
              "      <td>85.0</td>\n",
              "      <td>81.7</td>\n",
              "      <td>88.5</td>\n",
              "      <td>Asia</td>\n",
              "    </tr>\n",
              "    <tr>\n",
              "      <th>2</th>\n",
              "      <td>3</td>\n",
              "      <td>Singapore</td>\n",
              "      <td>85.0</td>\n",
              "      <td>82.3</td>\n",
              "      <td>87.8</td>\n",
              "      <td>Asia</td>\n",
              "    </tr>\n",
              "    <tr>\n",
              "      <th>3</th>\n",
              "      <td>4</td>\n",
              "      <td>Macau; China</td>\n",
              "      <td>84.5</td>\n",
              "      <td>81.6</td>\n",
              "      <td>87.6</td>\n",
              "      <td>Asia</td>\n",
              "    </tr>\n",
              "    <tr>\n",
              "      <th>4</th>\n",
              "      <td>5</td>\n",
              "      <td>San Marino</td>\n",
              "      <td>83.3</td>\n",
              "      <td>80.7</td>\n",
              "      <td>86.1</td>\n",
              "      <td>Europe</td>\n",
              "    </tr>\n",
              "    <tr>\n",
              "      <th>5</th>\n",
              "      <td>6</td>\n",
              "      <td>Iceland</td>\n",
              "      <td>83.0</td>\n",
              "      <td>80.9</td>\n",
              "      <td>85.3</td>\n",
              "      <td>Europe</td>\n",
              "    </tr>\n",
              "    <tr>\n",
              "      <th>6</th>\n",
              "      <td>7</td>\n",
              "      <td>Hong Kong, China</td>\n",
              "      <td>82.9</td>\n",
              "      <td>80.3</td>\n",
              "      <td>85.8</td>\n",
              "      <td>Asia</td>\n",
              "    </tr>\n",
              "    <tr>\n",
              "      <th>7</th>\n",
              "      <td>8</td>\n",
              "      <td>Andorra</td>\n",
              "      <td>82.8</td>\n",
              "      <td>80.6</td>\n",
              "      <td>85.1</td>\n",
              "      <td>Europe</td>\n",
              "    </tr>\n",
              "    <tr>\n",
              "      <th>8</th>\n",
              "      <td>9</td>\n",
              "      <td>Switzerland</td>\n",
              "      <td>82.6</td>\n",
              "      <td>80.3</td>\n",
              "      <td>85.0</td>\n",
              "      <td>Europe</td>\n",
              "    </tr>\n",
              "    <tr>\n",
              "      <th>9</th>\n",
              "      <td>10</td>\n",
              "      <td>Guernsey</td>\n",
              "      <td>82.5</td>\n",
              "      <td>79.9</td>\n",
              "      <td>85.4</td>\n",
              "      <td>Europe</td>\n",
              "    </tr>\n",
              "  </tbody>\n",
              "</table>\n",
              "</div>"
            ],
            "text/plain": [
              "   Rank           Country  Overall Life  Male Life  Female Life Continent\n",
              "0     1            Monaco          89.5       85.6         93.5    Europe\n",
              "1     2             Japan          85.0       81.7         88.5      Asia\n",
              "2     3         Singapore          85.0       82.3         87.8      Asia\n",
              "3     4      Macau; China          84.5       81.6         87.6      Asia\n",
              "4     5        San Marino          83.3       80.7         86.1    Europe\n",
              "5     6           Iceland          83.0       80.9         85.3    Europe\n",
              "6     7  Hong Kong, China          82.9       80.3         85.8      Asia\n",
              "7     8           Andorra          82.8       80.6         85.1    Europe\n",
              "8     9       Switzerland          82.6       80.3         85.0    Europe\n",
              "9    10          Guernsey          82.5       79.9         85.4    Europe"
            ]
          },
          "execution_count": 7,
          "metadata": {},
          "output_type": "execute_result"
        }
      ],
      "source": [
        "df_copy.head(10)"
      ]
    },
    {
      "cell_type": "markdown",
      "metadata": {},
      "source": [
        "Note: Rank sama dengan index, sehingga bisa diabaikan (dimasukkan ke dalam kategorical)"
      ]
    },
    {
      "cell_type": "code",
      "execution_count": 8,
      "metadata": {
        "id": "DJuo-QWymiIq"
      },
      "outputs": [],
      "source": [
        "df_EDA = df.copy()"
      ]
    },
    {
      "cell_type": "code",
      "execution_count": 9,
      "metadata": {
        "id": "Mn7aqT66miIq"
      },
      "outputs": [
        {
          "data": {
            "image/png": "[encoded data removed]",
            "text/plain": [
              "<Figure size 720x432 with 1 Axes>"
            ]
          },
          "metadata": {},
          "output_type": "display_data"
        }
      ],
      "source": [
        "#tampilkan data berdasarkan balance\n",
        "df_EDA['Overall_Life'] = np.ceil(df_EDA['Overall Life']/10)\n",
        "gruopeddf = df_EDA.groupby(['Overall_Life'])[['Overall_Life']].count()\n",
        "gruopeddf.plot(kind='bar', figsize=(10, 6))\n",
        "\n",
        "plt.xlabel('Overall_Life') # add to x-label to the plot\n",
        "plt.ylabel('data count') # add y-label to the plot\n",
        "plt.title( 'data count based on Overall_Life in 10') # add title to the plot\n",
        "\n",
        "plt.show()"
      ]
    },
    {
      "cell_type": "markdown",
      "metadata": {
        "id": "EPWZ8qLxmiIr"
      },
      "source": [
        "Overall life seluruh dunia berpusat pada umur 70-80"
      ]
    },
    {
      "cell_type": "code",
      "execution_count": 10,
      "metadata": {},
      "outputs": [
        {
          "data": {
            "image/png": "[encoded data removed]",
            "text/plain": [
              "<Figure size 720x432 with 1 Axes>"
            ]
          },
          "metadata": {},
          "output_type": "display_data"
        }
      ],
      "source": [
        "#tampilkan data berdasarkan balance\n",
        "df_EDA['Male_Life'] = np.ceil(df_EDA['Male Life']/10)\n",
        "gruopeddf = df_EDA.groupby(['Male_Life'])[['Male_Life']].count()\n",
        "gruopeddf.plot(kind='bar', figsize=(10, 6))\n",
        "\n",
        "plt.xlabel('Male_Life') # add to x-label to the plot\n",
        "plt.ylabel('data count') # add y-label to the plot\n",
        "plt.title( 'data count based on Male_Life in 10') # add title to the plot\n",
        "\n",
        "plt.show()"
      ]
    },
    {
      "cell_type": "markdown",
      "metadata": {},
      "source": [
        "Mayoritas negara memiliki ekspektasi umur Male_life hampir sama dengan overall life yakni pada 70-80 tahun, namun sedikit yang berada pada umur 80-90."
      ]
    },
    {
      "cell_type": "code",
      "execution_count": 11,
      "metadata": {},
      "outputs": [
        {
          "data": {
            "image/png": "[encoded data removed]",
            "text/plain": [
              "<Figure size 720x432 with 1 Axes>"
            ]
          },
          "metadata": {},
          "output_type": "display_data"
        }
      ],
      "source": [
        "#tampilkan data berdasarkan balance\n",
        "df_EDA['Female_Life'] = np.ceil(df_EDA['Female Life']/10)\n",
        "gruopeddf = df_EDA.groupby(['Female_Life'])[['Female_Life']].count()\n",
        "gruopeddf.plot(kind='bar', figsize=(10, 6))\n",
        "\n",
        "plt.xlabel('Female_Life') # add to x-label to the plot\n",
        "plt.ylabel('data count') # add y-label to the plot\n",
        "plt.title( 'data count based on Female_Life in 10') # add title to the plot\n",
        "\n",
        "plt.show()"
      ]
    },
    {
      "cell_type": "markdown",
      "metadata": {},
      "source": [
        "Mayoritas negara memiliki ekspektasi umur Female_life hampir sama dengan overall life yakni pada 70-80 tahun, namun tudak sedikt yang berada pada umur 80-90 bahkan ada beberapa yang sampai umur 90-100 tahun."
      ]
    },
    {
      "cell_type": "code",
      "execution_count": 12,
      "metadata": {},
      "outputs": [
        {
          "data": {
            "text/html": [
              "<div>\n",
              "<style scoped>\n",
              "    .dataframe tbody tr th:only-of-type {\n",
              "        vertical-align: middle;\n",
              "    }\n",
              "\n",
              "    .dataframe tbody tr th {\n",
              "        vertical-align: top;\n",
              "    }\n",
              "\n",
              "    .dataframe thead th {\n",
              "        text-align: right;\n",
              "    }\n",
              "</style>\n",
              "<table border=\"1\" class=\"dataframe\">\n",
              "  <thead>\n",
              "    <tr style=\"text-align: right;\">\n",
              "      <th></th>\n",
              "      <th>Overall Life</th>\n",
              "    </tr>\n",
              "    <tr>\n",
              "      <th>Continent</th>\n",
              "      <th></th>\n",
              "    </tr>\n",
              "  </thead>\n",
              "  <tbody>\n",
              "    <tr>\n",
              "      <th>Africa</th>\n",
              "      <td>61.800000</td>\n",
              "    </tr>\n",
              "    <tr>\n",
              "      <th>Asia</th>\n",
              "      <td>73.618367</td>\n",
              "    </tr>\n",
              "    <tr>\n",
              "      <th>Europe</th>\n",
              "      <td>79.019608</td>\n",
              "    </tr>\n",
              "    <tr>\n",
              "      <th>North America</th>\n",
              "      <td>76.273529</td>\n",
              "    </tr>\n",
              "    <tr>\n",
              "      <th>Oceania</th>\n",
              "      <td>74.230000</td>\n",
              "    </tr>\n",
              "    <tr>\n",
              "      <th>South America</th>\n",
              "      <td>75.042857</td>\n",
              "    </tr>\n",
              "  </tbody>\n",
              "</table>\n",
              "</div>"
            ],
            "text/plain": [
              "               Overall Life\n",
              "Continent                  \n",
              "Africa            61.800000\n",
              "Asia              73.618367\n",
              "Europe            79.019608\n",
              "North America     76.273529\n",
              "Oceania           74.230000\n",
              "South America     75.042857"
            ]
          },
          "execution_count": 12,
          "metadata": {},
          "output_type": "execute_result"
        }
      ],
      "source": [
        "df_EDA.groupby(['Continent'])[['Overall Life']].mean()"
      ]
    },
    {
      "cell_type": "code",
      "execution_count": 13,
      "metadata": {},
      "outputs": [
        {
          "data": {
            "text/html": [
              "<div>\n",
              "<style scoped>\n",
              "    .dataframe tbody tr th:only-of-type {\n",
              "        vertical-align: middle;\n",
              "    }\n",
              "\n",
              "    .dataframe tbody tr th {\n",
              "        vertical-align: top;\n",
              "    }\n",
              "\n",
              "    .dataframe thead th {\n",
              "        text-align: right;\n",
              "    }\n",
              "</style>\n",
              "<table border=\"1\" class=\"dataframe\">\n",
              "  <thead>\n",
              "    <tr style=\"text-align: right;\">\n",
              "      <th></th>\n",
              "      <th>Male Life</th>\n",
              "    </tr>\n",
              "    <tr>\n",
              "      <th>Continent</th>\n",
              "      <th></th>\n",
              "    </tr>\n",
              "  </thead>\n",
              "  <tbody>\n",
              "    <tr>\n",
              "      <th>Africa</th>\n",
              "      <td>60.109091</td>\n",
              "    </tr>\n",
              "    <tr>\n",
              "      <th>Asia</th>\n",
              "      <td>71.046939</td>\n",
              "    </tr>\n",
              "    <tr>\n",
              "      <th>Europe</th>\n",
              "      <td>76.003922</td>\n",
              "    </tr>\n",
              "    <tr>\n",
              "      <th>North America</th>\n",
              "      <td>73.914706</td>\n",
              "    </tr>\n",
              "    <tr>\n",
              "      <th>Oceania</th>\n",
              "      <td>71.625000</td>\n",
              "    </tr>\n",
              "    <tr>\n",
              "      <th>South America</th>\n",
              "      <td>72.157143</td>\n",
              "    </tr>\n",
              "  </tbody>\n",
              "</table>\n",
              "</div>"
            ],
            "text/plain": [
              "               Male Life\n",
              "Continent               \n",
              "Africa         60.109091\n",
              "Asia           71.046939\n",
              "Europe         76.003922\n",
              "North America  73.914706\n",
              "Oceania        71.625000\n",
              "South America  72.157143"
            ]
          },
          "execution_count": 13,
          "metadata": {},
          "output_type": "execute_result"
        }
      ],
      "source": [
        "df_EDA.groupby(['Continent'])[['Male Life']].mean()"
      ]
    },
    {
      "cell_type": "code",
      "execution_count": 14,
      "metadata": {},
      "outputs": [
        {
          "data": {
            "text/html": [
              "<div>\n",
              "<style scoped>\n",
              "    .dataframe tbody tr th:only-of-type {\n",
              "        vertical-align: middle;\n",
              "    }\n",
              "\n",
              "    .dataframe tbody tr th {\n",
              "        vertical-align: top;\n",
              "    }\n",
              "\n",
              "    .dataframe thead th {\n",
              "        text-align: right;\n",
              "    }\n",
              "</style>\n",
              "<table border=\"1\" class=\"dataframe\">\n",
              "  <thead>\n",
              "    <tr style=\"text-align: right;\">\n",
              "      <th></th>\n",
              "      <th>Female Life</th>\n",
              "    </tr>\n",
              "    <tr>\n",
              "      <th>Continent</th>\n",
              "      <th></th>\n",
              "    </tr>\n",
              "  </thead>\n",
              "  <tbody>\n",
              "    <tr>\n",
              "      <th>Africa</th>\n",
              "      <td>63.583636</td>\n",
              "    </tr>\n",
              "    <tr>\n",
              "      <th>Asia</th>\n",
              "      <td>76.138776</td>\n",
              "    </tr>\n",
              "    <tr>\n",
              "      <th>Europe</th>\n",
              "      <td>82.237255</td>\n",
              "    </tr>\n",
              "    <tr>\n",
              "      <th>North America</th>\n",
              "      <td>78.738235</td>\n",
              "    </tr>\n",
              "    <tr>\n",
              "      <th>Oceania</th>\n",
              "      <td>76.915000</td>\n",
              "    </tr>\n",
              "    <tr>\n",
              "      <th>South America</th>\n",
              "      <td>77.992857</td>\n",
              "    </tr>\n",
              "  </tbody>\n",
              "</table>\n",
              "</div>"
            ],
            "text/plain": [
              "               Female Life\n",
              "Continent                 \n",
              "Africa           63.583636\n",
              "Asia             76.138776\n",
              "Europe           82.237255\n",
              "North America    78.738235\n",
              "Oceania          76.915000\n",
              "South America    77.992857"
            ]
          },
          "execution_count": 14,
          "metadata": {},
          "output_type": "execute_result"
        }
      ],
      "source": [
        "df_EDA.groupby(['Continent'])[['Female Life']].mean()"
      ]
    },
    {
      "cell_type": "markdown",
      "metadata": {},
      "source": [
        "Dari ketiga tabel diatas dapat diketahui bahwa dari segi Overall Life Expectancy, Female Life dan Male Life, Continent Afrika jauh di bawah dibandingkan negara lain, dapat diperkirakan bahwa mayoritas negara Africa akan berpusat pada cluster dengan ekspektasi terendah. Begitu juga dengan Europe akan dominan berada pada cluster dengan life expectancy yang tinggi."
      ]
    },
    {
      "cell_type": "markdown",
      "metadata": {
        "id": "3I5u0_oB7by-"
      },
      "source": [
        "# Data Preprocessing"
      ]
    },
    {
      "cell_type": "markdown",
      "metadata": {
        "id": "zuh1avJG7gnV"
      },
      "source": [
        "> Bagian ini berisi proses penyiapan data untuk proses pelatihan model, seperti pembagian data menjadi train-dev-test, transformasi data (normalisasi, encoding, dll.), dan proses-proses lain yang dibutuhkan."
      ]
    },
    {
      "cell_type": "markdown",
      "metadata": {
        "id": "M3gso-aJkIns"
      },
      "source": [
        "## Get Data for Model Inference"
      ]
    },
    {
      "cell_type": "code",
      "execution_count": 15,
      "metadata": {},
      "outputs": [
        {
          "data": {
            "text/plain": [
              "(223, 6)"
            ]
          },
          "execution_count": 15,
          "metadata": {},
          "output_type": "execute_result"
        }
      ],
      "source": [
        "df_copy.shape"
      ]
    },
    {
      "cell_type": "markdown",
      "metadata": {},
      "source": [
        "Karena data hanya 223 maka data inference yang diambil hanya 20 data."
      ]
    },
    {
      "cell_type": "code",
      "execution_count": 16,
      "metadata": {
        "id": "A2f9NiJUjw_H"
      },
      "outputs": [
        {
          "data": {
            "text/plain": [
              "(20, 6)"
            ]
          },
          "execution_count": 16,
          "metadata": {},
          "output_type": "execute_result"
        }
      ],
      "source": [
        "#Get data inference sebanyak 20 row sample dan lock randomize.\n",
        "df_inf = df_copy.sample(20, random_state = 15)\n",
        "df_inf.shape"
      ]
    },
    {
      "cell_type": "code",
      "execution_count": 17,
      "metadata": {
        "id": "NYqw_-0VjxW6"
      },
      "outputs": [
        {
          "data": {
            "text/plain": [
              "(203, 6)"
            ]
          },
          "execution_count": 17,
          "metadata": {},
          "output_type": "execute_result"
        }
      ],
      "source": [
        "# Hapus data yang dipakai oleh data inference dari df\n",
        "X_train = df_copy.drop(df_inf.index)\n",
        "\n",
        "# Cek ukuran dataset untuk train dan test, telah berkurang 20 row dari 299:\n",
        "X_train.shape"
      ]
    },
    {
      "cell_type": "code",
      "execution_count": 18,
      "metadata": {
        "id": "jxbVRLN7_9ux"
      },
      "outputs": [],
      "source": [
        "# Reset index dari kedua dataframe inference dan data untuk train & test\n",
        "df_inf.reset_index(drop = True, inplace=True)\n",
        "X_train.reset_index(drop = True, inplace=True)"
      ]
    },
    {
      "cell_type": "code",
      "execution_count": 19,
      "metadata": {
        "id": "Z0rNKy_NmiIw"
      },
      "outputs": [
        {
          "data": {
            "text/html": [
              "<div>\n",
              "<style scoped>\n",
              "    .dataframe tbody tr th:only-of-type {\n",
              "        vertical-align: middle;\n",
              "    }\n",
              "\n",
              "    .dataframe tbody tr th {\n",
              "        vertical-align: top;\n",
              "    }\n",
              "\n",
              "    .dataframe thead th {\n",
              "        text-align: right;\n",
              "    }\n",
              "</style>\n",
              "<table border=\"1\" class=\"dataframe\">\n",
              "  <thead>\n",
              "    <tr style=\"text-align: right;\">\n",
              "      <th></th>\n",
              "      <th>Rank</th>\n",
              "      <th>Country</th>\n",
              "      <th>Overall Life</th>\n",
              "      <th>Male Life</th>\n",
              "      <th>Female Life</th>\n",
              "      <th>Continent</th>\n",
              "    </tr>\n",
              "  </thead>\n",
              "  <tbody>\n",
              "    <tr>\n",
              "      <th>0</th>\n",
              "      <td>1</td>\n",
              "      <td>Monaco</td>\n",
              "      <td>89.5</td>\n",
              "      <td>85.6</td>\n",
              "      <td>93.5</td>\n",
              "      <td>Europe</td>\n",
              "    </tr>\n",
              "    <tr>\n",
              "      <th>1</th>\n",
              "      <td>2</td>\n",
              "      <td>Japan</td>\n",
              "      <td>85.0</td>\n",
              "      <td>81.7</td>\n",
              "      <td>88.5</td>\n",
              "      <td>Asia</td>\n",
              "    </tr>\n",
              "    <tr>\n",
              "      <th>2</th>\n",
              "      <td>3</td>\n",
              "      <td>Singapore</td>\n",
              "      <td>85.0</td>\n",
              "      <td>82.3</td>\n",
              "      <td>87.8</td>\n",
              "      <td>Asia</td>\n",
              "    </tr>\n",
              "    <tr>\n",
              "      <th>3</th>\n",
              "      <td>4</td>\n",
              "      <td>Macau; China</td>\n",
              "      <td>84.5</td>\n",
              "      <td>81.6</td>\n",
              "      <td>87.6</td>\n",
              "      <td>Asia</td>\n",
              "    </tr>\n",
              "    <tr>\n",
              "      <th>4</th>\n",
              "      <td>5</td>\n",
              "      <td>San Marino</td>\n",
              "      <td>83.3</td>\n",
              "      <td>80.7</td>\n",
              "      <td>86.1</td>\n",
              "      <td>Europe</td>\n",
              "    </tr>\n",
              "    <tr>\n",
              "      <th>...</th>\n",
              "      <td>...</td>\n",
              "      <td>...</td>\n",
              "      <td>...</td>\n",
              "      <td>...</td>\n",
              "      <td>...</td>\n",
              "      <td>...</td>\n",
              "    </tr>\n",
              "    <tr>\n",
              "      <th>198</th>\n",
              "      <td>219</td>\n",
              "      <td>Gabon</td>\n",
              "      <td>52.1</td>\n",
              "      <td>51.6</td>\n",
              "      <td>52.5</td>\n",
              "      <td>Africa</td>\n",
              "    </tr>\n",
              "    <tr>\n",
              "      <th>199</th>\n",
              "      <td>220</td>\n",
              "      <td>Swaziland</td>\n",
              "      <td>51.6</td>\n",
              "      <td>52.2</td>\n",
              "      <td>51.0</td>\n",
              "      <td>Africa</td>\n",
              "    </tr>\n",
              "    <tr>\n",
              "      <th>200</th>\n",
              "      <td>221</td>\n",
              "      <td>Afghanistan</td>\n",
              "      <td>51.3</td>\n",
              "      <td>49.9</td>\n",
              "      <td>52.7</td>\n",
              "      <td>Asia</td>\n",
              "    </tr>\n",
              "    <tr>\n",
              "      <th>201</th>\n",
              "      <td>222</td>\n",
              "      <td>Guinea-Bissau</td>\n",
              "      <td>50.6</td>\n",
              "      <td>48.6</td>\n",
              "      <td>52.7</td>\n",
              "      <td>Africa</td>\n",
              "    </tr>\n",
              "    <tr>\n",
              "      <th>202</th>\n",
              "      <td>223</td>\n",
              "      <td>Chad</td>\n",
              "      <td>50.2</td>\n",
              "      <td>49.0</td>\n",
              "      <td>51.3</td>\n",
              "      <td>Africa</td>\n",
              "    </tr>\n",
              "  </tbody>\n",
              "</table>\n",
              "<p>203 rows × 6 columns</p>\n",
              "</div>"
            ],
            "text/plain": [
              "     Rank        Country  Overall Life  Male Life  Female Life Continent\n",
              "0       1         Monaco          89.5       85.6         93.5    Europe\n",
              "1       2          Japan          85.0       81.7         88.5      Asia\n",
              "2       3      Singapore          85.0       82.3         87.8      Asia\n",
              "3       4   Macau; China          84.5       81.6         87.6      Asia\n",
              "4       5     San Marino          83.3       80.7         86.1    Europe\n",
              "..    ...            ...           ...        ...          ...       ...\n",
              "198   219          Gabon          52.1       51.6         52.5    Africa\n",
              "199   220      Swaziland          51.6       52.2         51.0    Africa\n",
              "200   221    Afghanistan          51.3       49.9         52.7      Asia\n",
              "201   222  Guinea-Bissau          50.6       48.6         52.7    Africa\n",
              "202   223           Chad          50.2       49.0         51.3    Africa\n",
              "\n",
              "[203 rows x 6 columns]"
            ]
          },
          "execution_count": 19,
          "metadata": {},
          "output_type": "execute_result"
        }
      ],
      "source": [
        "X_train"
      ]
    },
    {
      "cell_type": "markdown",
      "metadata": {
        "id": "yA8FVinvnkZ5"
      },
      "source": [
        "## Feature Selection"
      ]
    },
    {
      "cell_type": "markdown",
      "metadata": {
        "id": "gT10TJuB9ajR"
      },
      "source": [
        "Feature Selection dilakukan sebelum data preprocessing untuk mempersempit cakupan preprocessing data sehingga dapat mengurangi waktu pengolahan data dan menghindari mengolah data yang pada akhirnya tidak terpakai."
      ]
    },
    {
      "cell_type": "code",
      "execution_count": 20,
      "metadata": {
        "id": "Z9nUDGWeoI8_"
      },
      "outputs": [
        {
          "data": {
            "image/png": "[encoded data removed]",
            "text/plain": [
              "<Figure size 1440x1080 with 2 Axes>"
            ]
          },
          "metadata": {},
          "output_type": "display_data"
        }
      ],
      "source": [
        "# Use heatmap for identifying correlation between numeric features\n",
        "plt.figure(figsize=(20,15))\n",
        "sns.heatmap(X_train.corr(), annot=True, fmt='.2f')\n",
        "plt.show()"
      ]
    },
    {
      "cell_type": "markdown",
      "metadata": {
        "id": "75RMgdVr94mS"
      },
      "source": [
        "dari heatmap dapat diketahui bahwa feature memiliki korelasi satu dengan lainnya. Lanjut dengan memilih kolom numeric k dikarenakan PCA hanya mengolah fitur-fitur numeric. Semua kolom numerik akan dipilih."
      ]
    },
    {
      "cell_type": "code",
      "execution_count": 21,
      "metadata": {
        "id": "rQyU_lSimiIx"
      },
      "outputs": [
        {
          "data": {
            "text/html": [
              "<div>\n",
              "<style scoped>\n",
              "    .dataframe tbody tr th:only-of-type {\n",
              "        vertical-align: middle;\n",
              "    }\n",
              "\n",
              "    .dataframe tbody tr th {\n",
              "        vertical-align: top;\n",
              "    }\n",
              "\n",
              "    .dataframe thead th {\n",
              "        text-align: right;\n",
              "    }\n",
              "</style>\n",
              "<table border=\"1\" class=\"dataframe\">\n",
              "  <thead>\n",
              "    <tr style=\"text-align: right;\">\n",
              "      <th></th>\n",
              "      <th>Rank</th>\n",
              "      <th>Country</th>\n",
              "      <th>Overall Life</th>\n",
              "      <th>Male Life</th>\n",
              "      <th>Female Life</th>\n",
              "      <th>Continent</th>\n",
              "    </tr>\n",
              "  </thead>\n",
              "  <tbody>\n",
              "    <tr>\n",
              "      <th>0</th>\n",
              "      <td>1</td>\n",
              "      <td>Monaco</td>\n",
              "      <td>89.5</td>\n",
              "      <td>85.6</td>\n",
              "      <td>93.5</td>\n",
              "      <td>Europe</td>\n",
              "    </tr>\n",
              "    <tr>\n",
              "      <th>1</th>\n",
              "      <td>2</td>\n",
              "      <td>Japan</td>\n",
              "      <td>85.0</td>\n",
              "      <td>81.7</td>\n",
              "      <td>88.5</td>\n",
              "      <td>Asia</td>\n",
              "    </tr>\n",
              "    <tr>\n",
              "      <th>2</th>\n",
              "      <td>3</td>\n",
              "      <td>Singapore</td>\n",
              "      <td>85.0</td>\n",
              "      <td>82.3</td>\n",
              "      <td>87.8</td>\n",
              "      <td>Asia</td>\n",
              "    </tr>\n",
              "    <tr>\n",
              "      <th>3</th>\n",
              "      <td>4</td>\n",
              "      <td>Macau; China</td>\n",
              "      <td>84.5</td>\n",
              "      <td>81.6</td>\n",
              "      <td>87.6</td>\n",
              "      <td>Asia</td>\n",
              "    </tr>\n",
              "    <tr>\n",
              "      <th>4</th>\n",
              "      <td>5</td>\n",
              "      <td>San Marino</td>\n",
              "      <td>83.3</td>\n",
              "      <td>80.7</td>\n",
              "      <td>86.1</td>\n",
              "      <td>Europe</td>\n",
              "    </tr>\n",
              "  </tbody>\n",
              "</table>\n",
              "</div>"
            ],
            "text/plain": [
              "   Rank       Country  Overall Life  Male Life  Female Life Continent\n",
              "0     1        Monaco          89.5       85.6         93.5    Europe\n",
              "1     2         Japan          85.0       81.7         88.5      Asia\n",
              "2     3     Singapore          85.0       82.3         87.8      Asia\n",
              "3     4  Macau; China          84.5       81.6         87.6      Asia\n",
              "4     5    San Marino          83.3       80.7         86.1    Europe"
            ]
          },
          "execution_count": 21,
          "metadata": {},
          "output_type": "execute_result"
        }
      ],
      "source": [
        "#Display X_train to see the features\n",
        "X_train.head()"
      ]
    },
    {
      "cell_type": "code",
      "execution_count": 22,
      "metadata": {
        "id": "y7sUXt3vmiIx"
      },
      "outputs": [],
      "source": [
        "#Memilih feature numerical dan categorical\n",
        "num_col =['Overall Life', 'Male Life','Female Life']\n",
        "cat_col = ['Rank','Country','Continent']"
      ]
    },
    {
      "cell_type": "code",
      "execution_count": 23,
      "metadata": {
        "id": "mag1WpQMmiIx"
      },
      "outputs": [],
      "source": [
        "# Split data set sesuai dengan categorical dan numerical\n",
        "X_num = X_train[num_col]\n",
        "X_cat = X_train[cat_col]"
      ]
    },
    {
      "cell_type": "code",
      "execution_count": 24,
      "metadata": {
        "id": "A9G2rKOLmiIx"
      },
      "outputs": [
        {
          "data": {
            "text/html": [
              "<div>\n",
              "<style scoped>\n",
              "    .dataframe tbody tr th:only-of-type {\n",
              "        vertical-align: middle;\n",
              "    }\n",
              "\n",
              "    .dataframe tbody tr th {\n",
              "        vertical-align: top;\n",
              "    }\n",
              "\n",
              "    .dataframe thead th {\n",
              "        text-align: right;\n",
              "    }\n",
              "</style>\n",
              "<table border=\"1\" class=\"dataframe\">\n",
              "  <thead>\n",
              "    <tr style=\"text-align: right;\">\n",
              "      <th></th>\n",
              "      <th>Overall Life</th>\n",
              "      <th>Male Life</th>\n",
              "      <th>Female Life</th>\n",
              "    </tr>\n",
              "  </thead>\n",
              "  <tbody>\n",
              "    <tr>\n",
              "      <th>0</th>\n",
              "      <td>89.5</td>\n",
              "      <td>85.6</td>\n",
              "      <td>93.5</td>\n",
              "    </tr>\n",
              "    <tr>\n",
              "      <th>1</th>\n",
              "      <td>85.0</td>\n",
              "      <td>81.7</td>\n",
              "      <td>88.5</td>\n",
              "    </tr>\n",
              "    <tr>\n",
              "      <th>2</th>\n",
              "      <td>85.0</td>\n",
              "      <td>82.3</td>\n",
              "      <td>87.8</td>\n",
              "    </tr>\n",
              "    <tr>\n",
              "      <th>3</th>\n",
              "      <td>84.5</td>\n",
              "      <td>81.6</td>\n",
              "      <td>87.6</td>\n",
              "    </tr>\n",
              "    <tr>\n",
              "      <th>4</th>\n",
              "      <td>83.3</td>\n",
              "      <td>80.7</td>\n",
              "      <td>86.1</td>\n",
              "    </tr>\n",
              "  </tbody>\n",
              "</table>\n",
              "</div>"
            ],
            "text/plain": [
              "   Overall Life  Male Life  Female Life\n",
              "0          89.5       85.6         93.5\n",
              "1          85.0       81.7         88.5\n",
              "2          85.0       82.3         87.8\n",
              "3          84.5       81.6         87.6\n",
              "4          83.3       80.7         86.1"
            ]
          },
          "execution_count": 24,
          "metadata": {},
          "output_type": "execute_result"
        }
      ],
      "source": [
        "#show Xtrain num\n",
        "X_num.head(5)"
      ]
    },
    {
      "cell_type": "markdown",
      "metadata": {
        "id": "2Cdm7kVKMMM8"
      },
      "source": [
        "## Missing value handling"
      ]
    },
    {
      "cell_type": "code",
      "execution_count": 25,
      "metadata": {
        "id": "3i-V9JrbMVBr"
      },
      "outputs": [
        {
          "data": {
            "text/plain": [
              "Overall Life    0\n",
              "Male Life       0\n",
              "Female Life     0\n",
              "dtype: int64"
            ]
          },
          "execution_count": 25,
          "metadata": {},
          "output_type": "execute_result"
        }
      ],
      "source": [
        "# Looking missing value in X_train\n",
        "X_num.isnull().sum()"
      ]
    },
    {
      "cell_type": "markdown",
      "metadata": {
        "id": "9wKEHDgAI31f"
      },
      "source": [
        "Tidak terdapat missing value, lanjutkan kepada outliers handling"
      ]
    },
    {
      "cell_type": "markdown",
      "metadata": {
        "id": "vUaR2jVgMgOw"
      },
      "source": [
        "## Outliers handling"
      ]
    },
    {
      "cell_type": "markdown",
      "metadata": {
        "id": "WzL8y3TSLU6G"
      },
      "source": [
        "Plot setiap data numerik untuk melihat adanya outliers serta melihat distribusinya."
      ]
    },
    {
      "cell_type": "code",
      "execution_count": 26,
      "metadata": {
        "id": "mNhsdLkB2M4J"
      },
      "outputs": [],
      "source": [
        "# Membuat def fungsi untuk membuat histogram dan boxplot bagi numerical X_train \n",
        "def hist_boxplot(df, variable):\n",
        "    # Define figure size\n",
        "    plt.figure(figsize=(10, 3))\n",
        "\n",
        "    # Histogram\n",
        "    plt.subplot(1, 2, 1)\n",
        "    sns.histplot(df[variable], bins=30)\n",
        "    plt.title('Histogram')\n",
        "\n",
        "    # Boxplot\n",
        "    plt.subplot(1, 2, 2)\n",
        "    sns.boxplot(y=df[variable])\n",
        "    plt.title('Boxplot')\n",
        "\n",
        "    plt.show()\n",
        "\n",
        "    print(variable)\n",
        "    print('skewness:', df[variable].skew())\n",
        "    if (df[variable].skew() <= -0.5 ) | (df[variable].skew() >= 0.5 ) :\n",
        "      print('the distribution is skewed')\n",
        "    else:\n",
        "      print('the distribution is normal')"
      ]
    },
    {
      "cell_type": "code",
      "execution_count": 27,
      "metadata": {
        "id": "5n85cJ3GMk21"
      },
      "outputs": [
        {
          "data": {
            "image/png": "[encoded data removed]",
            "text/plain": [
              "<Figure size 720x216 with 2 Axes>"
            ]
          },
          "metadata": {},
          "output_type": "display_data"
        },
        {
          "name": "stdout",
          "output_type": "stream",
          "text": [
            "Overall Life\n",
            "skewness: -0.9715137613621124\n",
            "the distribution is skewed\n"
          ]
        },
        {
          "data": {
            "image/png": "[encoded data removed]",
            "text/plain": [
              "<Figure size 720x216 with 2 Axes>"
            ]
          },
          "metadata": {},
          "output_type": "display_data"
        },
        {
          "name": "stdout",
          "output_type": "stream",
          "text": [
            "Male Life\n",
            "skewness: -0.8713421056205187\n",
            "the distribution is skewed\n"
          ]
        },
        {
          "data": {
            "image/png": "[encoded data removed]",
            "text/plain": [
              "<Figure size 720x216 with 2 Axes>"
            ]
          },
          "metadata": {},
          "output_type": "display_data"
        },
        {
          "name": "stdout",
          "output_type": "stream",
          "text": [
            "Female Life\n",
            "skewness: -1.025602040169456\n",
            "the distribution is skewed\n"
          ]
        }
      ],
      "source": [
        "#munculkan histogram dan boxplot bagi ketiga feature di X_Traim_num\n",
        "for i in X_num.columns:\n",
        "    hist_boxplot(X_num, i)"
      ]
    },
    {
      "cell_type": "markdown",
      "metadata": {
        "id": "88Tbsm3dmiIz"
      },
      "source": [
        "Semua feature pada kolom num skew, maka scaling akan dilakukan dengan menggunakan minmax scaler. \n",
        "Outlier dianggap sebagai outlier natural dikarenakan berhubung dengan usia."
      ]
    },
    {
      "cell_type": "markdown",
      "metadata": {
        "id": "PwgpdAd7NF1P"
      },
      "source": [
        "## Feature Scaling"
      ]
    },
    {
      "cell_type": "markdown",
      "metadata": {
        "id": "zCoFU8YhmiI1"
      },
      "source": [
        "Selanjutnya lakukan scaling dengan menggunakan minmaxscaller dikarenakan seluruh data memiliki distribusi skew."
      ]
    },
    {
      "cell_type": "code",
      "execution_count": 28,
      "metadata": {
        "id": "Zx8A6m6smiI1"
      },
      "outputs": [],
      "source": [
        "#Feature scaling dengan menggunakan minmax scaler\n",
        "scaler = MinMaxScaler()\n",
        "scaler.fit(X_num)\n",
        "\n",
        "X_num_sc = scaler.transform(X_num) #scaling train"
      ]
    },
    {
      "cell_type": "markdown",
      "metadata": {
        "id": "4dILy7NVmiI2"
      },
      "source": [
        "## Dimension Reduction"
      ]
    },
    {
      "cell_type": "markdown",
      "metadata": {
        "id": "7adsTm40S5Jn"
      },
      "source": [
        "Lakukan dimension reduction untuk meringankan process clustering serta meningkatkan ketepatan hasil clustering."
      ]
    },
    {
      "cell_type": "code",
      "execution_count": 29,
      "metadata": {
        "id": "u6NuwtGKmiI2"
      },
      "outputs": [
        {
          "data": {
            "text/html": [
              "<div>\n",
              "<style scoped>\n",
              "    .dataframe tbody tr th:only-of-type {\n",
              "        vertical-align: middle;\n",
              "    }\n",
              "\n",
              "    .dataframe tbody tr th {\n",
              "        vertical-align: top;\n",
              "    }\n",
              "\n",
              "    .dataframe thead th {\n",
              "        text-align: right;\n",
              "    }\n",
              "</style>\n",
              "<table border=\"1\" class=\"dataframe\">\n",
              "  <thead>\n",
              "    <tr style=\"text-align: right;\">\n",
              "      <th></th>\n",
              "      <th>Overall Life</th>\n",
              "      <th>Male Life</th>\n",
              "      <th>Female Life</th>\n",
              "    </tr>\n",
              "  </thead>\n",
              "  <tbody>\n",
              "    <tr>\n",
              "      <th>0</th>\n",
              "      <td>1.000000</td>\n",
              "      <td>1.000000</td>\n",
              "      <td>1.000000</td>\n",
              "    </tr>\n",
              "    <tr>\n",
              "      <th>1</th>\n",
              "      <td>0.885496</td>\n",
              "      <td>0.894595</td>\n",
              "      <td>0.882353</td>\n",
              "    </tr>\n",
              "    <tr>\n",
              "      <th>2</th>\n",
              "      <td>0.885496</td>\n",
              "      <td>0.910811</td>\n",
              "      <td>0.865882</td>\n",
              "    </tr>\n",
              "    <tr>\n",
              "      <th>3</th>\n",
              "      <td>0.872774</td>\n",
              "      <td>0.891892</td>\n",
              "      <td>0.861176</td>\n",
              "    </tr>\n",
              "    <tr>\n",
              "      <th>4</th>\n",
              "      <td>0.842239</td>\n",
              "      <td>0.867568</td>\n",
              "      <td>0.825882</td>\n",
              "    </tr>\n",
              "    <tr>\n",
              "      <th>...</th>\n",
              "      <td>...</td>\n",
              "      <td>...</td>\n",
              "      <td>...</td>\n",
              "    </tr>\n",
              "    <tr>\n",
              "      <th>198</th>\n",
              "      <td>0.048346</td>\n",
              "      <td>0.081081</td>\n",
              "      <td>0.035294</td>\n",
              "    </tr>\n",
              "    <tr>\n",
              "      <th>199</th>\n",
              "      <td>0.035623</td>\n",
              "      <td>0.097297</td>\n",
              "      <td>0.000000</td>\n",
              "    </tr>\n",
              "    <tr>\n",
              "      <th>200</th>\n",
              "      <td>0.027990</td>\n",
              "      <td>0.035135</td>\n",
              "      <td>0.040000</td>\n",
              "    </tr>\n",
              "    <tr>\n",
              "      <th>201</th>\n",
              "      <td>0.010178</td>\n",
              "      <td>0.000000</td>\n",
              "      <td>0.040000</td>\n",
              "    </tr>\n",
              "    <tr>\n",
              "      <th>202</th>\n",
              "      <td>0.000000</td>\n",
              "      <td>0.010811</td>\n",
              "      <td>0.007059</td>\n",
              "    </tr>\n",
              "  </tbody>\n",
              "</table>\n",
              "<p>203 rows × 3 columns</p>\n",
              "</div>"
            ],
            "text/plain": [
              "     Overall Life  Male Life  Female Life\n",
              "0        1.000000   1.000000     1.000000\n",
              "1        0.885496   0.894595     0.882353\n",
              "2        0.885496   0.910811     0.865882\n",
              "3        0.872774   0.891892     0.861176\n",
              "4        0.842239   0.867568     0.825882\n",
              "..            ...        ...          ...\n",
              "198      0.048346   0.081081     0.035294\n",
              "199      0.035623   0.097297     0.000000\n",
              "200      0.027990   0.035135     0.040000\n",
              "201      0.010178   0.000000     0.040000\n",
              "202      0.000000   0.010811     0.007059\n",
              "\n",
              "[203 rows x 3 columns]"
            ]
          },
          "execution_count": 29,
          "metadata": {},
          "output_type": "execute_result"
        }
      ],
      "source": [
        "# Create DataFrame of `X_train_final`\n",
        "\n",
        "X_num_fin = pd.DataFrame(X_num_sc, columns=num_col)\n",
        "X_num_fin"
      ]
    },
    {
      "cell_type": "markdown",
      "metadata": {
        "id": "gTkhktUemiI2"
      },
      "source": [
        "### VIF"
      ]
    },
    {
      "cell_type": "markdown",
      "metadata": {
        "id": "unrx2XBrTcFN"
      },
      "source": [
        "Lakukan VIF untuk melihat banyaknya dimensi yang di rekomendasikan."
      ]
    },
    {
      "cell_type": "code",
      "execution_count": 30,
      "metadata": {
        "id": "J7jnphPCmiI2"
      },
      "outputs": [
        {
          "data": {
            "text/html": [
              "<div>\n",
              "<style scoped>\n",
              "    .dataframe tbody tr th:only-of-type {\n",
              "        vertical-align: middle;\n",
              "    }\n",
              "\n",
              "    .dataframe tbody tr th {\n",
              "        vertical-align: top;\n",
              "    }\n",
              "\n",
              "    .dataframe thead th {\n",
              "        text-align: right;\n",
              "    }\n",
              "</style>\n",
              "<table border=\"1\" class=\"dataframe\">\n",
              "  <thead>\n",
              "    <tr style=\"text-align: right;\">\n",
              "      <th></th>\n",
              "      <th>features</th>\n",
              "      <th>VIF</th>\n",
              "    </tr>\n",
              "  </thead>\n",
              "  <tbody>\n",
              "    <tr>\n",
              "      <th>0</th>\n",
              "      <td>Overall Life</td>\n",
              "      <td>5402.083664</td>\n",
              "    </tr>\n",
              "    <tr>\n",
              "      <th>1</th>\n",
              "      <td>Male Life</td>\n",
              "      <td>1548.296546</td>\n",
              "    </tr>\n",
              "    <tr>\n",
              "      <th>2</th>\n",
              "      <td>Female Life</td>\n",
              "      <td>1537.416265</td>\n",
              "    </tr>\n",
              "  </tbody>\n",
              "</table>\n",
              "</div>"
            ],
            "text/plain": [
              "       features          VIF\n",
              "0  Overall Life  5402.083664\n",
              "1     Male Life  1548.296546\n",
              "2   Female Life  1537.416265"
            ]
          },
          "execution_count": 30,
          "metadata": {},
          "output_type": "execute_result"
        }
      ],
      "source": [
        "vif_data = pd.DataFrame()\n",
        "vif_data[\"features\"] = X_num_fin.columns\n",
        "\n",
        "#calculating VIF for each feature\n",
        "vif_data[\"VIF\"] = [variance_inflation_factor(X_num_fin.values, i)\n",
        "                        for i in range(len(X_num_fin.columns))]\n",
        "vif_data.sort_values(by='VIF',ascending=False)"
      ]
    },
    {
      "cell_type": "markdown",
      "metadata": {
        "id": "a2rKfstBXM7M"
      },
      "source": [
        "Jumlah dimensi yang direkomendasikan ditunjukkan dari banyaknya kolom dengan nilai VIF diatas 5 yakni 3 dimensi"
      ]
    },
    {
      "cell_type": "markdown",
      "metadata": {
        "id": "q5Qy_d7imiI2"
      },
      "source": [
        "### EVR"
      ]
    },
    {
      "cell_type": "code",
      "execution_count": 31,
      "metadata": {
        "id": "XYhkW8S9miI2"
      },
      "outputs": [
        {
          "data": {
            "text/plain": [
              "2"
            ]
          },
          "execution_count": 31,
          "metadata": {},
          "output_type": "execute_result"
        }
      ],
      "source": [
        "pca = PCA()\n",
        "pca.fit(X_num_fin)\n",
        "cumsum = np.cumsum(pca.explained_variance_ratio_)\n",
        "d = np.argmax(cumsum >= 0.999) + 1\n",
        "d"
      ]
    },
    {
      "cell_type": "markdown",
      "metadata": {},
      "source": [
        "Dikarenakan sedikitnya kolom yang tersedia maka persentase dimensional reduction sudah sangat tinggi mulai dari dimensi pertama. Sebenarnya PCA tidak diperlukan, namun karena PCA harus dilakukan, oleh karena itu opsi reduksi menjadi 2 dimensi diambil."
      ]
    },
    {
      "cell_type": "code",
      "execution_count": 32,
      "metadata": {
        "id": "wpw3dXS4miI3"
      },
      "outputs": [
        {
          "name": "stdout",
          "output_type": "stream",
          "text": [
            "[0.99240652 0.99971045 1.        ]\n"
          ]
        }
      ],
      "source": [
        "print(cumsum)"
      ]
    },
    {
      "cell_type": "markdown",
      "metadata": {},
      "source": [
        "dengan 2 dimensi telah mewakili 99.9% data\n"
      ]
    },
    {
      "cell_type": "code",
      "execution_count": 33,
      "metadata": {
        "id": "BI6dtS2imiI3"
      },
      "outputs": [
        {
          "data": {
            "image/png": "[encoded data removed]",
            "text/plain": [
              "<Figure size 432x288 with 1 Axes>"
            ]
          },
          "metadata": {},
          "output_type": "display_data"
        }
      ],
      "source": [
        "plt.figure(figsize=(6,4))\n",
        "plt.plot(cumsum, linewidth=3)\n",
        "plt.axis([0, 8, 0, 1.1])\n",
        "plt.xlabel(\"Dimensions\")\n",
        "plt.ylabel(\"Explained Variance\")\n",
        "plt.plot([d, d], [0, 0.999], \"k:\")\n",
        "plt.plot([0, d], [0.95, 0.999], \"k:\")\n",
        "plt.plot(d, 0.95, \"ko\")\n",
        "plt.annotate(\"Elbow\", xy=(1, 0.999), xytext=(3, 0.7),\n",
        "             arrowprops=dict(arrowstyle=\"->\"), fontsize=16)\n",
        "plt.grid(True)\n",
        "plt.show()"
      ]
    },
    {
      "cell_type": "markdown",
      "metadata": {},
      "source": [
        "Dengan menetapkan 99.97% data, reduksi dimensi yang disarankan yakni 2."
      ]
    },
    {
      "cell_type": "markdown",
      "metadata": {
        "id": "2_YGhCNfmiI3"
      },
      "source": [
        "### PCA"
      ]
    },
    {
      "cell_type": "code",
      "execution_count": 34,
      "metadata": {
        "id": "s-jKJta6miI3"
      },
      "outputs": [],
      "source": [
        "pca = PCA(n_components=2)\n",
        "pca.fit(X_num_fin)\n",
        "X_reduced = pca.transform(X_num_fin)"
      ]
    },
    {
      "cell_type": "markdown",
      "metadata": {
        "id": "7Cb6i12TfwP4"
      },
      "source": [
        "PCA telah dilakukan"
      ]
    },
    {
      "cell_type": "markdown",
      "metadata": {
        "id": "I6djqTo7miI3"
      },
      "source": [
        "### Defining n cluster"
      ]
    },
    {
      "cell_type": "code",
      "execution_count": 35,
      "metadata": {
        "id": "WCsQ_keEmiI4"
      },
      "outputs": [
        {
          "name": "stderr",
          "output_type": "stream",
          "text": [
            "c:\\ProgramData\\Anaconda3\\lib\\site-packages\\sklearn\\cluster\\_kmeans.py:1037: UserWarning: KMeans is known to have a memory leak on Windows with MKL, when there are less chunks than available threads. You can avoid it by setting the environment variable OMP_NUM_THREADS=1.\n",
            "  \"KMeans is known to have a memory leak on Windows \"\n"
          ]
        }
      ],
      "source": [
        "kmeans_per_k = [KMeans(n_clusters=k, random_state=26).fit(X_reduced)\n",
        "                for k in range(1, 9)]"
      ]
    },
    {
      "cell_type": "code",
      "execution_count": 36,
      "metadata": {
        "id": "hSs16f9CmiI4"
      },
      "outputs": [
        {
          "name": "stdout",
          "output_type": "stream",
          "text": [
            "Elbow Method\n"
          ]
        },
        {
          "data": {
            "image/png": "[encoded data removed]",
            "text/plain": [
              "<Figure size 576x396 with 2 Axes>"
            ]
          },
          "metadata": {},
          "output_type": "display_data"
        },
        {
          "data": {
            "text/plain": [
              "<AxesSubplot:title={'center':'Distortion Score Elbow for KMeans Clustering'}, xlabel='k', ylabel='distortion score'>"
            ]
          },
          "execution_count": 36,
          "metadata": {},
          "output_type": "execute_result"
        }
      ],
      "source": [
        "print('Elbow Method')\n",
        "Elbow_M = KElbowVisualizer(KMeans(), k=9)\n",
        "Elbow_M.fit(X_reduced)\n",
        "Elbow_M.show()"
      ]
    },
    {
      "cell_type": "code",
      "execution_count": 37,
      "metadata": {
        "id": "lDrTORkXmiI4"
      },
      "outputs": [
        {
          "name": "stderr",
          "output_type": "stream",
          "text": [
            "c:\\ProgramData\\Anaconda3\\lib\\site-packages\\sklearn\\cluster\\_kmeans.py:1037: UserWarning: KMeans is known to have a memory leak on Windows with MKL, when there are less chunks than available threads. You can avoid it by setting the environment variable OMP_NUM_THREADS=1.\n",
            "  \"KMeans is known to have a memory leak on Windows \"\n"
          ]
        }
      ],
      "source": [
        "kmeans_per_k = [KMeans(n_clusters=k, random_state=42).fit(X_reduced)\n",
        "                for k in range(1, 7)]\n",
        "\n",
        "silhouette_scores = [silhouette_score(X_reduced, model.labels_)\n",
        "                     for model in kmeans_per_k[1:]]"
      ]
    },
    {
      "cell_type": "code",
      "execution_count": 38,
      "metadata": {
        "id": "6K79Ldn9miI4"
      },
      "outputs": [
        {
          "data": {
            "image/png": "[encoded data removed]",
            "text/plain": [
              "<Figure size 792x648 with 5 Axes>"
            ]
          },
          "metadata": {},
          "output_type": "display_data"
        }
      ],
      "source": [
        "plt.figure(figsize=(11, 9))\n",
        "\n",
        "for k in (2, 3, 4, 5, 6):\n",
        "    plt.subplot(3, 2, k - 1)\n",
        "    \n",
        "    y_pred = kmeans_per_k[k - 1].labels_\n",
        "    silhouette_coefficients = silhouette_samples(X_reduced, y_pred)\n",
        "\n",
        "    padding = len(X_reduced) // 30\n",
        "    pos = padding\n",
        "    ticks = []\n",
        "    for i in range(k):\n",
        "        coeffs = silhouette_coefficients[y_pred == i]\n",
        "        coeffs.sort()\n",
        "\n",
        "        color = mpl.cm.Spectral(i / k)\n",
        "        plt.fill_betweenx(np.arange(pos, pos + len(coeffs)), 0, coeffs,\n",
        "                          facecolor=color, edgecolor=color, alpha=0.7)\n",
        "        ticks.append(pos + len(coeffs) // 2)\n",
        "        pos += len(coeffs) + padding\n",
        "\n",
        "    plt.gca().yaxis.set_major_locator(FixedLocator(ticks))\n",
        "    plt.gca().yaxis.set_major_formatter(FixedFormatter(range(k)))\n",
        "    if k in (3, 5):\n",
        "        plt.ylabel(\"Cluster\")\n",
        "    \n",
        "    if k in (5, 6):\n",
        "        plt.gca().set_xticks([-0.1, 0, 0.2, 0.4, 0.6, 0.8, 1])\n",
        "        plt.xlabel(\"Silhouette Coefficient\")\n",
        "    else:\n",
        "        plt.tick_params(labelbottom=False)\n",
        "\n",
        "    plt.axvline(x=silhouette_scores[k - 2], color=\"red\", linestyle=\"--\")\n",
        "    plt.title(\"$k={}$\".format(k), fontsize=16)\n"
      ]
    },
    {
      "cell_type": "markdown",
      "metadata": {
        "id": "9FMvyFz3f0Tr"
      },
      "source": [
        "Melihat dari hasil Elbow dan silhouette, jumlah cluster yang direkomendasikan adalah 4. Dilihat dari semua pisau (grafik) melewati garis merah dan bentuk masing-masing pisau tidak terlalu kontras."
      ]
    },
    {
      "cell_type": "markdown",
      "metadata": {
        "id": "vdeACs9PNyzh"
      },
      "source": [
        "# Model definition"
      ]
    },
    {
      "cell_type": "markdown",
      "metadata": {
        "id": "-ToNx0_HZajL"
      },
      "source": [
        "Notes :\n",
        "Algorithm which will be used are KMeans\n",
        "Dengan metrics yang akan dipakai untuk mengevaluasi adalah pca 2d dan sihouette score"
      ]
    },
    {
      "cell_type": "markdown",
      "metadata": {
        "id": "rX3DeR05miI5"
      },
      "source": [
        "# Model Training"
      ]
    },
    {
      "cell_type": "markdown",
      "metadata": {},
      "source": [
        "Hasil dari elbow dan silhouette visualization adalah 4 maka n_clusters = 4 bagi K-Means"
      ]
    },
    {
      "cell_type": "markdown",
      "metadata": {
        "id": "8HRdiMewmiI5"
      },
      "source": [
        "## KMeans"
      ]
    },
    {
      "cell_type": "code",
      "execution_count": 39,
      "metadata": {
        "id": "am-R0fP7miI5"
      },
      "outputs": [
        {
          "data": {
            "text/plain": [
              "KMeans(n_clusters=4, random_state=15)"
            ]
          },
          "execution_count": 39,
          "metadata": {},
          "output_type": "execute_result"
        }
      ],
      "source": [
        "#fit K Means\n",
        "kmeans = KMeans(n_clusters=4, random_state=15)\n",
        "kmeans.fit(X_reduced)"
      ]
    },
    {
      "cell_type": "markdown",
      "metadata": {
        "id": "WIZaUYTnN8Ip"
      },
      "source": [
        "# Model Evaluation"
      ]
    },
    {
      "cell_type": "markdown",
      "metadata": {
        "id": "jPEM8cVBmiI6"
      },
      "source": [
        "### Input clustering results"
      ]
    },
    {
      "cell_type": "code",
      "execution_count": 40,
      "metadata": {
        "id": "sFc4NfoamiI6"
      },
      "outputs": [],
      "source": [
        "Cluster = X_train.copy()\n",
        "Cluster['cluster_kmeans'] = kmeans.labels_"
      ]
    },
    {
      "cell_type": "code",
      "execution_count": 41,
      "metadata": {
        "id": "OyyftscJmiI7"
      },
      "outputs": [
        {
          "data": {
            "text/html": [
              "<div>\n",
              "<style scoped>\n",
              "    .dataframe tbody tr th:only-of-type {\n",
              "        vertical-align: middle;\n",
              "    }\n",
              "\n",
              "    .dataframe tbody tr th {\n",
              "        vertical-align: top;\n",
              "    }\n",
              "\n",
              "    .dataframe thead th {\n",
              "        text-align: right;\n",
              "    }\n",
              "</style>\n",
              "<table border=\"1\" class=\"dataframe\">\n",
              "  <thead>\n",
              "    <tr style=\"text-align: right;\">\n",
              "      <th></th>\n",
              "      <th>Rank</th>\n",
              "      <th>Country</th>\n",
              "      <th>Overall Life</th>\n",
              "      <th>Male Life</th>\n",
              "      <th>Female Life</th>\n",
              "      <th>Continent</th>\n",
              "      <th>cluster_kmeans</th>\n",
              "    </tr>\n",
              "  </thead>\n",
              "  <tbody>\n",
              "    <tr>\n",
              "      <th>0</th>\n",
              "      <td>1</td>\n",
              "      <td>Monaco</td>\n",
              "      <td>89.5</td>\n",
              "      <td>85.6</td>\n",
              "      <td>93.5</td>\n",
              "      <td>Europe</td>\n",
              "      <td>3</td>\n",
              "    </tr>\n",
              "    <tr>\n",
              "      <th>1</th>\n",
              "      <td>2</td>\n",
              "      <td>Japan</td>\n",
              "      <td>85.0</td>\n",
              "      <td>81.7</td>\n",
              "      <td>88.5</td>\n",
              "      <td>Asia</td>\n",
              "      <td>3</td>\n",
              "    </tr>\n",
              "    <tr>\n",
              "      <th>2</th>\n",
              "      <td>3</td>\n",
              "      <td>Singapore</td>\n",
              "      <td>85.0</td>\n",
              "      <td>82.3</td>\n",
              "      <td>87.8</td>\n",
              "      <td>Asia</td>\n",
              "      <td>3</td>\n",
              "    </tr>\n",
              "    <tr>\n",
              "      <th>3</th>\n",
              "      <td>4</td>\n",
              "      <td>Macau; China</td>\n",
              "      <td>84.5</td>\n",
              "      <td>81.6</td>\n",
              "      <td>87.6</td>\n",
              "      <td>Asia</td>\n",
              "      <td>3</td>\n",
              "    </tr>\n",
              "    <tr>\n",
              "      <th>4</th>\n",
              "      <td>5</td>\n",
              "      <td>San Marino</td>\n",
              "      <td>83.3</td>\n",
              "      <td>80.7</td>\n",
              "      <td>86.1</td>\n",
              "      <td>Europe</td>\n",
              "      <td>3</td>\n",
              "    </tr>\n",
              "    <tr>\n",
              "      <th>...</th>\n",
              "      <td>...</td>\n",
              "      <td>...</td>\n",
              "      <td>...</td>\n",
              "      <td>...</td>\n",
              "      <td>...</td>\n",
              "      <td>...</td>\n",
              "      <td>...</td>\n",
              "    </tr>\n",
              "    <tr>\n",
              "      <th>198</th>\n",
              "      <td>219</td>\n",
              "      <td>Gabon</td>\n",
              "      <td>52.1</td>\n",
              "      <td>51.6</td>\n",
              "      <td>52.5</td>\n",
              "      <td>Africa</td>\n",
              "      <td>2</td>\n",
              "    </tr>\n",
              "    <tr>\n",
              "      <th>199</th>\n",
              "      <td>220</td>\n",
              "      <td>Swaziland</td>\n",
              "      <td>51.6</td>\n",
              "      <td>52.2</td>\n",
              "      <td>51.0</td>\n",
              "      <td>Africa</td>\n",
              "      <td>2</td>\n",
              "    </tr>\n",
              "    <tr>\n",
              "      <th>200</th>\n",
              "      <td>221</td>\n",
              "      <td>Afghanistan</td>\n",
              "      <td>51.3</td>\n",
              "      <td>49.9</td>\n",
              "      <td>52.7</td>\n",
              "      <td>Asia</td>\n",
              "      <td>2</td>\n",
              "    </tr>\n",
              "    <tr>\n",
              "      <th>201</th>\n",
              "      <td>222</td>\n",
              "      <td>Guinea-Bissau</td>\n",
              "      <td>50.6</td>\n",
              "      <td>48.6</td>\n",
              "      <td>52.7</td>\n",
              "      <td>Africa</td>\n",
              "      <td>2</td>\n",
              "    </tr>\n",
              "    <tr>\n",
              "      <th>202</th>\n",
              "      <td>223</td>\n",
              "      <td>Chad</td>\n",
              "      <td>50.2</td>\n",
              "      <td>49.0</td>\n",
              "      <td>51.3</td>\n",
              "      <td>Africa</td>\n",
              "      <td>2</td>\n",
              "    </tr>\n",
              "  </tbody>\n",
              "</table>\n",
              "<p>203 rows × 7 columns</p>\n",
              "</div>"
            ],
            "text/plain": [
              "     Rank        Country  Overall Life  Male Life  Female Life Continent  \\\n",
              "0       1         Monaco          89.5       85.6         93.5    Europe   \n",
              "1       2          Japan          85.0       81.7         88.5      Asia   \n",
              "2       3      Singapore          85.0       82.3         87.8      Asia   \n",
              "3       4   Macau; China          84.5       81.6         87.6      Asia   \n",
              "4       5     San Marino          83.3       80.7         86.1    Europe   \n",
              "..    ...            ...           ...        ...          ...       ...   \n",
              "198   219          Gabon          52.1       51.6         52.5    Africa   \n",
              "199   220      Swaziland          51.6       52.2         51.0    Africa   \n",
              "200   221    Afghanistan          51.3       49.9         52.7      Asia   \n",
              "201   222  Guinea-Bissau          50.6       48.6         52.7    Africa   \n",
              "202   223           Chad          50.2       49.0         51.3    Africa   \n",
              "\n",
              "     cluster_kmeans  \n",
              "0                 3  \n",
              "1                 3  \n",
              "2                 3  \n",
              "3                 3  \n",
              "4                 3  \n",
              "..              ...  \n",
              "198               2  \n",
              "199               2  \n",
              "200               2  \n",
              "201               2  \n",
              "202               2  \n",
              "\n",
              "[203 rows x 7 columns]"
            ]
          },
          "execution_count": 41,
          "metadata": {},
          "output_type": "execute_result"
        }
      ],
      "source": [
        "Cluster"
      ]
    },
    {
      "cell_type": "markdown",
      "metadata": {
        "id": "g-CzJHGwmiI7"
      },
      "source": [
        "### 2D mapping"
      ]
    },
    {
      "cell_type": "code",
      "execution_count": 42,
      "metadata": {
        "id": "z_Hs2-ILmiI7"
      },
      "outputs": [
        {
          "data": {
            "image/png": "[encoded data removed]",
            "text/plain": [
              "<Figure size 1296x360 with 1 Axes>"
            ]
          },
          "metadata": {},
          "output_type": "display_data"
        }
      ],
      "source": [
        "pca_2d = PCA(n_components=2, random_state=26)\n",
        "X_2d  = pca_2d.fit_transform(X_reduced)\n",
        "\n",
        "plt.figure(figsize=(18, 5))\n",
        "sns.scatterplot(x=X_2d[:, 0], y=X_2d[:, 1])\n",
        "plt.xlabel('PC1')\n",
        "plt.ylabel('PC2')\n",
        "plt.title('PCA with 2 components')\n",
        "plt.show()"
      ]
    },
    {
      "cell_type": "code",
      "execution_count": 43,
      "metadata": {
        "id": "JHWjraOYmiI8"
      },
      "outputs": [
        {
          "data": {
            "image/png": "[encoded data removed]",
            "text/plain": [
              "<Figure size 1296x360 with 1 Axes>"
            ]
          },
          "metadata": {},
          "output_type": "display_data"
        }
      ],
      "source": [
        "plt.figure(figsize=(18, 5))\n",
        "sns.scatterplot(x=X_2d[:, 0], y=X_2d[:, 1], hue=kmeans.labels_, palette='Set1')\n",
        "plt.xlabel('PC1')\n",
        "plt.ylabel('PC2')\n",
        "plt.title('KMeans Clusters')\n",
        "\n",
        "plt.show()"
      ]
    },
    {
      "cell_type": "markdown",
      "metadata": {},
      "source": [
        "dilihat dari 2D mapping, K means menunjukkan hasil clustering dengan batas antar cluster yang lebih tegas (tidak terdapat data yang menumpuk ke cluster lainnya."
      ]
    },
    {
      "cell_type": "markdown",
      "metadata": {
        "id": "c2gHgbYvmiI9"
      },
      "source": [
        "### Silhouette Score"
      ]
    },
    {
      "cell_type": "code",
      "execution_count": 44,
      "metadata": {
        "id": "EVgogvaUmiI9"
      },
      "outputs": [
        {
          "name": "stdout",
          "output_type": "stream",
          "text": [
            "silhouette score KMeans :  0.5326596599987266\n"
          ]
        }
      ],
      "source": [
        "print(\"silhouette score KMeans : \",silhouette_score(X_reduced,kmeans.labels_))"
      ]
    },
    {
      "cell_type": "markdown",
      "metadata": {},
      "source": [
        "Seperti hasil analisis pada 2D hasil silhouette score juga menunjukkan bahwa K means menunjukkan performa yang bagus. Semakin mendekati 1 maka clustering semakin baik tidak adanya data yang mengalami kesalahan berada pada cluster yang salah."
      ]
    },
    {
      "cell_type": "markdown",
      "metadata": {
        "id": "bfyiukQImiI9"
      },
      "source": [
        "# EDA after clustering"
      ]
    },
    {
      "cell_type": "markdown",
      "metadata": {},
      "source": [
        "Setelah clustering dilakukan, maka EDA perlu di lakukan sekali lagi untuk melihat dan menganalisa hasil clustering."
      ]
    },
    {
      "cell_type": "code",
      "execution_count": 45,
      "metadata": {
        "id": "8pKQOqUsmiI-"
      },
      "outputs": [
        {
          "data": {
            "text/html": [
              "<div>\n",
              "<style scoped>\n",
              "    .dataframe tbody tr th:only-of-type {\n",
              "        vertical-align: middle;\n",
              "    }\n",
              "\n",
              "    .dataframe tbody tr th {\n",
              "        vertical-align: top;\n",
              "    }\n",
              "\n",
              "    .dataframe thead th {\n",
              "        text-align: right;\n",
              "    }\n",
              "</style>\n",
              "<table border=\"1\" class=\"dataframe\">\n",
              "  <thead>\n",
              "    <tr style=\"text-align: right;\">\n",
              "      <th></th>\n",
              "      <th>Rank</th>\n",
              "      <th>Country</th>\n",
              "      <th>Overall Life</th>\n",
              "      <th>Male Life</th>\n",
              "      <th>Female Life</th>\n",
              "      <th>Continent</th>\n",
              "      <th>cluster_kmeans</th>\n",
              "    </tr>\n",
              "  </thead>\n",
              "  <tbody>\n",
              "    <tr>\n",
              "      <th>0</th>\n",
              "      <td>1</td>\n",
              "      <td>Monaco</td>\n",
              "      <td>89.5</td>\n",
              "      <td>85.6</td>\n",
              "      <td>93.5</td>\n",
              "      <td>Europe</td>\n",
              "      <td>3</td>\n",
              "    </tr>\n",
              "    <tr>\n",
              "      <th>1</th>\n",
              "      <td>2</td>\n",
              "      <td>Japan</td>\n",
              "      <td>85.0</td>\n",
              "      <td>81.7</td>\n",
              "      <td>88.5</td>\n",
              "      <td>Asia</td>\n",
              "      <td>3</td>\n",
              "    </tr>\n",
              "    <tr>\n",
              "      <th>2</th>\n",
              "      <td>3</td>\n",
              "      <td>Singapore</td>\n",
              "      <td>85.0</td>\n",
              "      <td>82.3</td>\n",
              "      <td>87.8</td>\n",
              "      <td>Asia</td>\n",
              "      <td>3</td>\n",
              "    </tr>\n",
              "    <tr>\n",
              "      <th>3</th>\n",
              "      <td>4</td>\n",
              "      <td>Macau; China</td>\n",
              "      <td>84.5</td>\n",
              "      <td>81.6</td>\n",
              "      <td>87.6</td>\n",
              "      <td>Asia</td>\n",
              "      <td>3</td>\n",
              "    </tr>\n",
              "    <tr>\n",
              "      <th>4</th>\n",
              "      <td>5</td>\n",
              "      <td>San Marino</td>\n",
              "      <td>83.3</td>\n",
              "      <td>80.7</td>\n",
              "      <td>86.1</td>\n",
              "      <td>Europe</td>\n",
              "      <td>3</td>\n",
              "    </tr>\n",
              "    <tr>\n",
              "      <th>...</th>\n",
              "      <td>...</td>\n",
              "      <td>...</td>\n",
              "      <td>...</td>\n",
              "      <td>...</td>\n",
              "      <td>...</td>\n",
              "      <td>...</td>\n",
              "      <td>...</td>\n",
              "    </tr>\n",
              "    <tr>\n",
              "      <th>198</th>\n",
              "      <td>219</td>\n",
              "      <td>Gabon</td>\n",
              "      <td>52.1</td>\n",
              "      <td>51.6</td>\n",
              "      <td>52.5</td>\n",
              "      <td>Africa</td>\n",
              "      <td>2</td>\n",
              "    </tr>\n",
              "    <tr>\n",
              "      <th>199</th>\n",
              "      <td>220</td>\n",
              "      <td>Swaziland</td>\n",
              "      <td>51.6</td>\n",
              "      <td>52.2</td>\n",
              "      <td>51.0</td>\n",
              "      <td>Africa</td>\n",
              "      <td>2</td>\n",
              "    </tr>\n",
              "    <tr>\n",
              "      <th>200</th>\n",
              "      <td>221</td>\n",
              "      <td>Afghanistan</td>\n",
              "      <td>51.3</td>\n",
              "      <td>49.9</td>\n",
              "      <td>52.7</td>\n",
              "      <td>Asia</td>\n",
              "      <td>2</td>\n",
              "    </tr>\n",
              "    <tr>\n",
              "      <th>201</th>\n",
              "      <td>222</td>\n",
              "      <td>Guinea-Bissau</td>\n",
              "      <td>50.6</td>\n",
              "      <td>48.6</td>\n",
              "      <td>52.7</td>\n",
              "      <td>Africa</td>\n",
              "      <td>2</td>\n",
              "    </tr>\n",
              "    <tr>\n",
              "      <th>202</th>\n",
              "      <td>223</td>\n",
              "      <td>Chad</td>\n",
              "      <td>50.2</td>\n",
              "      <td>49.0</td>\n",
              "      <td>51.3</td>\n",
              "      <td>Africa</td>\n",
              "      <td>2</td>\n",
              "    </tr>\n",
              "  </tbody>\n",
              "</table>\n",
              "<p>203 rows × 7 columns</p>\n",
              "</div>"
            ],
            "text/plain": [
              "     Rank        Country  Overall Life  Male Life  Female Life Continent  \\\n",
              "0       1         Monaco          89.5       85.6         93.5    Europe   \n",
              "1       2          Japan          85.0       81.7         88.5      Asia   \n",
              "2       3      Singapore          85.0       82.3         87.8      Asia   \n",
              "3       4   Macau; China          84.5       81.6         87.6      Asia   \n",
              "4       5     San Marino          83.3       80.7         86.1    Europe   \n",
              "..    ...            ...           ...        ...          ...       ...   \n",
              "198   219          Gabon          52.1       51.6         52.5    Africa   \n",
              "199   220      Swaziland          51.6       52.2         51.0    Africa   \n",
              "200   221    Afghanistan          51.3       49.9         52.7      Asia   \n",
              "201   222  Guinea-Bissau          50.6       48.6         52.7    Africa   \n",
              "202   223           Chad          50.2       49.0         51.3    Africa   \n",
              "\n",
              "     cluster_kmeans  \n",
              "0                 3  \n",
              "1                 3  \n",
              "2                 3  \n",
              "3                 3  \n",
              "4                 3  \n",
              "..              ...  \n",
              "198               2  \n",
              "199               2  \n",
              "200               2  \n",
              "201               2  \n",
              "202               2  \n",
              "\n",
              "[203 rows x 7 columns]"
            ]
          },
          "execution_count": 45,
          "metadata": {},
          "output_type": "execute_result"
        }
      ],
      "source": [
        "Cluster"
      ]
    },
    {
      "cell_type": "code",
      "execution_count": 46,
      "metadata": {
        "id": "dhABc4RhmiI-"
      },
      "outputs": [
        {
          "data": {
            "image/png": "[encoded data removed]",
            "text/plain": [
              "<Figure size 288x360 with 1 Axes>"
            ]
          },
          "metadata": {},
          "output_type": "display_data"
        }
      ],
      "source": [
        "plt.figure(figsize=(4, 5))\n",
        "sns.countplot(data=Cluster, x='cluster_kmeans', palette='Set1')\n",
        "plt.title('Kmeans Cluster Distribution')\n",
        "plt.show()"
      ]
    },
    {
      "cell_type": "markdown",
      "metadata": {},
      "source": [
        "Hasil Clustering menunjukkan bahwa terdapat 2 cluster yang dominan dibanding cluster lain. Cluster ini dapat dilihat lebih lanjut pada proses EDA."
      ]
    },
    {
      "cell_type": "code",
      "execution_count": 47,
      "metadata": {
        "id": "bcm9OypemiI_"
      },
      "outputs": [],
      "source": [
        "#Pemisahan cluster\n",
        "cluster0 = Cluster[(Cluster['cluster_kmeans'] == 0)]\n",
        "cluster1 = Cluster[(Cluster['cluster_kmeans'] == 1)]\n",
        "cluster2 = Cluster[(Cluster['cluster_kmeans'] == 2)]\n",
        "cluster3 = Cluster[(Cluster['cluster_kmeans'] == 3)]"
      ]
    },
    {
      "cell_type": "code",
      "execution_count": 48,
      "metadata": {
        "id": "2lC-Zm5mmiI_"
      },
      "outputs": [],
      "source": [
        "#membuat data summary\n",
        "summary = pd.DataFrame()\n",
        "summary['cluster'] = [0,1,2,3]\n",
        "\n",
        "for i in num_col:\n",
        "    data = []\n",
        "    data.append(cluster0[i].mean())\n",
        "    data.append(cluster1[i].mean())\n",
        "    data.append(cluster2[i].mean())\n",
        "    data.append(cluster3[i].mean())\n",
        "\n",
        "    summary[i] = data\n",
        "    \n"
      ]
    },
    {
      "cell_type": "code",
      "execution_count": 49,
      "metadata": {},
      "outputs": [
        {
          "data": {
            "image/png": "[encoded data removed]",
            "text/plain": [
              "<Figure size 720x432 with 1 Axes>"
            ]
          },
          "metadata": {},
          "output_type": "display_data"
        }
      ],
      "source": [
        "#plotting setiap cluster\n",
        "summary_plot = summary.set_index('cluster')\n",
        "summary_plot.plot(kind='bar', figsize=(10, 6),)\n",
        "\n",
        "plt.xlabel('cluster') # add to x-label to the plot\n",
        "plt.ylabel('life expectancy mean') # add y-label to the plot\n",
        "plt.title('overal life, male life, female life per cluster') # add title to the plot\n",
        "\n",
        "plt.show()"
      ]
    },
    {
      "cell_type": "code",
      "execution_count": 50,
      "metadata": {},
      "outputs": [
        {
          "data": {
            "text/html": [
              "<div>\n",
              "<style scoped>\n",
              "    .dataframe tbody tr th:only-of-type {\n",
              "        vertical-align: middle;\n",
              "    }\n",
              "\n",
              "    .dataframe tbody tr th {\n",
              "        vertical-align: top;\n",
              "    }\n",
              "\n",
              "    .dataframe thead th {\n",
              "        text-align: right;\n",
              "    }\n",
              "</style>\n",
              "<table border=\"1\" class=\"dataframe\">\n",
              "  <thead>\n",
              "    <tr style=\"text-align: right;\">\n",
              "      <th></th>\n",
              "      <th>cluster</th>\n",
              "      <th>Overall Life</th>\n",
              "      <th>Male Life</th>\n",
              "      <th>Female Life</th>\n",
              "    </tr>\n",
              "  </thead>\n",
              "  <tbody>\n",
              "    <tr>\n",
              "      <th>0</th>\n",
              "      <td>0</td>\n",
              "      <td>74.959494</td>\n",
              "      <td>72.317722</td>\n",
              "      <td>77.726582</td>\n",
              "    </tr>\n",
              "    <tr>\n",
              "      <th>1</th>\n",
              "      <td>1</td>\n",
              "      <td>66.535135</td>\n",
              "      <td>63.956757</td>\n",
              "      <td>69.005405</td>\n",
              "    </tr>\n",
              "    <tr>\n",
              "      <th>2</th>\n",
              "      <td>2</td>\n",
              "      <td>55.548000</td>\n",
              "      <td>54.256000</td>\n",
              "      <td>56.872000</td>\n",
              "    </tr>\n",
              "    <tr>\n",
              "      <th>3</th>\n",
              "      <td>3</td>\n",
              "      <td>80.838710</td>\n",
              "      <td>78.248387</td>\n",
              "      <td>83.582258</td>\n",
              "    </tr>\n",
              "  </tbody>\n",
              "</table>\n",
              "</div>"
            ],
            "text/plain": [
              "   cluster  Overall Life  Male Life  Female Life\n",
              "0        0     74.959494  72.317722    77.726582\n",
              "1        1     66.535135  63.956757    69.005405\n",
              "2        2     55.548000  54.256000    56.872000\n",
              "3        3     80.838710  78.248387    83.582258"
            ]
          },
          "execution_count": 50,
          "metadata": {},
          "output_type": "execute_result"
        }
      ],
      "source": [
        "summary"
      ]
    },
    {
      "cell_type": "markdown",
      "metadata": {},
      "source": [
        "Dari grafik dan tabel diatas diketahui bahwa masing masing cluster memiliki ciri khas nya\n",
        "Cluster 0 merupakan cluster dengan life expectancy tertinggi ke 2 dengan kisaran antara 72-78 tahun\n",
        "Cluster 1 merupakan cluster dengan life expectancy terendah ke 2 dengan kisaran usia antara 63-69 tahun\n",
        "Cluster 2 merupakan cluster dengan life expectancy paling rendah dengan kisaran usia antara 54-57 tahun\n",
        "Cluster 3 merupakan cluster dengan life expectancy paling rendah dengan kisaran usia antara 80-84 tahun"
      ]
    },
    {
      "cell_type": "code",
      "execution_count": 51,
      "metadata": {},
      "outputs": [],
      "source": [
        "#grup setiap cluster berdasarkan continent\n",
        "cluster_0 = cluster0.groupby([\"Continent\"])[[\"Continent\"]].count()\n",
        "cluster_1 = cluster1.groupby([\"Continent\"])[[\"Continent\"]].count()\n",
        "cluster_2 = cluster2.groupby([\"Continent\"])[[\"Continent\"]].count()\n",
        "cluster_3 = cluster3.groupby([\"Continent\"])[[\"Continent\"]].count()\n"
      ]
    },
    {
      "cell_type": "code",
      "execution_count": 52,
      "metadata": {},
      "outputs": [
        {
          "data": {
            "image/png": "[encoded data removed]",
            "text/plain": [
              "<Figure size 1872x360 with 4 Axes>"
            ]
          },
          "metadata": {},
          "output_type": "display_data"
        }
      ],
      "source": [
        "#plot pie chart setiap cluster\n",
        "plt.figure(figsize=(26, 5))\n",
        "\n",
        "plt.subplot(1,4,1)\n",
        "cluster_0.iloc[:,0].plot(kind='pie', autopct='%1.1f%%', startangle=90, shadow=False)      \n",
        "plt.title('Cluster 0')\n",
        "plt.ylabel('')\n",
        "plt.axis('equal') # Sets the pie chart to look like a circle.\n",
        "\n",
        "plt.subplot(1,4,2)\n",
        "cluster_1.iloc[:,0].plot(kind='pie', autopct='%1.1f%%', startangle=90, shadow=False)      \n",
        "plt.title('Cluster 1')\n",
        "plt.ylabel('')\n",
        "plt.axis('equal') # Sets the pie chart to look like a circle.\n",
        "\n",
        "plt.subplot(1,4,3)\n",
        "cluster_2.iloc[:,0].plot(kind='pie', autopct='%1.1f%%', startangle=90, shadow=False)      \n",
        "plt.title('Cluster 2')\n",
        "plt.ylabel('')\n",
        "plt.axis('equal') # Sets the pie chart to look like a circle.\n",
        "\n",
        "plt.subplot(1,4,4)\n",
        "cluster_3.iloc[:,0].plot(kind='pie', autopct='%1.1f%%', startangle=90, shadow=False)      \n",
        "plt.title('Cluster 3')\n",
        "plt.ylabel('')\n",
        "plt.axis('equal') # Sets the pie chart to look like a circle.\n",
        "\n",
        "plt.show()"
      ]
    },
    {
      "cell_type": "markdown",
      "metadata": {},
      "source": [
        "Sesuai dengan EDA di awal bahwa mayoritas Afrika akan berada pada cluster dimana life expectancy rendah yakni cluster 1 dan 2 (terendah dan kedua terendah), lalu eropa akan berada pada cluster dengan life expectancy tertingi yakni cluster 0 dan 3. Sisa continent akan menyebar di berbagai cluster dikarenakan bukan continent dengan life expenctancy yang ekstreme (telalu rendah atau tinggi)"
      ]
    },
    {
      "cell_type": "code",
      "execution_count": 53,
      "metadata": {},
      "outputs": [
        {
          "name": "stdout",
          "output_type": "stream",
          "text": [
            "Berikut adalah masing-masing negara sesuai kluster life expenctancy:\n",
            "Negara dengan life expectancy tertinggi (80-84 tahun):  ['Monaco' 'Japan' 'Singapore' 'Macau; China' 'San Marino' 'Iceland'\n",
            " 'Hong Kong, China' 'Andorra' 'Switzerland' 'Guernsey' 'Israel'\n",
            " 'South Korea' 'Luxembourg' 'Australia' 'Italy' 'Sweden' 'Canada' 'Jersey'\n",
            " 'Liechtenstein' 'France, metropolitan' 'Spain' 'Austria' 'Anguilla'\n",
            " 'Bermuda' 'Netherlands' 'Cayman Islands' 'Isle of Man' 'New Zealand'\n",
            " 'Belgium' 'Finland' 'Ireland' 'Germany' 'United Kingdom' 'Greece'\n",
            " 'Saint Pierre and Miquelon' 'Malta' 'European Union' 'Taiwan'\n",
            " 'U.S. Virgin Islands' 'Turks and Caicos Islands' 'United States'\n",
            " 'Wallis and Futuna' 'Saint Helena, Ascension and Tristan da Cunha'\n",
            " 'Denmark' 'Gibraltar' 'Puerto Rico' 'Portugal' 'Bahrain' 'Chile' 'Cuba'\n",
            " 'Cyprus' 'Qatar' 'British Virgin Islands' 'Costa Rica' 'Czech Republic'\n",
            " 'Panama' 'Albania' 'Slovenia' 'Dominican Republic' 'Sint Maarten'\n",
            " 'Kuwait' 'Northern Mariana Islands; US']\n",
            " \n",
            "Negara dengan life expectancy tertinggi ke 2 (72-78 tahun):  ['Falkland Islands' 'Saint Lucia' 'New Caledonia' 'Lebanon' 'Poland'\n",
            " 'United Arab Emirates' 'Brunei' 'French Polynesia' 'Paraguay' 'Uruguay'\n",
            " 'Argentina' 'Slovakia' 'Dominica' 'Morocco' 'Algeria' 'Aruba' 'Ecuador'\n",
            " 'Sri Lanka' 'Bosnia and Herzegovina' 'Estonia' 'Antigua and Barbuda'\n",
            " 'Libya' 'Georgia' 'Republic of Macedonia' 'Tonga' 'Croatia' 'Mexico'\n",
            " 'Venezuela' 'Colombia' 'Saint Kitts and Nevis' 'Maldives' 'Mauritius'\n",
            " 'Oman' \"People's Republic of China\" 'Serbia' 'American Samoa' 'Barbados'\n",
            " 'Saint Vincent and the Grenadines' 'Saudi Arabia' 'Solomon Islands'\n",
            " 'Romania' 'Malaysia' 'West Bank' 'Iraq' 'Syria' 'Turkey' 'El Salvador'\n",
            " 'Seychelles' 'Thailand' 'Jordan' 'Bulgaria' 'Latvia' 'Montserrat'\n",
            " 'Gaza Strip' 'Brazil' 'Uzbekistan' 'Peru' 'Samoa' 'Jamaica' 'Vanuatu'\n",
            " 'Vietnam' 'Nicaragua' 'Marshall Islands' 'Palau'\n",
            " 'Federated States of Micronesia' 'Trinidad and Tobago' 'Belarus' 'Egypt'\n",
            " 'Fiji' 'Azerbaijan' 'Greenland; Denmark' 'The Bahamas' 'Guatemala'\n",
            " 'Suriname' 'Cabo Verde' 'Ukraine' 'Iran' 'Honduras' 'Nepal']\n",
            " \n",
            "Negara dengan life expectancy terendah ke 2 (63-69 tahun):  ['Indonesia' 'Kazakhstan' 'Kyrgyzstan' 'North Korea' 'Russia' 'Bhutan'\n",
            " 'Turkmenistan' 'Mongolia' 'Bolivia' 'Philippines' 'Belize' 'India'\n",
            " 'Guyana' 'Timor-Leste' 'Pakistan' 'Tajikistan' 'Nauru' 'Ghana' 'Kiribati'\n",
            " 'Madagascar' 'Yemen' 'Togo' 'Eritrea' 'São Tomé and Príncipe'\n",
            " 'The Gambia' 'Laos' 'Comoros' 'Equatorial Guinea' 'Sudan' 'Kenya' 'Haiti'\n",
            " 'Namibia' 'South Africa' 'Ethiopia' 'Tanzania' 'Senegal' 'Malawi']\n",
            " \n",
            "Negara dengan life expectancy terendah (54-57 tahun):  ['Guinea' 'Burundi' 'Rwanda' 'Republic of the Congo' 'Liberia'\n",
            " \"Côte d'Ivoire\" 'Cameroon' 'Sierra Leone' 'Zimbabwe'\n",
            " 'Democratic Republic of the Congo' 'Angola' 'Mali' 'Burkina Faso' 'Niger'\n",
            " 'Uganda' 'Nigeria' 'Mozambique' 'Lesotho' 'Zambia'\n",
            " 'Central African Republic' 'Gabon' 'Swaziland' 'Afghanistan'\n",
            " 'Guinea-Bissau' 'Chad']\n"
          ]
        }
      ],
      "source": [
        "print('Berikut adalah masing-masing negara sesuai kluster life expenctancy:')\n",
        "print('Negara dengan life expectancy tertinggi (80-84 tahun): ', cluster3.Country.unique())\n",
        "print(' ')\n",
        "print('Negara dengan life expectancy tertinggi ke 2 (72-78 tahun): ', cluster0.Country.unique())\n",
        "print(' ')\n",
        "print('Negara dengan life expectancy terendah ke 2 (63-69 tahun): ', cluster1.Country.unique())\n",
        "print(' ')\n",
        "print('Negara dengan life expectancy terendah (54-57 tahun): ', cluster2.Country.unique())"
      ]
    },
    {
      "cell_type": "markdown",
      "metadata": {},
      "source": [
        "Dengan daftar negara berdasarkan clusternya sebagai berikut:\n",
        "\n",
        "1. Negara dengan life expectancy tertinggi (80-84 tahun):'Monaco' 'Japan' 'Singapore' 'Macau; China' 'San Marino' 'Iceland', 'Hong Kong, China' 'Andorra' 'Switzerland' 'Guernsey' 'Israel''South Korea' 'Luxembourg' 'Australia' 'Italy' 'Sweden' 'Canada' 'Jersey' 'Liechtenstein' 'France, metropolitan' 'Spain' 'Austria' 'Anguilla' 'Bermuda' 'Netherlands' 'Cayman Islands' 'Isle of Man' 'New Zealand' 'Belgium' 'Finland' 'Ireland' 'Germany' 'United Kingdom' 'Greece' 'Saint Pierre and Miquelon' 'Malta' 'European Union' 'Taiwan' 'U.S. Virgin Islands' 'Turks and Caicos Islands' 'United States' 'Wallis and Futuna' 'Saint Helena, Ascension and Tristan da Cunha' 'Denmark' 'Gibraltar' 'Puerto Rico' 'Portugal' 'Bahrain' 'Chile' 'Cuba' 'Cyprus' 'Qatar' 'British Virgin Islands' 'Costa Rica' 'Czech Republic' 'Panama' 'Albania' 'Slovenia' 'Dominican Republic' 'Sint Maarten' 'Kuwait' 'Northern Mariana Islands; US'\n",
        "\n",
        "\n",
        "2. Negara dengan life expectancy tertinggi ke 2 (72-78 tahun): 'Falkland Islands' 'Saint Lucia' 'New Caledonia' 'Lebanon' 'Poland' 'United Arab Emirates' 'Brunei' 'French Polynesia' 'Paraguay' 'Uruguay' 'Argentina' 'Slovakia' 'Dominica' 'Morocco' 'Algeria' 'Aruba' 'Ecuador' 'Sri Lanka' 'Bosnia and Herzegovina' 'Estonia' 'Antigua and Barbuda' 'Libya' 'Georgia' 'Republic of Macedonia' 'Tonga' 'Croatia' 'Mexico' 'Venezuela' 'Colombia' 'Saint Kitts and Nevis' 'Maldives' 'Mauritius' 'Oman' \"People's Republic of China\" 'Serbia' 'American Samoa' 'Barbados' 'Saint Vincent and the Grenadines' 'Saudi Arabia' 'Solomon Islands'\n",
        "'Romania' 'Malaysia' 'West Bank' 'Iraq' 'Syria' 'Turkey' 'El Salvador' 'Seychelles' 'Thailand' 'Jordan' 'Bulgaria' 'Latvia' 'Montserrat'\n",
        "'Gaza Strip' 'Brazil' 'Uzbekistan' 'Peru' 'Samoa' 'Jamaica' 'Vanuatu' 'Vietnam' 'Nicaragua' 'Marshall Islands' 'Palau' 'Federated States of Micronesia' 'Trinidad and Tobago' 'Belarus' 'Egypt' 'Fiji' 'Azerbaijan' 'Greenland; Denmark' 'The Bahamas' 'Guatemala' 'Suriname' 'Cabo Verde' 'Ukraine' 'Iran' 'Honduras' 'Nepal'\n",
        "\n",
        "3. Negara dengan life expectancy terendah ke 2 (63-69 tahun): 'Indonesia' 'Kazakhstan' 'Kyrgyzstan' 'North Korea' 'Russia' 'Bhutan' 'Turkmenistan' 'Mongolia' 'Bolivia' 'Philippines' 'Belize' 'India' 'Guyana' 'Timor-Leste' 'Pakistan' 'Tajikistan' 'Nauru' 'Ghana' 'Kiribati' 'Madagascar' 'Yemen' 'Togo' 'Eritrea' 'São Tomé and Príncipe' 'The Gambia' 'Laos' 'Comoros' 'Equatorial Guinea' 'Sudan' 'Kenya' 'Haiti' 'Namibia' 'South Africa' 'Ethiopia' 'Tanzania' 'Senegal' 'Malawi'\n",
        "\n",
        "4. Negara dengan life expectancy terendah (54-57 tahun):  'Guinea' 'Burundi' 'Rwanda' 'Republic of the Congo' 'Liberia' \"Côte d'Ivoire\" 'Cameroon' 'Sierra Leone' 'Zimbabwe' 'Democratic Republic of the Congo' 'Angola' 'Mali' 'Burkina Faso' 'Niger' 'Uganda' 'Nigeria' 'Mozambique' 'Lesotho' 'Zambia' 'Central African Republic' 'Gabon' 'Swaziland' 'Afghanistan' 'Guinea-Bissau' 'Chad'"
      ]
    },
    {
      "cell_type": "markdown",
      "metadata": {},
      "source": [
        "Hasil Clustering dinyatakan sudah cukup bagus dikarenakan perbedaan antar life expenctancy per cluster terlihat jelas, serta tidak ditemukannya negara yang berada pada 2 cluster berbeda"
      ]
    },
    {
      "cell_type": "markdown",
      "metadata": {
        "id": "1oNxN5OGOhD-"
      },
      "source": [
        "# Model Inference"
      ]
    },
    {
      "cell_type": "markdown",
      "metadata": {},
      "source": [
        "Lakukan model inference dengan data baru"
      ]
    },
    {
      "cell_type": "code",
      "execution_count": 54,
      "metadata": {
        "id": "FNE-TT0AmiJA"
      },
      "outputs": [
        {
          "data": {
            "text/html": [
              "<div>\n",
              "<style scoped>\n",
              "    .dataframe tbody tr th:only-of-type {\n",
              "        vertical-align: middle;\n",
              "    }\n",
              "\n",
              "    .dataframe tbody tr th {\n",
              "        vertical-align: top;\n",
              "    }\n",
              "\n",
              "    .dataframe thead th {\n",
              "        text-align: right;\n",
              "    }\n",
              "</style>\n",
              "<table border=\"1\" class=\"dataframe\">\n",
              "  <thead>\n",
              "    <tr style=\"text-align: right;\">\n",
              "      <th></th>\n",
              "      <th>Rank</th>\n",
              "      <th>Country</th>\n",
              "      <th>Overall Life</th>\n",
              "      <th>Male Life</th>\n",
              "      <th>Female Life</th>\n",
              "      <th>Continent</th>\n",
              "    </tr>\n",
              "  </thead>\n",
              "  <tbody>\n",
              "    <tr>\n",
              "      <th>0</th>\n",
              "      <td>172</td>\n",
              "      <td>Tuvalu</td>\n",
              "      <td>66.5</td>\n",
              "      <td>64.3</td>\n",
              "      <td>68.8</td>\n",
              "      <td>Oceania</td>\n",
              "    </tr>\n",
              "    <tr>\n",
              "      <th>1</th>\n",
              "      <td>123</td>\n",
              "      <td>Grenada</td>\n",
              "      <td>74.3</td>\n",
              "      <td>71.7</td>\n",
              "      <td>77.1</td>\n",
              "      <td>North America</td>\n",
              "    </tr>\n",
              "    <tr>\n",
              "      <th>2</th>\n",
              "      <td>217</td>\n",
              "      <td>Somalia</td>\n",
              "      <td>52.4</td>\n",
              "      <td>50.3</td>\n",
              "      <td>54.5</td>\n",
              "      <td>Africa</td>\n",
              "    </tr>\n",
              "  </tbody>\n",
              "</table>\n",
              "</div>"
            ],
            "text/plain": [
              "   Rank  Country  Overall Life  Male Life  Female Life      Continent\n",
              "0   172   Tuvalu          66.5       64.3         68.8        Oceania\n",
              "1   123  Grenada          74.3       71.7         77.1  North America\n",
              "2   217  Somalia          52.4       50.3         54.5         Africa"
            ]
          },
          "execution_count": 54,
          "metadata": {},
          "output_type": "execute_result"
        }
      ],
      "source": [
        "df_inf.head(3)"
      ]
    },
    {
      "cell_type": "code",
      "execution_count": 55,
      "metadata": {
        "id": "E50scfkNmiJA"
      },
      "outputs": [],
      "source": [
        "X_inf = df_inf[num_col]"
      ]
    },
    {
      "cell_type": "code",
      "execution_count": 56,
      "metadata": {
        "id": "x5_UC1aXmiJA"
      },
      "outputs": [
        {
          "data": {
            "text/plain": [
              "Overall Life    0\n",
              "Male Life       0\n",
              "Female Life     0\n",
              "dtype: int64"
            ]
          },
          "execution_count": 56,
          "metadata": {},
          "output_type": "execute_result"
        }
      ],
      "source": [
        "# Looking missing value in X_train\n",
        "X_inf.isnull().sum()\n"
      ]
    },
    {
      "cell_type": "markdown",
      "metadata": {},
      "source": [
        "Tidak ada missing value dan outliers merupakan natural outliers"
      ]
    },
    {
      "cell_type": "code",
      "execution_count": 57,
      "metadata": {
        "id": "cznmfmjmmiJB"
      },
      "outputs": [],
      "source": [
        "#lakukan scaling\n",
        "X_inf_scaled = scaler.transform(X_inf) \n",
        "X_inf_fin = pd.DataFrame( X_inf_scaled , columns=num_col)"
      ]
    },
    {
      "cell_type": "code",
      "execution_count": 58,
      "metadata": {
        "id": "7cP7n2F9miJB"
      },
      "outputs": [],
      "source": [
        "#lakukan pca\n",
        "X_inf_reduced = pca.transform(X_inf_fin)"
      ]
    },
    {
      "cell_type": "code",
      "execution_count": 59,
      "metadata": {
        "id": "tsPLqrpymiJC"
      },
      "outputs": [],
      "source": [
        "#apply model\n",
        "inf_cluster = df_inf.copy()\n",
        "\n",
        "inf_cluster['kmeans_cluster'] = kmeans.predict(X_inf_reduced)"
      ]
    },
    {
      "cell_type": "code",
      "execution_count": 60,
      "metadata": {
        "id": "H8xDwB5AmiJC"
      },
      "outputs": [
        {
          "data": {
            "image/png": "[encoded data removed]",
            "text/plain": [
              "<Figure size 864x360 with 1 Axes>"
            ]
          },
          "metadata": {},
          "output_type": "display_data"
        }
      ],
      "source": [
        "#show clustering result\n",
        "plt.figure(figsize=(12, 5))\n",
        "sns.countplot(data=inf_cluster, x='kmeans_cluster', palette='Set1')\n",
        "plt.title('Cluster Distribution')\n",
        "\n",
        "plt.show()"
      ]
    },
    {
      "cell_type": "code",
      "execution_count": 61,
      "metadata": {},
      "outputs": [
        {
          "data": {
            "text/html": [
              "<div>\n",
              "<style scoped>\n",
              "    .dataframe tbody tr th:only-of-type {\n",
              "        vertical-align: middle;\n",
              "    }\n",
              "\n",
              "    .dataframe tbody tr th {\n",
              "        vertical-align: top;\n",
              "    }\n",
              "\n",
              "    .dataframe thead th {\n",
              "        text-align: right;\n",
              "    }\n",
              "</style>\n",
              "<table border=\"1\" class=\"dataframe\">\n",
              "  <thead>\n",
              "    <tr style=\"text-align: right;\">\n",
              "      <th></th>\n",
              "      <th>Rank</th>\n",
              "      <th>Country</th>\n",
              "      <th>Overall Life</th>\n",
              "      <th>Male Life</th>\n",
              "      <th>Female Life</th>\n",
              "      <th>Continent</th>\n",
              "      <th>kmeans_cluster</th>\n",
              "    </tr>\n",
              "  </thead>\n",
              "  <tbody>\n",
              "    <tr>\n",
              "      <th>0</th>\n",
              "      <td>172</td>\n",
              "      <td>Tuvalu</td>\n",
              "      <td>66.5</td>\n",
              "      <td>64.3</td>\n",
              "      <td>68.8</td>\n",
              "      <td>Oceania</td>\n",
              "      <td>1</td>\n",
              "    </tr>\n",
              "    <tr>\n",
              "      <th>1</th>\n",
              "      <td>123</td>\n",
              "      <td>Grenada</td>\n",
              "      <td>74.3</td>\n",
              "      <td>71.7</td>\n",
              "      <td>77.1</td>\n",
              "      <td>North America</td>\n",
              "      <td>0</td>\n",
              "    </tr>\n",
              "    <tr>\n",
              "      <th>2</th>\n",
              "      <td>217</td>\n",
              "      <td>Somalia</td>\n",
              "      <td>52.4</td>\n",
              "      <td>50.3</td>\n",
              "      <td>54.5</td>\n",
              "      <td>Africa</td>\n",
              "      <td>2</td>\n",
              "    </tr>\n",
              "    <tr>\n",
              "      <th>3</th>\n",
              "      <td>21</td>\n",
              "      <td>Norway</td>\n",
              "      <td>81.8</td>\n",
              "      <td>79.8</td>\n",
              "      <td>83.9</td>\n",
              "      <td>Europe</td>\n",
              "      <td>3</td>\n",
              "    </tr>\n",
              "    <tr>\n",
              "      <th>4</th>\n",
              "      <td>37</td>\n",
              "      <td>Faroe Islands</td>\n",
              "      <td>80.4</td>\n",
              "      <td>77.8</td>\n",
              "      <td>83.1</td>\n",
              "      <td>Europe</td>\n",
              "      <td>3</td>\n",
              "    </tr>\n",
              "    <tr>\n",
              "      <th>5</th>\n",
              "      <td>180</td>\n",
              "      <td>Cambodia</td>\n",
              "      <td>64.5</td>\n",
              "      <td>62.0</td>\n",
              "      <td>67.1</td>\n",
              "      <td>Asia</td>\n",
              "      <td>1</td>\n",
              "    </tr>\n",
              "    <tr>\n",
              "      <th>6</th>\n",
              "      <td>188</td>\n",
              "      <td>Djibouti</td>\n",
              "      <td>63.2</td>\n",
              "      <td>60.7</td>\n",
              "      <td>65.8</td>\n",
              "      <td>Africa</td>\n",
              "      <td>1</td>\n",
              "    </tr>\n",
              "    <tr>\n",
              "      <th>7</th>\n",
              "      <td>168</td>\n",
              "      <td>Papua New Guinea</td>\n",
              "      <td>67.2</td>\n",
              "      <td>65.0</td>\n",
              "      <td>69.5</td>\n",
              "      <td>Oceania</td>\n",
              "      <td>1</td>\n",
              "    </tr>\n",
              "    <tr>\n",
              "      <th>8</th>\n",
              "      <td>132</td>\n",
              "      <td>Bangladesh</td>\n",
              "      <td>73.2</td>\n",
              "      <td>71.0</td>\n",
              "      <td>75.4</td>\n",
              "      <td>Asia</td>\n",
              "      <td>0</td>\n",
              "    </tr>\n",
              "    <tr>\n",
              "      <th>9</th>\n",
              "      <td>194</td>\n",
              "      <td>Benin</td>\n",
              "      <td>61.9</td>\n",
              "      <td>60.5</td>\n",
              "      <td>63.3</td>\n",
              "      <td>Africa</td>\n",
              "      <td>1</td>\n",
              "    </tr>\n",
              "    <tr>\n",
              "      <th>10</th>\n",
              "      <td>212</td>\n",
              "      <td>Botswana</td>\n",
              "      <td>54.5</td>\n",
              "      <td>56.3</td>\n",
              "      <td>52.6</td>\n",
              "      <td>Africa</td>\n",
              "      <td>2</td>\n",
              "    </tr>\n",
              "    <tr>\n",
              "      <th>11</th>\n",
              "      <td>170</td>\n",
              "      <td>Burma</td>\n",
              "      <td>66.6</td>\n",
              "      <td>64.2</td>\n",
              "      <td>69.2</td>\n",
              "      <td>Asia</td>\n",
              "      <td>1</td>\n",
              "    </tr>\n",
              "    <tr>\n",
              "      <th>12</th>\n",
              "      <td>153</td>\n",
              "      <td>Moldova</td>\n",
              "      <td>70.7</td>\n",
              "      <td>66.9</td>\n",
              "      <td>74.8</td>\n",
              "      <td>Europe</td>\n",
              "      <td>1</td>\n",
              "    </tr>\n",
              "    <tr>\n",
              "      <th>13</th>\n",
              "      <td>112</td>\n",
              "      <td>Lithuania</td>\n",
              "      <td>74.9</td>\n",
              "      <td>69.5</td>\n",
              "      <td>80.6</td>\n",
              "      <td>Europe</td>\n",
              "      <td>0</td>\n",
              "    </tr>\n",
              "    <tr>\n",
              "      <th>14</th>\n",
              "      <td>191</td>\n",
              "      <td>Mauritania</td>\n",
              "      <td>63.0</td>\n",
              "      <td>60.7</td>\n",
              "      <td>65.4</td>\n",
              "      <td>Africa</td>\n",
              "      <td>1</td>\n",
              "    </tr>\n",
              "    <tr>\n",
              "      <th>15</th>\n",
              "      <td>92</td>\n",
              "      <td>Hungary</td>\n",
              "      <td>75.9</td>\n",
              "      <td>72.2</td>\n",
              "      <td>79.8</td>\n",
              "      <td>Europe</td>\n",
              "      <td>0</td>\n",
              "    </tr>\n",
              "    <tr>\n",
              "      <th>16</th>\n",
              "      <td>90</td>\n",
              "      <td>Tunisia</td>\n",
              "      <td>76.1</td>\n",
              "      <td>74.0</td>\n",
              "      <td>78.4</td>\n",
              "      <td>Africa</td>\n",
              "      <td>0</td>\n",
              "    </tr>\n",
              "    <tr>\n",
              "      <th>17</th>\n",
              "      <td>94</td>\n",
              "      <td>Cook Islands</td>\n",
              "      <td>75.8</td>\n",
              "      <td>73.0</td>\n",
              "      <td>78.8</td>\n",
              "      <td>Oceania</td>\n",
              "      <td>0</td>\n",
              "    </tr>\n",
              "    <tr>\n",
              "      <th>18</th>\n",
              "      <td>118</td>\n",
              "      <td>Armenia</td>\n",
              "      <td>74.6</td>\n",
              "      <td>71.4</td>\n",
              "      <td>78.3</td>\n",
              "      <td>Europe</td>\n",
              "      <td>0</td>\n",
              "    </tr>\n",
              "    <tr>\n",
              "      <th>19</th>\n",
              "      <td>190</td>\n",
              "      <td>Western Sahara</td>\n",
              "      <td>63.0</td>\n",
              "      <td>60.7</td>\n",
              "      <td>65.4</td>\n",
              "      <td>Africa</td>\n",
              "      <td>1</td>\n",
              "    </tr>\n",
              "  </tbody>\n",
              "</table>\n",
              "</div>"
            ],
            "text/plain": [
              "    Rank           Country  Overall Life  Male Life  Female Life  \\\n",
              "0    172            Tuvalu          66.5       64.3         68.8   \n",
              "1    123           Grenada          74.3       71.7         77.1   \n",
              "2    217           Somalia          52.4       50.3         54.5   \n",
              "3     21            Norway          81.8       79.8         83.9   \n",
              "4     37     Faroe Islands          80.4       77.8         83.1   \n",
              "5    180          Cambodia          64.5       62.0         67.1   \n",
              "6    188          Djibouti          63.2       60.7         65.8   \n",
              "7    168  Papua New Guinea          67.2       65.0         69.5   \n",
              "8    132        Bangladesh          73.2       71.0         75.4   \n",
              "9    194             Benin          61.9       60.5         63.3   \n",
              "10   212          Botswana          54.5       56.3         52.6   \n",
              "11   170             Burma          66.6       64.2         69.2   \n",
              "12   153           Moldova          70.7       66.9         74.8   \n",
              "13   112         Lithuania          74.9       69.5         80.6   \n",
              "14   191        Mauritania          63.0       60.7         65.4   \n",
              "15    92           Hungary          75.9       72.2         79.8   \n",
              "16    90           Tunisia          76.1       74.0         78.4   \n",
              "17    94      Cook Islands          75.8       73.0         78.8   \n",
              "18   118           Armenia          74.6       71.4         78.3   \n",
              "19   190    Western Sahara          63.0       60.7         65.4   \n",
              "\n",
              "        Continent  kmeans_cluster  \n",
              "0         Oceania               1  \n",
              "1   North America               0  \n",
              "2          Africa               2  \n",
              "3          Europe               3  \n",
              "4          Europe               3  \n",
              "5            Asia               1  \n",
              "6          Africa               1  \n",
              "7         Oceania               1  \n",
              "8            Asia               0  \n",
              "9          Africa               1  \n",
              "10         Africa               2  \n",
              "11           Asia               1  \n",
              "12         Europe               1  \n",
              "13         Europe               0  \n",
              "14         Africa               1  \n",
              "15         Europe               0  \n",
              "16         Africa               0  \n",
              "17        Oceania               0  \n",
              "18         Europe               0  \n",
              "19         Africa               1  "
            ]
          },
          "execution_count": 61,
          "metadata": {},
          "output_type": "execute_result"
        }
      ],
      "source": [
        "inf_cluster"
      ]
    },
    {
      "cell_type": "code",
      "execution_count": 62,
      "metadata": {},
      "outputs": [
        {
          "data": {
            "text/html": [
              "<div>\n",
              "<style scoped>\n",
              "    .dataframe tbody tr th:only-of-type {\n",
              "        vertical-align: middle;\n",
              "    }\n",
              "\n",
              "    .dataframe tbody tr th {\n",
              "        vertical-align: top;\n",
              "    }\n",
              "\n",
              "    .dataframe thead th {\n",
              "        text-align: right;\n",
              "    }\n",
              "</style>\n",
              "<table border=\"1\" class=\"dataframe\">\n",
              "  <thead>\n",
              "    <tr style=\"text-align: right;\">\n",
              "      <th></th>\n",
              "      <th></th>\n",
              "      <th></th>\n",
              "      <th>Overall Life</th>\n",
              "    </tr>\n",
              "    <tr>\n",
              "      <th>kmeans_cluster</th>\n",
              "      <th>Continent</th>\n",
              "      <th>Country</th>\n",
              "      <th></th>\n",
              "    </tr>\n",
              "  </thead>\n",
              "  <tbody>\n",
              "    <tr>\n",
              "      <th rowspan=\"7\" valign=\"top\">0</th>\n",
              "      <th>Africa</th>\n",
              "      <th>Tunisia</th>\n",
              "      <td>76.1</td>\n",
              "    </tr>\n",
              "    <tr>\n",
              "      <th>Asia</th>\n",
              "      <th>Bangladesh</th>\n",
              "      <td>73.2</td>\n",
              "    </tr>\n",
              "    <tr>\n",
              "      <th rowspan=\"3\" valign=\"top\">Europe</th>\n",
              "      <th>Armenia</th>\n",
              "      <td>74.6</td>\n",
              "    </tr>\n",
              "    <tr>\n",
              "      <th>Hungary</th>\n",
              "      <td>75.9</td>\n",
              "    </tr>\n",
              "    <tr>\n",
              "      <th>Lithuania</th>\n",
              "      <td>74.9</td>\n",
              "    </tr>\n",
              "    <tr>\n",
              "      <th>North America</th>\n",
              "      <th>Grenada</th>\n",
              "      <td>74.3</td>\n",
              "    </tr>\n",
              "    <tr>\n",
              "      <th>Oceania</th>\n",
              "      <th>Cook Islands</th>\n",
              "      <td>75.8</td>\n",
              "    </tr>\n",
              "    <tr>\n",
              "      <th rowspan=\"9\" valign=\"top\">1</th>\n",
              "      <th rowspan=\"4\" valign=\"top\">Africa</th>\n",
              "      <th>Benin</th>\n",
              "      <td>61.9</td>\n",
              "    </tr>\n",
              "    <tr>\n",
              "      <th>Djibouti</th>\n",
              "      <td>63.2</td>\n",
              "    </tr>\n",
              "    <tr>\n",
              "      <th>Mauritania</th>\n",
              "      <td>63.0</td>\n",
              "    </tr>\n",
              "    <tr>\n",
              "      <th>Western Sahara</th>\n",
              "      <td>63.0</td>\n",
              "    </tr>\n",
              "    <tr>\n",
              "      <th rowspan=\"2\" valign=\"top\">Asia</th>\n",
              "      <th>Burma</th>\n",
              "      <td>66.6</td>\n",
              "    </tr>\n",
              "    <tr>\n",
              "      <th>Cambodia</th>\n",
              "      <td>64.5</td>\n",
              "    </tr>\n",
              "    <tr>\n",
              "      <th>Europe</th>\n",
              "      <th>Moldova</th>\n",
              "      <td>70.7</td>\n",
              "    </tr>\n",
              "    <tr>\n",
              "      <th rowspan=\"2\" valign=\"top\">Oceania</th>\n",
              "      <th>Papua New Guinea</th>\n",
              "      <td>67.2</td>\n",
              "    </tr>\n",
              "    <tr>\n",
              "      <th>Tuvalu</th>\n",
              "      <td>66.5</td>\n",
              "    </tr>\n",
              "    <tr>\n",
              "      <th rowspan=\"2\" valign=\"top\">2</th>\n",
              "      <th rowspan=\"2\" valign=\"top\">Africa</th>\n",
              "      <th>Botswana</th>\n",
              "      <td>54.5</td>\n",
              "    </tr>\n",
              "    <tr>\n",
              "      <th>Somalia</th>\n",
              "      <td>52.4</td>\n",
              "    </tr>\n",
              "    <tr>\n",
              "      <th rowspan=\"2\" valign=\"top\">3</th>\n",
              "      <th rowspan=\"2\" valign=\"top\">Europe</th>\n",
              "      <th>Faroe Islands</th>\n",
              "      <td>80.4</td>\n",
              "    </tr>\n",
              "    <tr>\n",
              "      <th>Norway</th>\n",
              "      <td>81.8</td>\n",
              "    </tr>\n",
              "  </tbody>\n",
              "</table>\n",
              "</div>"
            ],
            "text/plain": [
              "                                               Overall Life\n",
              "kmeans_cluster Continent     Country                       \n",
              "0              Africa        Tunisia                   76.1\n",
              "               Asia          Bangladesh                73.2\n",
              "               Europe        Armenia                   74.6\n",
              "                             Hungary                   75.9\n",
              "                             Lithuania                 74.9\n",
              "               North America Grenada                   74.3\n",
              "               Oceania       Cook Islands              75.8\n",
              "1              Africa        Benin                     61.9\n",
              "                             Djibouti                  63.2\n",
              "                             Mauritania                63.0\n",
              "                             Western Sahara            63.0\n",
              "               Asia          Burma                     66.6\n",
              "                             Cambodia                  64.5\n",
              "               Europe        Moldova                   70.7\n",
              "               Oceania       Papua New Guinea          67.2\n",
              "                             Tuvalu                    66.5\n",
              "2              Africa        Botswana                  54.5\n",
              "                             Somalia                   52.4\n",
              "3              Europe        Faroe Islands             80.4\n",
              "                             Norway                    81.8"
            ]
          },
          "execution_count": 62,
          "metadata": {},
          "output_type": "execute_result"
        }
      ],
      "source": [
        "inf_cluster.groupby(['kmeans_cluster','Continent','Country'])[[\"Overall Life\"]].mean()"
      ]
    },
    {
      "cell_type": "markdown",
      "metadata": {
        "id": "TP2DTxi6miJC"
      },
      "source": [
        "Berikut adalah hasil clustering terhadap inference, sesuai dengan hasil EDA awal dan X train, didapatkan hasil yang sama dengan dominan negara continent afrika berada pada cluster 2 (life expectancy terendah) dan 1 (life expectancy terendah kedua) sedangkan negara di kontinen europe berada pada cluster dengan life expectancy tinggi yakni 0 dan 3. Sedangkan negara dari continent lain tersebar ke berbagai cluster dengan life expectancy non extreme (tidak terlalu tinggi ataupun rendah)\n",
        "\n",
        "Hasil Clustering pada data inference dinyatakan sudah cukup bagus dikarenakan perbedaan antar life expenctancy per cluster terlihat jelas pada tabel diatas."
      ]
    },
    {
      "cell_type": "markdown",
      "metadata": {
        "id": "PeyezJ7gOmFo"
      },
      "source": [
        "# 10. Pengambilan Kesimpulan"
      ]
    },
    {
      "cell_type": "markdown",
      "metadata": {
        "id": "mUIfMVg6oABl"
      },
      "source": [
        "Kesimpulan:\n",
        "Dari proses EDA didapatkan:\n",
        "1. Overall life seluruh dunia berpusat pada umur 70-80\n",
        "2. Mayoritas negara memiliki ekspektasi umur Male_life hampir sama dengan overall life yakni pada 70-80 tahun, namun sedikit yang berada pada umur 80-90.\n",
        "3. Mayoritas negara memiliki ekspektasi umur Female_life pada 70-80 tahun, namun tidak sedikt yang berada pada umur 80-90 bahkan ada beberapa yang sampai umur 90-100 tahun.\n",
        "4. Overall Life Expectancy, Female Life dan Male Life, Continent Afrika jauh di bawah dibandingkan negara lain, dapat diperkirakan bahwa mayoritas negara Africa akan berpusat pada cluster dengan ekspektasi usia rendah. Begitu juga dengan Europe akan dominan berada pada cluster dengan life expectancy yang tinggi.\n",
        "\n",
        "Dari data proprocessing:\n",
        "1. Dari heatmap dapat diketahui bahwa feature memiliki korelasi satu dengan lainnya.\n",
        "2. Semua kolom numerik akan dipilih dikarenakan PCA hanya mengolah fitur-fitur numerik.\n",
        "3. Tidak terdapat missing value\n",
        "4. Scaling dilakukan dengan menggunakan minmaxscaller dikarenakan seluruh data memiliki distribusi skew.\n",
        "5. Outlier dianggap sebagai outlier natural dikarenakan berhubung dengan usia\n",
        "6. Jumlah dimensi yang direkomendasikan ditunjukkan dari banyaknya kolom dengan nilai VIF diatas 5 yakni 3 dimensi\n",
        "7. Melihat dari hasil ELbow dan silhouette, jumlah cluster yang direkomendasikan adalah 4. Maka model yang dikembangkan akan menggunakan 4 cluster.\n",
        "\n",
        "Dari model evaluation:\n",
        "1. Dilihat dari 2D mapping, K means menunjukkan hasil clustering dengan batas antar cluster yang lebih tegas (tidak terdapat data yang menumpuk ke cluster lainnya.\n",
        "2. Seperti hasil analisis pada 2D hasil silhouette score juga menunjukkan bahwa K means menunjukkan performa yang bagus.\n",
        "3. \n",
        "\n",
        "Dari hasil EDA X:\n",
        "1. Masing masing cluster memiliki ciri khas nya\n",
        "Cluster 0 merupakan cluster dengan life expectancy tertinggi ke 2 dengan kisaran antara 72-78 tahun\n",
        "Cluster 1 merupakan cluster dengan life expectancy terendah ke 2 dengan kisaran usia antara 63-69 tahun\n",
        "Cluster 2 merupakan cluster dengan life expectancy paling rendah dengan kisaran usia antara 54-57 tahun\n",
        "Cluster 3 merupakan cluster dengan life expectancy paling rendah dengan kisaran usia antara 80-84 tahun\n",
        "\n",
        "2. Hasil clustering sesuai dengan EDA di awal, yang menunjukkan mayoritas Afrika akan berada pada cluster dimana life expectancy rendah yakni cluster 1 dan 2 (terendah dan kedua terendah), lalu eropa akan berada pada cluster dengan life expectancy tertingi yakni cluster 0 dan 3. Sisa continent akan menyebar di berbagai cluster dikarenakan bukan continent dengan life expenctancy yang ekstreme (telalu rendah atau tinggi)\n",
        "3. Hasil Clustering dinyatakan sudah cukup bagus dikarenakan perbedaan antar life expenctancy per cluster terlihat jelas, serta tidak ditemukannya negara yang berada di 2 cluster berbeda.\n",
        "\n",
        "\n",
        "Dari model inference:\n",
        "1. Sesuai dengan hasil EDA awal dan X train, didapatkan hasil yang sama dengan dominan negara continent afrika berada pada cluster dengan life expectancy rendah) 2 dan 1 sedangkan negara di kontinen europe berada pada cluster dengan life expectancy tinggi yakni 0 dan 3. Sedangkan negara dari continent lain tersebar ke berbagai cluster dengan life expectancy non extreme (tidak terlalu tinggi ataupun rendah)\n",
        "2. Hasil Clustering pada data inference dinyatakan sudah cukup bagus dikarenakan perbedaan antar life expenctancy per cluster terlihat jelas\n",
        "\n",
        "\n",
        "Saran Pengembangan:\n",
        "1. Mencoba dengan jumlah cluster 3 atau lainnya.\n",
        "2. Handling outliers untuk melihat dampaknya terhadap hasil clustering.\n",
        "3. Menggunakan model lain.\n",
        "4. Menambahkan feature kategori yang telah di encoding menjadi numerik.\n"
      ]
    },
    {
      "cell_type": "markdown",
      "metadata": {},
      "source": [
        "Jawaban dari Problems:\n",
        "\n",
        "Pada bagian eksplorasi data, apa insight menarik yang bisa kamu ceritakan ?\n",
        "1. Overall life seluruh dunia berpusat pada umur 70-80\n",
        "2. Mayoritas negara memiliki ekspektasi umur Male_life hampir sama dengan overall life yakni pada 70-80 tahun, namun sedikit yang berada pada umur 80-90.\n",
        "3. Mayoritas negara memiliki ekspektasi umur Female_life pada 70-80 tahun, namun tidak sedikt yang berada pada umur 80-90 bahkan ada beberapa yang sampai umur 90-100 tahun.\n",
        "4. Overall Life Expectancy, Female Life dan Male Life, Continent Afrika jauh di bawah dibandingkan negara lain, dapat diperkirakan bahwa mayoritas negara Africa akan berpusat pada cluster dengan ekspektasi usia rendah. Begitu juga dengan Europe akan dominan berada pada cluster dengan life expectancy yang tinggi.\n",
        "\n",
        "\n",
        "Berapa cluster yang berhasil kamu peroleh dari dataset tersebut ? Apakah sudah optimal ? Visualisasikan hasil clustering yang kamu peroleh dengan plot 2 dimensi dimana 2 dimensi tersebut merupakan dimensi yang diperoleh dari hasil reduksi dimensi.\n",
        "4, sudah optimal, namun bisa dikembangkan lebih jauh lagi. Sudah divisualisasikan.\n",
        "\n",
        "Bagaimana karakteristik dari masing-masing cluster ? Bisakah kamu visualisasikan dan ceritakan ?\n",
        "Cluster 0 merupakan cluster dengan life expectancy tertinggi ke 2 dengan kisaran antara 72-78 tahun\n",
        "Cluster 1 merupakan cluster dengan life expectancy terendah ke 2 dengan kisaran usia antara 63-69 tahun\n",
        "Cluster 2 merupakan cluster dengan life expectancy paling rendah dengan kisaran usia antara 54-57 tahun\n",
        "Cluster 3 merupakan cluster dengan life expectancy paling rendah dengan kisaran usia antara 80-84 tahun\n",
        "Note: gambar/visualisasi dan penjelasn lebih lanjut dapat dilihat pada EDA X.\n",
        "\n",
        "Apa insight menarik yang kamu peroleh dari jawaban/analisa nomor 3 ?\n",
        "Masing-masing cluster punya ciri khasnya masing-masing sesuai dengan life expectancynya. Danmasing-masing cluster mencakup negara nya masing-masing (secara eksklusif)\n",
        "\n",
        "Dibandingkan dengan EDA, apakah ada kesamaan dari hasil clustering yang kamu peroleh ? Ceritakan analisamu !\n",
        "Sesuai dengan hasil EDA awal dan X train, didapatkan hasil yang sama dengan dominan negara continent afrika berada pada cluster dengan life expectancy rendah) 2 dan 1 sedangkan negara di kontinen europe berada pada cluster dengan life expectancy tinggi yakni 0 dan 3. Sedangkan negara dari continent lain tersebar ke berbagai cluster dengan life expectancy non extreme (tidak terlalu tinggi ataupun rendah)"
      ]
    }
  ],
  "metadata": {
    "colab": {
      "collapsed_sections": [
        "bfyiukQImiI9",
        "VvtFp1v3miI-",
        "1oNxN5OGOhD-",
        "PeyezJ7gOmFo",
        "B4_w8MqmPKQD"
      ],
      "name": "submit3.ipynb",
      "provenance": [],
      "toc_visible": true
    },
    "kernelspec": {
      "display_name": "Python 3.7.0 ('base')",
      "language": "python",
      "name": "python3"
    },
    "language_info": {
      "codemirror_mode": {
        "name": "ipython",
        "version": 3
      },
      "file_extension": ".py",
      "mimetype": "text/x-python",
      "name": "python",
      "nbconvert_exporter": "python",
      "pygments_lexer": "ipython3",
      "version": "3.7.0"
    },
    "orig_nbformat": 4,
    "vscode": {
      "interpreter": {
        "hash": "ad2bdc8ecc057115af97d19610ffacc2b4e99fae6737bb82f5d7fb13d2f2c186"
      }
    }
  },
  "nbformat": 4,
  "nbformat_minor": 0
}
